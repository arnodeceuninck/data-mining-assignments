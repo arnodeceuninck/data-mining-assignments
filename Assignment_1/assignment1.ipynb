{
 "cells": [
  {
   "cell_type": "markdown",
   "source": [
    "# Import data\n",
    "This is the code from the assignment to load the data."
   ],
   "metadata": {
    "collapsed": false,
    "pycharm": {
     "name": "#%% md\n"
    }
   }
  },
  {
   "cell_type": "code",
   "execution_count": 11,
   "outputs": [
    {
     "data": {
      "text/plain": "[{5614842, 5766379},\n {5861791, 5894239},\n {5830270, 5830275},\n {5635117, 5751383, 5809910},\n {5767496, 5767497, 5891498}]"
     },
     "execution_count": 11,
     "metadata": {},
     "output_type": "execute_result"
    }
   ],
   "source": [
    "import pandas as pd\n",
    "\n",
    "dataset = pd.read_csv(\"dataset.csv\")\n",
    "baskets = dataset.groupby(\"user_id\").product_id.apply(set).tolist()\n",
    "baskets[:5]"
   ],
   "metadata": {
    "collapsed": false,
    "pycharm": {
     "name": "#%%\n"
    }
   }
  },
  {
   "cell_type": "markdown",
   "source": [
    "# Association rule mining algorithm\n",
    "> Implement an association rule mining algorithm, or use an existing online implementation.\n",
    "Show that you understand the method by describing its function (without using code) in your\n",
    "report. Make sure you are able to get the confidence and support of any found association\n",
    "rules.\n",
    "\n",
    "> Run the association rule mining algorithm on the given dataset. At this point, use only the\n",
    "user id and product id columns. What are the top 10 association rules in terms of support\n",
    "your method finds? Also include the confidence of these rules. What can you say about the\n",
    "number of items in these rules?"
   ],
   "metadata": {
    "collapsed": false,
    "pycharm": {
     "name": "#%% md\n"
    }
   }
  },
  {
   "cell_type": "markdown",
   "source": [
    "## Method 1\n",
    "I started with the apyori implementation, but this also allowed empty baskets, which causes errors in the inspect function. You can just skip to my own implementation, which you can find under the \"Method 4\" subtitle.\n",
    "Using code from [this article](https://www.section.io/engineering-education/apriori-algorithm-in-python/), with the apriori algorithm from [apyori](https://pypi.org/project/apyori/)."
   ],
   "metadata": {
    "collapsed": false,
    "pycharm": {
     "name": "#%% md\n"
    }
   }
  },
  {
   "cell_type": "code",
   "execution_count": 64,
   "outputs": [],
   "source": [
    "from apyori import apriori\n",
    "\n",
    "# support: measures the number of times a particular item or combination of items occur in a dataset\n",
    "# confidence: measures how likely the customer is to consume item2 given they have consumed item1\n",
    "# lift: a metric that determines the strength of association between the best rules, confidence/support\n",
    "# TODO: define own min_upport, min_confidence and min_lift\n",
    "rule = apriori(transactions=baskets, min_support=0.003, min_confidence=0.2, min_lift=3, min_length=2, max_length=2)"
   ],
   "metadata": {
    "collapsed": false,
    "pycharm": {
     "name": "#%%\n"
    }
   }
  },
  {
   "cell_type": "markdown",
   "source": [],
   "metadata": {
    "collapsed": false,
    "pycharm": {
     "name": "#%% md\n"
    }
   }
  },
  {
   "cell_type": "code",
   "execution_count": 65,
   "outputs": [
    {
     "data": {
      "text/plain": "   Left_Hand_Side  Right_Hand_Side   Support  Confidence        Lift\n0         5677043          5697463  0.004187    0.329341   57.687425\n2         5809912          5809910  0.003730    0.583333   25.459302\n3         5814516          5814517  0.003730    0.875000  201.664474\n1         5809911          5809910  0.003578    0.746032   32.560196",
      "text/html": "<div>\n<style scoped>\n    .dataframe tbody tr th:only-of-type {\n        vertical-align: middle;\n    }\n\n    .dataframe tbody tr th {\n        vertical-align: top;\n    }\n\n    .dataframe thead th {\n        text-align: right;\n    }\n</style>\n<table border=\"1\" class=\"dataframe\">\n  <thead>\n    <tr style=\"text-align: right;\">\n      <th></th>\n      <th>Left_Hand_Side</th>\n      <th>Right_Hand_Side</th>\n      <th>Support</th>\n      <th>Confidence</th>\n      <th>Lift</th>\n    </tr>\n  </thead>\n  <tbody>\n    <tr>\n      <th>0</th>\n      <td>5677043</td>\n      <td>5697463</td>\n      <td>0.004187</td>\n      <td>0.329341</td>\n      <td>57.687425</td>\n    </tr>\n    <tr>\n      <th>2</th>\n      <td>5809912</td>\n      <td>5809910</td>\n      <td>0.003730</td>\n      <td>0.583333</td>\n      <td>25.459302</td>\n    </tr>\n    <tr>\n      <th>3</th>\n      <td>5814516</td>\n      <td>5814517</td>\n      <td>0.003730</td>\n      <td>0.875000</td>\n      <td>201.664474</td>\n    </tr>\n    <tr>\n      <th>1</th>\n      <td>5809911</td>\n      <td>5809910</td>\n      <td>0.003578</td>\n      <td>0.746032</td>\n      <td>32.560196</td>\n    </tr>\n  </tbody>\n</table>\n</div>"
     },
     "execution_count": 65,
     "metadata": {},
     "output_type": "execute_result"
    }
   ],
   "source": [
    "results = list(rule)\n",
    "\n",
    "# putting output into a pandas dataframe\n",
    "def inspect(output):\n",
    "    for result in output:\n",
    "        try:\n",
    "            tuple(result[2][0][0])[0]\n",
    "        except Exception as e:\n",
    "            print(result)\n",
    "            raise e\n",
    "    lhs = [tuple(result[2][0][0])[0] for result in output]\n",
    "    rhs = [tuple(result[2][0][1])[0] for result in output]\n",
    "    support = [result[1] for result in output]\n",
    "    confidence = [result[2][0][2] for result in output]\n",
    "    lift = [result[2][0][3] for result in output]\n",
    "    return list(zip(lhs, rhs, support, confidence, lift))\n",
    "\n",
    "output_DataFrame = pd.DataFrame(inspect(results),\n",
    "                                columns=['Left_Hand_Side', 'Right_Hand_Side', 'Support', 'Confidence', 'Lift'])\n",
    "\n",
    "output_DataFrame.nlargest(n=10, columns='Support')"
   ],
   "metadata": {
    "collapsed": false,
    "pycharm": {
     "name": "#%%\n"
    }
   }
  },
  {
   "cell_type": "markdown",
   "source": [
    "## Method 2\n",
    "Using code from [this site](https://towardsdatascience.com/apriori-association-rule-mining-explanation-and-python-implementation-290b42afdfc6), which uses the [apriori_python library](https://pypi.org/project/apriori-python/). This method is also very slow, so trying eclat insted."
   ],
   "metadata": {
    "collapsed": false,
    "pycharm": {
     "name": "#%% md\n"
    }
   }
  },
  {
   "cell_type": "code",
   "execution_count": 73,
   "outputs": [
    {
     "name": "stdout",
     "output_type": "stream",
     "text": [
      "[[5614842, 5766379], [5894239, 5861791], [5830275, 5830270], [5635117, 5809910, 5751383], [5767496, 5767497, 5891498]]\n",
      "{1: {frozenset({5809910}), frozenset({5649236}), frozenset({5677043}), frozenset({5790689})}}\n",
      "[]\n"
     ]
    }
   ],
   "source": [
    "from apriori_python import apriori\n",
    "freqItemSet, rules = apriori(baskets, minSup=0.01, minConf=0.001)\n",
    "print(freqItemSet)\n",
    "print(rules)"
   ],
   "metadata": {
    "collapsed": false,
    "pycharm": {
     "name": "#%%\n"
    }
   }
  },
  {
   "cell_type": "markdown",
   "source": [
    "## Method 3\n",
    "Let's try running eclat on it. To do this, I'll use code from [this site](https://towardsdatascience.com/the-eclat-algorithm-8ae3276d2d17), which makes use of [pyECLAT](https://pypi.org/project/pyECLAT/). This method also gives an error.\n"
   ],
   "metadata": {
    "collapsed": false,
    "pycharm": {
     "name": "#%% md\n"
    }
   }
  },
  {
   "cell_type": "code",
   "execution_count": 74,
   "outputs": [
    {
     "data": {
      "text/plain": "         0          1          2   3   4   5   6   7   8   9\n0  5614842  5766379.0        NaN NaN NaN NaN NaN NaN NaN NaN\n1  5894239  5861791.0        NaN NaN NaN NaN NaN NaN NaN NaN\n2  5830275  5830270.0        NaN NaN NaN NaN NaN NaN NaN NaN\n3  5635117  5809910.0  5751383.0 NaN NaN NaN NaN NaN NaN NaN\n4  5767496  5767497.0  5891498.0 NaN NaN NaN NaN NaN NaN NaN",
      "text/html": "<div>\n<style scoped>\n    .dataframe tbody tr th:only-of-type {\n        vertical-align: middle;\n    }\n\n    .dataframe tbody tr th {\n        vertical-align: top;\n    }\n\n    .dataframe thead th {\n        text-align: right;\n    }\n</style>\n<table border=\"1\" class=\"dataframe\">\n  <thead>\n    <tr style=\"text-align: right;\">\n      <th></th>\n      <th>0</th>\n      <th>1</th>\n      <th>2</th>\n      <th>3</th>\n      <th>4</th>\n      <th>5</th>\n      <th>6</th>\n      <th>7</th>\n      <th>8</th>\n      <th>9</th>\n    </tr>\n  </thead>\n  <tbody>\n    <tr>\n      <th>0</th>\n      <td>5614842</td>\n      <td>5766379.0</td>\n      <td>NaN</td>\n      <td>NaN</td>\n      <td>NaN</td>\n      <td>NaN</td>\n      <td>NaN</td>\n      <td>NaN</td>\n      <td>NaN</td>\n      <td>NaN</td>\n    </tr>\n    <tr>\n      <th>1</th>\n      <td>5894239</td>\n      <td>5861791.0</td>\n      <td>NaN</td>\n      <td>NaN</td>\n      <td>NaN</td>\n      <td>NaN</td>\n      <td>NaN</td>\n      <td>NaN</td>\n      <td>NaN</td>\n      <td>NaN</td>\n    </tr>\n    <tr>\n      <th>2</th>\n      <td>5830275</td>\n      <td>5830270.0</td>\n      <td>NaN</td>\n      <td>NaN</td>\n      <td>NaN</td>\n      <td>NaN</td>\n      <td>NaN</td>\n      <td>NaN</td>\n      <td>NaN</td>\n      <td>NaN</td>\n    </tr>\n    <tr>\n      <th>3</th>\n      <td>5635117</td>\n      <td>5809910.0</td>\n      <td>5751383.0</td>\n      <td>NaN</td>\n      <td>NaN</td>\n      <td>NaN</td>\n      <td>NaN</td>\n      <td>NaN</td>\n      <td>NaN</td>\n      <td>NaN</td>\n    </tr>\n    <tr>\n      <th>4</th>\n      <td>5767496</td>\n      <td>5767497.0</td>\n      <td>5891498.0</td>\n      <td>NaN</td>\n      <td>NaN</td>\n      <td>NaN</td>\n      <td>NaN</td>\n      <td>NaN</td>\n      <td>NaN</td>\n      <td>NaN</td>\n    </tr>\n  </tbody>\n</table>\n</div>"
     },
     "execution_count": 74,
     "metadata": {},
     "output_type": "execute_result"
    }
   ],
   "source": [
    "data = pd.DataFrame(baskets)\n",
    "data.head()"
   ],
   "metadata": {
    "collapsed": false,
    "pycharm": {
     "name": "#%%\n"
    }
   }
  },
  {
   "cell_type": "code",
   "execution_count": 75,
   "outputs": [],
   "source": [
    "# we are looking for itemSETS\n",
    "# we do not want to have any individual products returned\n",
    "min_n_products = 2\n",
    "\n",
    "# we want to set min support to 7\n",
    "# but we have to express it as a percentage\n",
    "min_support = 7/len(baskets)\n",
    "\n",
    "# we have no limit on the size of association rules\n",
    "# so we set it to the longest transaction\n",
    "max_length = max([len(x) for x in baskets])"
   ],
   "metadata": {
    "collapsed": false,
    "pycharm": {
     "name": "#%%\n"
    }
   }
  },
  {
   "cell_type": "code",
   "execution_count": 76,
   "outputs": [
    {
     "name": "stderr",
     "output_type": "stream",
     "text": [
      "100%|██████████| 11687/11687 [00:50<00:00, 232.95it/s]\n",
      "100%|██████████| 11687/11687 [00:07<00:00, 1618.54it/s]\n",
      "100%|██████████| 11687/11687 [00:07<00:00, 1587.45it/s]\n"
     ]
    },
    {
     "ename": "ValueError",
     "evalue": "Cannot index with multidimensional key",
     "output_type": "error",
     "traceback": [
      "\u001B[1;31m---------------------------------------------------------------------------\u001B[0m",
      "\u001B[1;31mValueError\u001B[0m                                Traceback (most recent call last)",
      "\u001B[1;32m<ipython-input-76-f4f4df10940a>\u001B[0m in \u001B[0;36m<module>\u001B[1;34m\u001B[0m\n\u001B[0;32m      7\u001B[0m rule_indices, rule_supports = my_eclat.fit(min_support=min_support,\n\u001B[0;32m      8\u001B[0m                                            \u001B[0mmin_combination\u001B[0m\u001B[1;33m=\u001B[0m\u001B[0mmin_n_products\u001B[0m\u001B[1;33m,\u001B[0m\u001B[1;33m\u001B[0m\u001B[0m\n\u001B[1;32m----> 9\u001B[1;33m                                            max_combination=max_length)\n\u001B[0m",
      "\u001B[1;32mc:\\users\\arnod\\documents\\reinforcement-learning-labs\\rlenv\\lib\\site-packages\\pyECLAT\\pyECLAT.py\u001B[0m in \u001B[0;36mfit\u001B[1;34m(self, min_support, min_combination, max_combination, separator, verbose)\u001B[0m\n\u001B[0;32m    270\u001B[0m             \u001B[0mmin_support\u001B[0m \u001B[1;33m=\u001B[0m \u001B[1;36m0\u001B[0m\u001B[1;33m\u001B[0m\u001B[0m\n\u001B[0;32m    271\u001B[0m \u001B[1;33m\u001B[0m\u001B[0m\n\u001B[1;32m--> 272\u001B[1;33m         \u001B[0msupport_dict\u001B[0m \u001B[1;33m=\u001B[0m \u001B[0mECLAT\u001B[0m\u001B[1;33m.\u001B[0m\u001B[0msupport\u001B[0m\u001B[1;33m(\u001B[0m\u001B[0mself\u001B[0m\u001B[1;33m,\u001B[0m \u001B[0mmin_support\u001B[0m\u001B[1;33m=\u001B[0m\u001B[0mmin_support\u001B[0m\u001B[1;33m)\u001B[0m\u001B[1;33m\u001B[0m\u001B[0m\n\u001B[0m\u001B[0;32m    273\u001B[0m \u001B[1;33m\u001B[0m\u001B[0m\n\u001B[0;32m    274\u001B[0m         \u001B[0mtotal\u001B[0m \u001B[1;33m=\u001B[0m \u001B[0mlen\u001B[0m\u001B[1;33m(\u001B[0m\u001B[0mself\u001B[0m\u001B[1;33m.\u001B[0m\u001B[0mdata\u001B[0m\u001B[1;33m)\u001B[0m\u001B[1;33m\u001B[0m\u001B[0m\n",
      "\u001B[1;32mc:\\users\\arnod\\documents\\reinforcement-learning-labs\\rlenv\\lib\\site-packages\\pyECLAT\\pyECLAT.py\u001B[0m in \u001B[0;36msupport\u001B[1;34m(self, min_support)\u001B[0m\n\u001B[0;32m    151\u001B[0m \u001B[1;33m\u001B[0m\u001B[0m\n\u001B[0;32m    152\u001B[0m             \u001B[1;32mfor\u001B[0m \u001B[0mcolumn\u001B[0m \u001B[1;32min\u001B[0m \u001B[0mcolumn_names\u001B[0m\u001B[1;33m:\u001B[0m\u001B[1;33m\u001B[0m\u001B[0m\n\u001B[1;32m--> 153\u001B[1;33m                 \u001B[0mnumerator\u001B[0m \u001B[1;33m=\u001B[0m \u001B[0mself\u001B[0m\u001B[1;33m.\u001B[0m\u001B[0mdf_bin\u001B[0m\u001B[1;33m.\u001B[0m\u001B[0mloc\u001B[0m\u001B[1;33m[\u001B[0m\u001B[0mself\u001B[0m\u001B[1;33m.\u001B[0m\u001B[0mdf_bin\u001B[0m\u001B[1;33m[\u001B[0m\u001B[0mcolumn\u001B[0m\u001B[1;33m]\u001B[0m \u001B[1;33m!=\u001B[0m \u001B[1;36m0\u001B[0m\u001B[1;33m,\u001B[0m \u001B[0mcolumn\u001B[0m\u001B[1;33m]\u001B[0m\u001B[1;33m.\u001B[0m\u001B[0msum\u001B[0m\u001B[1;33m(\u001B[0m\u001B[1;33m)\u001B[0m\u001B[1;33m\u001B[0m\u001B[0m\n\u001B[0m\u001B[0;32m    154\u001B[0m                 \u001B[0msupport\u001B[0m\u001B[1;33m[\u001B[0m\u001B[0mcolumn\u001B[0m\u001B[1;33m]\u001B[0m \u001B[1;33m=\u001B[0m \u001B[0mnumerator\u001B[0m \u001B[1;33m/\u001B[0m \u001B[0mtotal\u001B[0m\u001B[1;33m\u001B[0m\u001B[0m\n\u001B[0;32m    155\u001B[0m \u001B[1;33m\u001B[0m\u001B[0m\n",
      "\u001B[1;32mc:\\users\\arnod\\documents\\reinforcement-learning-labs\\rlenv\\lib\\site-packages\\pandas\\core\\indexing.py\u001B[0m in \u001B[0;36m__getitem__\u001B[1;34m(self, key)\u001B[0m\n\u001B[0;32m   1758\u001B[0m                 \u001B[1;32mexcept\u001B[0m \u001B[1;33m(\u001B[0m\u001B[0mKeyError\u001B[0m\u001B[1;33m,\u001B[0m \u001B[0mIndexError\u001B[0m\u001B[1;33m,\u001B[0m \u001B[0mAttributeError\u001B[0m\u001B[1;33m)\u001B[0m\u001B[1;33m:\u001B[0m\u001B[1;33m\u001B[0m\u001B[0m\n\u001B[0;32m   1759\u001B[0m                     \u001B[1;32mpass\u001B[0m\u001B[1;33m\u001B[0m\u001B[0m\n\u001B[1;32m-> 1760\u001B[1;33m             \u001B[1;32mreturn\u001B[0m \u001B[0mself\u001B[0m\u001B[1;33m.\u001B[0m\u001B[0m_getitem_tuple\u001B[0m\u001B[1;33m(\u001B[0m\u001B[0mkey\u001B[0m\u001B[1;33m)\u001B[0m\u001B[1;33m\u001B[0m\u001B[0m\n\u001B[0m\u001B[0;32m   1761\u001B[0m         \u001B[1;32melse\u001B[0m\u001B[1;33m:\u001B[0m\u001B[1;33m\u001B[0m\u001B[0m\n\u001B[0;32m   1762\u001B[0m             \u001B[1;31m# we by definition only have the 0th axis\u001B[0m\u001B[1;33m\u001B[0m\u001B[1;33m\u001B[0m\u001B[0m\n",
      "\u001B[1;32mc:\\users\\arnod\\documents\\reinforcement-learning-labs\\rlenv\\lib\\site-packages\\pandas\\core\\indexing.py\u001B[0m in \u001B[0;36m_getitem_tuple\u001B[1;34m(self, tup)\u001B[0m\n\u001B[0;32m   1268\u001B[0m     \u001B[1;32mdef\u001B[0m \u001B[0m_getitem_tuple\u001B[0m\u001B[1;33m(\u001B[0m\u001B[0mself\u001B[0m\u001B[1;33m,\u001B[0m \u001B[0mtup\u001B[0m\u001B[1;33m:\u001B[0m \u001B[0mTuple\u001B[0m\u001B[1;33m)\u001B[0m\u001B[1;33m:\u001B[0m\u001B[1;33m\u001B[0m\u001B[0m\n\u001B[0;32m   1269\u001B[0m         \u001B[1;32mtry\u001B[0m\u001B[1;33m:\u001B[0m\u001B[1;33m\u001B[0m\u001B[0m\n\u001B[1;32m-> 1270\u001B[1;33m             \u001B[1;32mreturn\u001B[0m \u001B[0mself\u001B[0m\u001B[1;33m.\u001B[0m\u001B[0m_getitem_lowerdim\u001B[0m\u001B[1;33m(\u001B[0m\u001B[0mtup\u001B[0m\u001B[1;33m)\u001B[0m\u001B[1;33m\u001B[0m\u001B[0m\n\u001B[0m\u001B[0;32m   1271\u001B[0m         \u001B[1;32mexcept\u001B[0m \u001B[0mIndexingError\u001B[0m\u001B[1;33m:\u001B[0m\u001B[1;33m\u001B[0m\u001B[0m\n\u001B[0;32m   1272\u001B[0m             \u001B[1;32mpass\u001B[0m\u001B[1;33m\u001B[0m\u001B[0m\n",
      "\u001B[1;32mc:\\users\\arnod\\documents\\reinforcement-learning-labs\\rlenv\\lib\\site-packages\\pandas\\core\\indexing.py\u001B[0m in \u001B[0;36m_getitem_lowerdim\u001B[1;34m(self, tup)\u001B[0m\n\u001B[0;32m   1417\u001B[0m                     \u001B[1;32mreturn\u001B[0m \u001B[0msection\u001B[0m\u001B[1;33m\u001B[0m\u001B[0m\n\u001B[0;32m   1418\u001B[0m                 \u001B[1;31m# This is an elided recursive call to iloc/loc/etc'\u001B[0m\u001B[1;33m\u001B[0m\u001B[1;33m\u001B[0m\u001B[0m\n\u001B[1;32m-> 1419\u001B[1;33m                 \u001B[1;32mreturn\u001B[0m \u001B[0mgetattr\u001B[0m\u001B[1;33m(\u001B[0m\u001B[0msection\u001B[0m\u001B[1;33m,\u001B[0m \u001B[0mself\u001B[0m\u001B[1;33m.\u001B[0m\u001B[0mname\u001B[0m\u001B[1;33m)\u001B[0m\u001B[1;33m[\u001B[0m\u001B[0mnew_key\u001B[0m\u001B[1;33m]\u001B[0m\u001B[1;33m\u001B[0m\u001B[0m\n\u001B[0m\u001B[0;32m   1420\u001B[0m \u001B[1;33m\u001B[0m\u001B[0m\n\u001B[0;32m   1421\u001B[0m         \u001B[1;32mraise\u001B[0m \u001B[0mIndexingError\u001B[0m\u001B[1;33m(\u001B[0m\u001B[1;34m\"not applicable\"\u001B[0m\u001B[1;33m)\u001B[0m\u001B[1;33m\u001B[0m\u001B[0m\n",
      "\u001B[1;32mc:\\users\\arnod\\documents\\reinforcement-learning-labs\\rlenv\\lib\\site-packages\\pandas\\core\\indexing.py\u001B[0m in \u001B[0;36m__getitem__\u001B[1;34m(self, key)\u001B[0m\n\u001B[0;32m   1758\u001B[0m                 \u001B[1;32mexcept\u001B[0m \u001B[1;33m(\u001B[0m\u001B[0mKeyError\u001B[0m\u001B[1;33m,\u001B[0m \u001B[0mIndexError\u001B[0m\u001B[1;33m,\u001B[0m \u001B[0mAttributeError\u001B[0m\u001B[1;33m)\u001B[0m\u001B[1;33m:\u001B[0m\u001B[1;33m\u001B[0m\u001B[0m\n\u001B[0;32m   1759\u001B[0m                     \u001B[1;32mpass\u001B[0m\u001B[1;33m\u001B[0m\u001B[0m\n\u001B[1;32m-> 1760\u001B[1;33m             \u001B[1;32mreturn\u001B[0m \u001B[0mself\u001B[0m\u001B[1;33m.\u001B[0m\u001B[0m_getitem_tuple\u001B[0m\u001B[1;33m(\u001B[0m\u001B[0mkey\u001B[0m\u001B[1;33m)\u001B[0m\u001B[1;33m\u001B[0m\u001B[0m\n\u001B[0m\u001B[0;32m   1761\u001B[0m         \u001B[1;32melse\u001B[0m\u001B[1;33m:\u001B[0m\u001B[1;33m\u001B[0m\u001B[0m\n\u001B[0;32m   1762\u001B[0m             \u001B[1;31m# we by definition only have the 0th axis\u001B[0m\u001B[1;33m\u001B[0m\u001B[1;33m\u001B[0m\u001B[0m\n",
      "\u001B[1;32mc:\\users\\arnod\\documents\\reinforcement-learning-labs\\rlenv\\lib\\site-packages\\pandas\\core\\indexing.py\u001B[0m in \u001B[0;36m_getitem_tuple\u001B[1;34m(self, tup)\u001B[0m\n\u001B[0;32m   1285\u001B[0m                 \u001B[1;32mcontinue\u001B[0m\u001B[1;33m\u001B[0m\u001B[0m\n\u001B[0;32m   1286\u001B[0m \u001B[1;33m\u001B[0m\u001B[0m\n\u001B[1;32m-> 1287\u001B[1;33m             \u001B[0mretval\u001B[0m \u001B[1;33m=\u001B[0m \u001B[0mgetattr\u001B[0m\u001B[1;33m(\u001B[0m\u001B[0mretval\u001B[0m\u001B[1;33m,\u001B[0m \u001B[0mself\u001B[0m\u001B[1;33m.\u001B[0m\u001B[0mname\u001B[0m\u001B[1;33m)\u001B[0m\u001B[1;33m.\u001B[0m\u001B[0m_getitem_axis\u001B[0m\u001B[1;33m(\u001B[0m\u001B[0mkey\u001B[0m\u001B[1;33m,\u001B[0m \u001B[0maxis\u001B[0m\u001B[1;33m=\u001B[0m\u001B[0mi\u001B[0m\u001B[1;33m)\u001B[0m\u001B[1;33m\u001B[0m\u001B[0m\n\u001B[0m\u001B[0;32m   1288\u001B[0m \u001B[1;33m\u001B[0m\u001B[0m\n\u001B[0;32m   1289\u001B[0m         \u001B[1;32mreturn\u001B[0m \u001B[0mretval\u001B[0m\u001B[1;33m\u001B[0m\u001B[0m\n",
      "\u001B[1;32mc:\\users\\arnod\\documents\\reinforcement-learning-labs\\rlenv\\lib\\site-packages\\pandas\\core\\indexing.py\u001B[0m in \u001B[0;36m_getitem_axis\u001B[1;34m(self, key, axis)\u001B[0m\n\u001B[0;32m   1948\u001B[0m \u001B[1;33m\u001B[0m\u001B[0m\n\u001B[0;32m   1949\u001B[0m                 \u001B[1;32mif\u001B[0m \u001B[0mhasattr\u001B[0m\u001B[1;33m(\u001B[0m\u001B[0mkey\u001B[0m\u001B[1;33m,\u001B[0m \u001B[1;34m\"ndim\"\u001B[0m\u001B[1;33m)\u001B[0m \u001B[1;32mand\u001B[0m \u001B[0mkey\u001B[0m\u001B[1;33m.\u001B[0m\u001B[0mndim\u001B[0m \u001B[1;33m>\u001B[0m \u001B[1;36m1\u001B[0m\u001B[1;33m:\u001B[0m\u001B[1;33m\u001B[0m\u001B[0m\n\u001B[1;32m-> 1950\u001B[1;33m                     \u001B[1;32mraise\u001B[0m \u001B[0mValueError\u001B[0m\u001B[1;33m(\u001B[0m\u001B[1;34m\"Cannot index with multidimensional key\"\u001B[0m\u001B[1;33m)\u001B[0m\u001B[1;33m\u001B[0m\u001B[0m\n\u001B[0m\u001B[0;32m   1951\u001B[0m \u001B[1;33m\u001B[0m\u001B[0m\n\u001B[0;32m   1952\u001B[0m                 \u001B[1;32mreturn\u001B[0m \u001B[0mself\u001B[0m\u001B[1;33m.\u001B[0m\u001B[0m_getitem_iterable\u001B[0m\u001B[1;33m(\u001B[0m\u001B[0mkey\u001B[0m\u001B[1;33m,\u001B[0m \u001B[0maxis\u001B[0m\u001B[1;33m=\u001B[0m\u001B[0maxis\u001B[0m\u001B[1;33m)\u001B[0m\u001B[1;33m\u001B[0m\u001B[0m\n",
      "\u001B[1;31mValueError\u001B[0m: Cannot index with multidimensional key"
     ]
    }
   ],
   "source": [
    "from pyECLAT import ECLAT\n",
    "\n",
    "# create an instance of eclat\n",
    "my_eclat = ECLAT(data=data, verbose=True)\n",
    "\n",
    "# fit the algorithm\n",
    "rule_indices, rule_supports = my_eclat.fit(min_support=min_support,\n",
    "                                           min_combination=min_n_products,\n",
    "                                           max_combination=max_length)"
   ],
   "metadata": {
    "collapsed": false,
    "pycharm": {
     "name": "#%%\n"
    }
   }
  },
  {
   "cell_type": "markdown",
   "source": [
    "## Method 4\n",
    "Enough libraries tried that didn't work, let's just implement eclat ourselves.\n",
    "I based this implementation on the explanation from the lecture and [this explanation](https://www.geeksforgeeks.org/ml-eclat-algorithm/).\n"
   ],
   "metadata": {
    "collapsed": false,
    "pycharm": {
     "name": "#%% md\n"
    }
   }
  },
  {
   "cell_type": "code",
   "execution_count": 12,
   "outputs": [
    {
     "data": {
      "text/plain": "[(frozenset({5614842}),\n  {0,\n   152,\n   1026,\n   1470,\n   1576,\n   1691,\n   1799,\n   1814,\n   1910,\n   2027,\n   2322,\n   2694,\n   3259,\n   4929,\n   5229,\n   5693,\n   6024,\n   6594,\n   6647,\n   6702,\n   6755,\n   6980,\n   7351,\n   8335,\n   9987,\n   10223,\n   13101}),\n (frozenset({5766379}), {0, 85, 4706, 4933, 6206, 6473, 8476, 9647, 12363}),\n (frozenset({5894239}), {1, 7278, 10877}),\n (frozenset({5861791}), {1, 3982, 7420}),\n (frozenset({5830275}), {2, 2588, 2855, 12148})]"
     },
     "execution_count": 12,
     "metadata": {},
     "output_type": "execute_result"
    }
   ],
   "source": [
    "def make_tid_dict(baskets):\n",
    "    tid_dict = dict()\n",
    "    for index, item_set in enumerate(baskets):\n",
    "        for item in item_set:\n",
    "            frozen_set = frozenset({item})\n",
    "            if frozen_set not in tid_dict:\n",
    "                tid_dict[frozen_set] = set()\n",
    "            tid_dict[frozen_set].add(index)\n",
    "    return tid_dict\n",
    "\n",
    "tid_dict = make_tid_dict(baskets)\n",
    "list(tid_dict.items())[:5]"
   ],
   "metadata": {
    "collapsed": false,
    "pycharm": {
     "name": "#%%\n"
    }
   }
  },
  {
   "cell_type": "code",
   "execution_count": 13,
   "outputs": [
    {
     "name": "stdout",
     "output_type": "stream",
     "text": [
      "Mining frequent itemsets of length 2\n"
     ]
    },
    {
     "name": "stderr",
     "output_type": "stream",
     "text": [
      "100%|██████████| 29100630/29100630 [00:12<00:00, 2313691.33it/s]\n"
     ]
    },
    {
     "name": "stdout",
     "output_type": "stream",
     "text": [
      "Mining frequent itemsets of length 3\n"
     ]
    },
    {
     "name": "stderr",
     "output_type": "stream",
     "text": [
      "100%|██████████| 6592056/6592056 [00:02<00:00, 2750165.32it/s]\n"
     ]
    },
    {
     "name": "stdout",
     "output_type": "stream",
     "text": [
      "Mining frequent itemsets of length 4\n"
     ]
    },
    {
     "name": "stderr",
     "output_type": "stream",
     "text": [
      "100%|██████████| 159600/159600 [00:00<00:00, 2533334.79it/s]\n"
     ]
    },
    {
     "name": "stdout",
     "output_type": "stream",
     "text": [
      "Mining frequent itemsets of length 5\n"
     ]
    },
    {
     "name": "stderr",
     "output_type": "stream",
     "text": [
      "100%|██████████| 1332/1332 [00:00<00:00, 1351430.32it/s]\n"
     ]
    },
    {
     "name": "stdout",
     "output_type": "stream",
     "text": [
      "Mining frequent itemsets of length 6\n"
     ]
    },
    {
     "name": "stderr",
     "output_type": "stream",
     "text": [
      "100%|██████████| 6/6 [00:00<00:00, 5999.00it/s]\n"
     ]
    },
    {
     "data": {
      "text/plain": "{frozenset({5614842, 5809910}): {1799, 6647},\n frozenset({4185, 5614842}): {152,\n  1470,\n  2322,\n  4929,\n  5229,\n  5693,\n  6024,\n  7351,\n  9987},\n frozenset({5614842, 5804261}): {6755, 6980},\n frozenset({3762, 5614842}): {1799, 1910, 2322, 6594, 6755, 7351},\n frozenset({3978, 5614842}): {1026, 6594, 13101},\n frozenset({5614842, 5764656}): {1910, 6755},\n frozenset({5766379, 5766390}): {4706, 6206, 8476},\n frozenset({5766377, 5766379}): {4706, 4933, 6206, 8476, 9647, 12363},\n frozenset({5751383, 5809910}): {3,\n  7,\n  969,\n  7028,\n  8649,\n  8753,\n  10659,\n  10790,\n  11375,\n  13081,\n  13124},\n frozenset({5809910, 5833334}): {7, 2755, 10576},\n frozenset({5692527, 5809910}): {4432, 6736},\n frozenset({5687151, 5809910}): {1901, 8438},\n frozenset({5763238, 5809910}): {9133, 10576},\n frozenset({5809910, 5849033}): {798, 969, 1554, 6720, 6970, 10659},\n frozenset({5809910, 5809912}): {43,\n  285,\n  673,\n  722,\n  798,\n  956,\n  1123,\n  1348,\n  1554,\n  1756,\n  1817,\n  2054,\n  3004,\n  3895,\n  4432,\n  5625,\n  5665,\n  6720,\n  6788,\n  7337,\n  7408,\n  7547,\n  7644,\n  7727,\n  7869,\n  7920,\n  8054,\n  8354,\n  8487,\n  8750,\n  9070,\n  9092,\n  9185,\n  9510,\n  9811,\n  10173,\n  10336,\n  10515,\n  10682,\n  10717,\n  10790,\n  11375,\n  11874,\n  11895,\n  12199,\n  12249,\n  12373,\n  12512,\n  13121},\n frozenset({5809910, 5854828}): {43, 1756},\n frozenset({5809910, 5809911}): {43,\n  240,\n  285,\n  377,\n  798,\n  1123,\n  1322,\n  1532,\n  1967,\n  2054,\n  2122,\n  3572,\n  3895,\n  4432,\n  4596,\n  4981,\n  5375,\n  5376,\n  5607,\n  5665,\n  5816,\n  6674,\n  6720,\n  7140,\n  7920,\n  8054,\n  8344,\n  8354,\n  8438,\n  9092,\n  9185,\n  9270,\n  9408,\n  9428,\n  10082,\n  10338,\n  10507,\n  10682,\n  10717,\n  11038,\n  11393,\n  11854,\n  11874,\n  11895,\n  12170,\n  12249,\n  13121},\n frozenset({5752164, 5809910}): {893, 1493, 11854},\n frozenset({5809910, 5816170}): {58,\n  377,\n  835,\n  865,\n  1123,\n  1448,\n  3106,\n  3621,\n  4432,\n  4596,\n  6585,\n  6674,\n  7140,\n  7210,\n  7408,\n  8245,\n  8344,\n  8438,\n  8477,\n  9133,\n  10279,\n  10371,\n  10659,\n  12731},\n frozenset({5649236, 5809910}): {1216, 7732},\n frozenset({5759492, 5809910}): {2804, 10576},\n frozenset({5809910, 5816172}): {722, 1129, 1967, 3499, 6585, 7204, 8351},\n frozenset({5809910, 5833330}): {6816, 6958},\n frozenset({5751422, 5809910}): {969,\n  2131,\n  5689,\n  7028,\n  7719,\n  9509,\n  9714,\n  11630,\n  12199},\n frozenset({5772285, 5809910}): {2811, 7213},\n frozenset({5692888, 5809910}): {166, 10218},\n frozenset({5792800, 5809910}): {1055, 2807, 3916, 6958},\n frozenset({5806922, 5809910}): {3350, 8983, 9160, 9452, 10879},\n frozenset({5809910, 5866964}): {5620, 7673},\n frozenset({5649219, 5809910}): {5598, 5600, 6516},\n frozenset({5809910, 5854819}): {240, 6970},\n frozenset({5809910, 5823970}): {245, 11149},\n frozenset({5646938, 5809910}): {245, 10669},\n frozenset({5773361, 5809910}): {8649, 9452, 11380},\n frozenset({5809910, 5846437}): {5424, 7982},\n frozenset({5809910, 5810480}): {1055, 6433, 7739, 10950},\n frozenset({5793261, 5809910}): {417, 1458, 10576},\n frozenset({5802432, 5809910}): {485, 5897, 6647},\n frozenset({5809910, 5901793}): {417, 6736},\n frozenset({5600453, 5809910}): {2006, 2449, 3895},\n frozenset({5809910, 5815662}): {515, 2807, 9903},\n frozenset({5809910, 5869134}): {5396, 7028, 13124},\n frozenset({5809910, 5816166}): {565,\n  956,\n  1967,\n  2163,\n  3220,\n  3572,\n  3621,\n  7221,\n  7558,\n  7701,\n  7815,\n  8477,\n  9270,\n  12193},\n frozenset({5809910, 5854829}): {565, 7221},\n frozenset({5809907, 5809910}): {565, 798, 2811},\n frozenset({5809910, 5814046}): {722,\n  1060,\n  3106,\n  3233,\n  5897,\n  6355,\n  6516,\n  7046,\n  7337,\n  9825,\n  11630,\n  13032},\n frozenset({5809910, 5905704}): {8377, 10950},\n frozenset({5754854, 5809910}): {1055, 2920},\n frozenset({5809910, 5809913}): {722, 7268},\n frozenset({5809910, 5814047}): {722, 11485},\n frozenset({5809910, 5838938}): {1901, 10338},\n frozenset({5809910, 5809921}): {1448, 6433},\n frozenset({5809910, 5885586}): {3195, 9302},\n frozenset({5809910, 5885845}): {1844, 8296},\n frozenset({5809910, 5885420}): {2346, 5362},\n frozenset({5809910, 5854831}): {1123, 7644},\n frozenset({5686925, 5809910}): {2122, 6433},\n frozenset({5809910, 5814051}): {1239, 11485},\n frozenset({5809910, 5885421}): {1239, 11485},\n frozenset({5805493, 5809910}): {6433, 8465},\n frozenset({5809910, 5885417}): {6914, 12805},\n frozenset({5809910, 5854832}): {1756, 5665, 7221, 8509, 8995},\n frozenset({5761411, 5809910}): {1901, 8649, 10444},\n frozenset({5772302, 5809910}): {1901, 9191},\n frozenset({5809910, 5816173}): {2006, 3013, 3195, 3499, 3572, 9415},\n frozenset({5809910, 5816169}): {3220, 7408, 8054, 10991},\n frozenset({5809910, 5816175}): {2113, 8351, 9415, 9525, 12939},\n frozenset({5809910, 5885419}): {4596, 5362, 7051, 9134},\n frozenset({5809910, 5854820}): {2163, 8427, 8444},\n frozenset({5809910, 5854812}): {2163, 6970, 11380, 12731, 12805},\n frozenset({5809855, 5809910}): {3350, 11854},\n frozenset({5682470, 5809910}): {2811, 10218},\n frozenset({5809910, 5816178}): {5375, 10280},\n frozenset({5809910, 5850625}): {6914, 7140, 7337, 12193},\n frozenset({5809910, 5854827}): {5375, 6816, 7213, 7920, 10669, 11375},\n frozenset({5809910, 5879280}): {5396, 6958},\n frozenset({5772167, 5809910}): {5362, 8983},\n frozenset({5809910, 5862943}): {11843, 13099},\n frozenset({5809910, 5854826}): {11630, 11895},\n frozenset({5809910, 5885418}): {5362, 9415},\n frozenset({5809909, 5809910}): {5816, 8427},\n frozenset({5809908, 5809910}): {6970, 8427, 9104, 10280, 11895},\n frozenset({5751383, 5833334}): {7, 279},\n frozenset({5608703, 5751383}): {2350, 2805, 3114},\n frozenset({5751383, 5849033}): {135,\n  969,\n  2112,\n  2264,\n  2395,\n  2439,\n  3788,\n  6083,\n  7553,\n  7857,\n  10659,\n  11277},\n frozenset({5751383, 5809912}): {3468, 10790, 11375},\n frozenset({5751383, 5783987}): {11103, 11490},\n frozenset({5751383, 5815730}): {3549, 12816},\n frozenset({5615144, 5751383}): {135, 8568, 10790},\n frozenset({5751383, 5751422}): {735,\n  969,\n  1260,\n  1640,\n  1891,\n  2248,\n  2274,\n  2805,\n  2872,\n  3037,\n  3089,\n  3770,\n  3788,\n  4790,\n  5104,\n  5927,\n  6602,\n  7028,\n  7390,\n  7500,\n  8021,\n  8266,\n  9713,\n  9735,\n  9989,\n  11142,\n  11323,\n  11635,\n  12653,\n  12865},\n frozenset({5730206, 5751383}): {2432, 7866},\n frozenset({5751383, 5823970}): {1220, 6543},\n frozenset({5723529, 5751383}): {1256, 3549, 11490},\n frozenset({3978, 5751383}): {2169, 3770},\n frozenset({5751383, 5815662}): {1256, 5927},\n frozenset({5751383, 5869134}): {7028, 13124},\n frozenset({5751383, 5857677}): {680, 10061},\n frozenset({5722999, 5751383}): {1640, 13081},\n frozenset({5751383, 5809733}): {735, 1853, 5876},\n frozenset({5751383, 5869141}): {5312, 7881},\n frozenset({5751383, 5852014}): {2274, 7184},\n frozenset({5751383, 5809729}): {2872, 3788, 6629},\n frozenset({5751383, 5809730}): {3037, 5876, 6629},\n frozenset({5751383, 5809728}): {1220, 2056, 2264, 7184, 11142, 12816},\n frozenset({5596128, 5751383}): {2529, 4319},\n frozenset({5751383, 5762161}): {2572, 5489},\n frozenset({5751383, 5854476}): {4876, 11277},\n frozenset({5767497, 5767502}): {8047, 11307},\n frozenset({5853035, 5853039}): {1570, 5771, 6276, 8305},\n frozenset({5853039, 5853045}): {6989, 7619, 9965},\n frozenset({5853039, 5853042}): {1523, 1704, 8996},\n frozenset({5302, 5333}): {2969, 3991},\n frozenset({5819114, 5833334}): {279, 3735},\n frozenset({5833318, 5833334}): {804, 3735},\n frozenset({5763379, 5883099}): {6481, 10441, 12573},\n frozenset({5528035, 5608703}): {139, 3201, 5397},\n frozenset({5608703, 5629448}): {139, 12947},\n frozenset({5608703, 5751422}): {139, 1582, 2805, 4588},\n frozenset({5608703, 5700038}): {6302, 8267},\n frozenset({3959, 4006}): {4166, 8636},\n frozenset({5692527, 5809912}): {4432, 6703},\n frozenset({5692527, 5816170}): {4432, 6703},\n frozenset({89343, 5692527}): {2227, 6380},\n frozenset({5692527, 5787479}): {254,\n  688,\n  1080,\n  1673,\n  2976,\n  8010,\n  11647,\n  11654,\n  12027},\n frozenset({5641077, 5692527}): {269, 688, 1673, 6380},\n frozenset({5692527, 5793261}): {1673,\n  1898,\n  2648,\n  2873,\n  3016,\n  4534,\n  4686,\n  6295,\n  6380,\n  7227,\n  8010,\n  8327,\n  10211,\n  11683,\n  12027,\n  12043,\n  12611,\n  12952},\n frozenset({27762, 5692527}): {5694, 9975},\n frozenset({5649849, 5692527}): {890, 1387, 2196, 6380, 6812, 11147},\n frozenset({60181, 5692527}): {421, 7316, 7891, 7968, 11147},\n frozenset({5622687, 5692527}): {429, 11647},\n frozenset({27764, 5692527}): {666, 10482},\n frozenset({5692527, 5707826}): {666,\n  789,\n  2648,\n  2897,\n  3088,\n  4534,\n  6087,\n  8010,\n  11654},\n frozenset({8200, 5692527}): {890, 6241, 8235},\n frozenset({5692527, 5793700}): {1080, 2897, 10211},\n frozenset({35962, 5692527}): {1898, 3510},\n frozenset({5687151, 5857007}): {4612, 10099},\n frozenset({5687151, 5761411}): {1901, 10095},\n frozenset({5687151, 5848387}): {7319, 7397},\n frozenset({5694163, 5802432}): {2169, 11715},\n frozenset({5694163, 5694164}): {3736, 7702},\n frozenset({5700037, 5763238}): {795, 8202},\n frozenset({5899427, 5899430}): {18, 1002, 2636, 3062, 10683, 10739},\n frozenset({5556134, 5768239}): {3626, 5132, 5983, 8019},\n frozenset({5556134, 5773434}): {775, 2213, 2317, 3349},\n frozenset({5556134, 5838655}): {1022, 1083, 8019, 10101},\n frozenset({5556134, 5809793}): {1988, 2317, 9608},\n frozenset({5556128, 5556134}): {3349, 7026},\n frozenset({5584834, 5584840}): {22, 1044, 10880},\n frozenset({5584840, 5584844}): {1044, 6796, 7160, 7256, 10880, 11618, 13055},\n frozenset({5584836, 5584840}): {1044,\n  2076,\n  5384,\n  6796,\n  7160,\n  8720,\n  10139,\n  10880,\n  11012,\n  11618,\n  13055},\n frozenset({5584838, 5584840}): {2076, 5384, 7256, 10139, 10880},\n frozenset({5584834, 5584844}): {1044, 3888, 10880},\n frozenset({5584834, 5584836}): {1044, 1861, 8232, 10880},\n frozenset({5584834, 5584838}): {1861, 8232, 10880},\n frozenset({5804820, 5814515}): {23,\n  262,\n  3026,\n  3867,\n  4715,\n  5506,\n  6221,\n  7418,\n  8673,\n  10269},\n frozenset({5814515, 5882654}): {23, 7418},\n frozenset({5814515, 5814516}): {419, 2254, 3026, 5506},\n frozenset({5814515, 5814517}): {419, 2254, 3026, 5506, 7826},\n frozenset({5814515, 5846096}): {4715, 5506, 7979},\n frozenset({5814515, 5814518}): {419, 2254, 3026, 5506, 7826},\n frozenset({5814515, 5824227}): {419, 6221, 8673, 12689},\n frozenset({5814515, 5896712}): {7674, 7979, 8673},\n frozenset({5804820, 5882654}): {23, 7418, 7596},\n frozenset({5755601, 5804820}): {54, 3402, 12823},\n frozenset({5804820, 5814516}): {54,\n  192,\n  2311,\n  3026,\n  4373,\n  5506,\n  7015,\n  8965,\n  10260},\n frozenset({5804820, 5814517}): {54,\n  192,\n  1350,\n  2311,\n  3026,\n  4373,\n  5506,\n  5619,\n  8965,\n  10260},\n frozenset({5649236, 5804820}): {3009, 7596},\n frozenset({5804820, 5882788}): {885, 1286, 1689, 8543, 12823},\n frozenset({5804820, 5846096}): {192,\n  428,\n  762,\n  885,\n  1601,\n  1872,\n  2915,\n  3288,\n  4014,\n  4043,\n  4715,\n  4879,\n  5484,\n  5506,\n  5534,\n  6370,\n  6701,\n  7122},\n frozenset({5804820, 5814518}): {192, 3026, 4373, 5361, 5506},\n frozenset({5804820, 5810673}): {5410, 8007},\n frozenset({5804820, 5881579}): {262, 2613},\n frozenset({5804820, 5846437}): {1601, 6370},\n frozenset({5804820, 5824227}): {4043,\n  5319,\n  6011,\n  6221,\n  8077,\n  8673,\n  9033,\n  10545,\n  10773,\n  11233,\n  12582,\n  12823},\n frozenset({5771963, 5804820}): {5697, 8775},\n frozenset({5804820, 5877207}): {4680, 7212, 10260},\n frozenset({5700855, 5804820}): {885, 5619},\n frozenset({5804820, 5916099}): {11097, 12695},\n frozenset({5755861, 5804820}): {3009, 10545},\n frozenset({5804820, 5836204}): {5319, 9033, 12823},\n frozenset({5804820, 5877211}): {2613, 5484, 8543, 11233},\n frozenset({5804820, 5825534}): {4680, 5361, 7015, 8775},\n frozenset({5804820, 5908170}): {2679, 10773},\n frozenset({5700859, 5804820}): {3402, 4909},\n frozenset({5700857, 5804820}): {3867, 7847},\n frozenset({5804820, 5896712}): {5319, 7704, 8040, 8673, 11233},\n frozenset({5836204, 5882654}): {1735, 9689},\n frozenset({5809912, 5849033}): {798, 1554, 6720},\n frozenset({5809911, 5849033}): {798, 6720},\n frozenset({5816170, 5849033}): {4664, 10659},\n frozenset({5815730, 5849033}): {4810, 4968, 9357},\n frozenset({5649236, 5849033}): {2739, 7103},\n frozenset({5751422, 5849033}): {524,\n  969,\n  1228,\n  3023,\n  3364,\n  3788,\n  6916,\n  7090,\n  7103,\n  9357,\n  10066,\n  10741,\n  11565},\n frozenset({5628025, 5849033}): {9201, 11277},\n frozenset({5823970, 5849033}): {6326, 10018, 11917},\n frozenset({5809729, 5849033}): {3788, 4968},\n frozenset({5670733, 5849033}): {1710, 6916},\n frozenset({5849033, 5903874}): {2491, 2738},\n frozenset({5766284, 5766291}): {25, 11951},\n frozenset({5763379, 5814516}): {3026, 11063},\n frozenset({5763379, 5814517}): {3026, 11063},\n frozenset({5649271, 5763379}): {2621, 5784},\n frozenset({5763379, 5776130}): {1238, 8666},\n frozenset({5304, 5763379}): {2199, 10921},\n frozenset({5763379, 5849555}): {7307, 10327},\n frozenset({5763379, 5876729}): {1754, 3184},\n frozenset({5763379, 5763380}): {2199,\n  3026,\n  5784,\n  7865,\n  8102,\n  10245,\n  10721,\n  13005},\n frozenset({5755598, 5763379}): {2961, 3705},\n frozenset({35658, 5809555}): {2743, 2867},\n frozenset({5802440, 5834157}): {122, 8239},\n frozenset({5834157, 5881433}): {7724, 8239},\n frozenset({5834157, 5834160}): {7724, 10428},\n frozenset({5677025, 5677043}): {1282, 6086, 8338},\n frozenset({5677025, 5697461}): {5766, 7593},\n frozenset({5677025, 5677448}): {109, 11566},\n frozenset({5677025, 5677450}): {109, 3845},\n frozenset({5676783, 5677025}): {109,\n  957,\n  1574,\n  2277,\n  2514,\n  2953,\n  5192,\n  5250,\n  6225,\n  8240,\n  11566,\n  11756},\n frozenset({5676828, 5677025}): {5008, 5918, 6086},\n frozenset({5677025, 5677456}): {5008, 6571},\n frozenset({5677025, 5704411}): {1574, 2456, 11566},\n frozenset({5676827, 5677025}): {2456, 13002},\n frozenset({5615144, 5742957}): {3616, 6108, 9683},\n frozenset({5615234, 5742957}): {3616, 9683},\n frozenset({5677420, 5678118}): {31, 4334, 5377, 8106, 9703},\n frozenset({5677420, 5678117}): {3541, 9703, 10924},\n frozenset({5848925, 5850515}): {32, 5863, 7179},\n frozenset({5850494, 5850515}): {32, 5863},\n frozenset({5850494, 5850500}): {32, 9526, 11254},\n frozenset({5850500, 5850502}): {2620, 7134},\n frozenset({5850500, 5850510}): {3839, 12531},\n frozenset({5848924, 5850500}): {11254, 12531},\n frozenset({5848925, 5850494}): {32, 61, 5863},\n frozenset({5848925, 5852033}): {521, 4310},\n frozenset({5848925, 5848927}): {4310, 5749, 7945},\n frozenset({5850494, 5850496}): {6683, 11254, 12400, 12802},\n frozenset({5892179, 5917178}): {1375, 8308, 9898, 10469, 11266, 12392},\n frozenset({5735268, 5917178}): {2401, 10373},\n frozenset({5886282, 5917178}): {2134, 3239, 8303, 9898, 10411},\n frozenset({5900651, 5917178}): {1375,\n  2134,\n  7223,\n  8303,\n  8308,\n  11187,\n  11266,\n  11710,\n  12392},\n frozenset({5909810, 5917178}): {2134,\n  2656,\n  3239,\n  7569,\n  8308,\n  9898,\n  10411,\n  11187},\n frozenset({5844300, 5917178}): {7223, 8303, 8308, 9898, 10511, 11549},\n frozenset({5917178, 5924482}): {1375,\n  1849,\n  3239,\n  7569,\n  10411,\n  11266,\n  11314,\n  11816,\n  12392},\n frozenset({5805493, 5814192}): {9626, 11605},\n frozenset({5911870, 5911873}): {1247, 9844, 10052},\n frozenset({5673463, 5677451}): {3297, 12355},\n frozenset({5753479, 5759492}): {4197, 6336},\n frozenset({5694673, 5753479}): {288, 6336, 9518},\n frozenset({5753479, 5810672}): {3421, 3695},\n frozenset({59995, 59996}): {806, 1267, 1615, 12855, 12896},\n frozenset({59995, 5651973}): {3536, 7398},\n frozenset({5649235, 5649272}): {441,\n  771,\n  3367,\n  4060,\n  4067,\n  4271,\n  6751,\n  6971,\n  7174,\n  8663,\n  9219,\n  12748},\n frozenset({5649235, 5759491}): {987, 8210},\n frozenset({5649235, 5802165}): {6289, 9585},\n frozenset({5649235, 5649270}): {1084,\n  5372,\n  5993,\n  6008,\n  6035,\n  6429,\n  6496,\n  6691,\n  6971,\n  7275,\n  8079,\n  9219,\n  13056},\n frozenset({5649235, 5649236}): {460,\n  1084,\n  1352,\n  1428,\n  1474,\n  2561,\n  3757,\n  4067,\n  4380,\n  5372,\n  6008,\n  6035,\n  6419,\n  6429,\n  6437,\n  6905,\n  7025,\n  7334,\n  8023,\n  8024,\n  8115,\n  8210,\n  8216,\n  8447,\n  8620,\n  8887,\n  9585,\n  10322,\n  11316,\n  11993},\n frozenset({5649235, 5649271}): {3757, 6437, 7275, 8079, 8115},\n frozenset({5649235, 5790563}): {1657, 4067, 5201, 7031},\n frozenset({5649235, 5844894}): {7025, 8663},\n frozenset({5649235, 5820072}): {3240,\n  4060,\n  6118,\n  6429,\n  8024,\n  8115,\n  8447,\n  13097},\n frozenset({5649235, 5677424}): {6212, 9585},\n frozenset({5649235, 5739055}): {6905, 11070},\n frozenset({5649235, 5820073}): {4060, 7174},\n frozenset({5649235, 5823667}): {460, 6496},\n frozenset({5649235, 5784897}): {8024, 8620, 13056},\n frozenset({5649235, 5650174}): {3007, 3694},\n frozenset({5649235, 5867752}): {6429, 13097},\n frozenset({5649235, 5739056}): {6905, 11070},\n frozenset({5649235, 5676826}): {1535, 13097},\n frozenset({5649235, 5759385}): {6289, 8839},\n frozenset({5649235, 5808329}): {9585, 11070},\n frozenset({5886282, 5892179}): {729,\n  1069,\n  1545,\n  1721,\n  3575,\n  3596,\n  3640,\n  4000,\n  4063,\n  4146,\n  4660,\n  4769,\n  4874,\n  4937,\n  5435,\n  6020,\n  6056,\n  6207,\n  6404,\n  6411,\n  6475,\n  7096,\n  7692,\n  8321,\n  8569,\n  8871,\n  8997,\n  9898},\n frozenset({5892179, 5900651}): {312,\n  1069,\n  1078,\n  1375,\n  2535,\n  3357,\n  3573,\n  5242,\n  5435,\n  5990,\n  6020,\n  6056,\n  6207,\n  6404,\n  6475,\n  7096,\n  7692,\n  8183,\n  8308,\n  8569,\n  8997,\n  10136,\n  11266,\n  12392},\n frozenset({5886064, 5892179}): {1545,\n  2977,\n  3110,\n  3575,\n  4146,\n  4538,\n  4561,\n  4660,\n  4874},\n frozenset({5157, 5892179}): {2077, 3596},\n frozenset({5892179, 5909810}): {3573,\n  3640,\n  4660,\n  6404,\n  7692,\n  7758,\n  8308,\n  8321,\n  8348,\n  8569,\n  8997,\n  9898,\n  10136},\n frozenset({5844300, 5892179}): {1069,\n  4769,\n  6475,\n  7096,\n  7692,\n  7758,\n  8308,\n  8348,\n  8569,\n  8997,\n  9898},\n frozenset({5892179, 5924482}): {1078, 1375, 11266, 12392},\n frozenset({5880640, 5892179}): {2977,\n  3110,\n  3575,\n  4063,\n  4538,\n  4568,\n  4769,\n  6020,\n  6404},\n frozenset({5766592, 5766594}): {41, 1118},\n frozenset({5649270, 5649272}): {946,\n  1658,\n  2740,\n  3722,\n  4095,\n  5827,\n  5969,\n  6259,\n  6514,\n  6971,\n  8493,\n  9219,\n  12763,\n  12993},\n frozenset({5649236, 5649272}): {474,\n  3858,\n  4067,\n  4095,\n  4834,\n  5827,\n  6745,\n  7473,\n  9624,\n  9945,\n  11152},\n frozenset({5649271, 5649272}): {474,\n  4363,\n  5969,\n  8493,\n  10103,\n  11152,\n  12868,\n  12993},\n frozenset({5649272, 5790563}): {4067, 12868},\n frozenset({5649272, 5844894}): {5894, 6514, 8663, 12699, 12868},\n frozenset({5649272, 5820072}): {2164, 4060, 7243},\n frozenset({5649272, 5900462}): {5895, 9219, 12993},\n frozenset({5649272, 5820073}): {385,\n  2164,\n  4060,\n  4122,\n  5356,\n  7174,\n  7243,\n  8493,\n  9260},\n frozenset({5649272, 5692891}): {441, 2846},\n frozenset({5649272, 5886553}): {5895, 6271, 12699},\n frozenset({5649272, 5650141}): {6745, 7243},\n frozenset({5851707, 5851708}): {42, 5685, 6536},\n frozenset({5851707, 5851711}): {42, 1975, 4134, 6536},\n frozenset({5851707, 5851709}): {1975, 6536},\n frozenset({5851707, 5852241}): {4811, 5887},\n frozenset({5851708, 5851711}): {42, 6536},\n frozenset({5851708, 5851710}): {1656, 3299, 5685, 6014, 6504, 7592},\n frozenset({5851708, 5851709}): {6504, 6536, 7592, 10582},\n frozenset({5851709, 5851711}): {1975, 6536},\n frozenset({5809912, 5854828}): {43, 1756},\n frozenset({5809911, 5809912}): {43,\n  285,\n  798,\n  1123,\n  2054,\n  3895,\n  4111,\n  4432,\n  5665,\n  6397,\n  6720,\n  7370,\n  7920,\n  8054,\n  8354,\n  9092,\n  9185,\n  9806,\n  10682,\n  10717,\n  11874,\n  11895,\n  12249,\n  13121},\n frozenset({5809912, 5855118}): {50, 2560},\n frozenset({5809912, 5826000}): {3468, 10384},\n frozenset({5809912, 5816170}): {1123, 2577, 4432, 6703, 7370, 7408, 10384},\n frozenset({5809912, 5816172}): {722, 11574},\n frozenset({5615144, 5809912}): {10790, 11786},\n frozenset({5937, 5809912}): {4000, 9106},\n frozenset({5809912, 5816166}): {956, 1908},\n frozenset({5809912, 5814046}): {722, 6397, 7337},\n frozenset({5809912, 5854831}): {1123, 7644},\n frozenset({5809912, 5854832}): {1756, 5665},\n frozenset({5809912, 5816169}): {7408, 8054, 11574},\n frozenset({5809912, 5854827}): {7920, 11375},\n frozenset({5809911, 5854828}): {43, 8829},\n frozenset({5809911, 5816170}): {377,\n  1123,\n  3870,\n  4432,\n  4596,\n  5262,\n  6674,\n  7140,\n  7370,\n  8344,\n  8438,\n  10617},\n frozenset({5809911, 5854819}): {240, 9806},\n frozenset({5809911, 5816166}): {1967, 3572, 9270},\n frozenset({5809911, 5854827}): {5375, 7920},\n frozenset({5759491, 5759492}): {88,\n  542,\n  1094,\n  1976,\n  2952,\n  3022,\n  3154,\n  4880,\n  6436,\n  7293,\n  7923,\n  9283,\n  12241,\n  12545},\n frozenset({5739493, 5759491}): {1764, 5115, 11999},\n frozenset({5569518, 5759491}): {7136, 8641},\n frozenset({5759491, 5770385}): {766, 1976, 3492, 7542, 11992},\n frozenset({5759491, 5810673}): {987, 10973, 11405},\n frozenset({5753480, 5759491}): {3022, 3653, 7156, 8187},\n frozenset({5694673, 5759491}): {5230, 8187},\n frozenset({5651975, 5759491}): {545,\n  3154,\n  3492,\n  3653,\n  5230,\n  8598,\n  10042,\n  10973,\n  11237,\n  12172,\n  13082},\n frozenset({5569504, 5759491}): {542, 4880, 5115},\n frozenset({5739491, 5759491}): {5522, 6436, 7923},\n frozenset({5733046, 5759491}): {1622, 3629, 7156},\n frozenset({5749199, 5759491}): {987, 1094, 1976, 4266, 12241},\n frozenset({5723406, 5759491}): {6436, 8641},\n frozenset({5759491, 5802162}): {1313, 1742, 7156, 9283, 11405},\n frozenset({5759491, 5810672}): {546, 1622, 2097, 6791, 10042},\n frozenset({5759491, 5792799}): {766, 3500},\n frozenset({5736504, 5759491}): {546, 1622, 4286, 4844, 11405, 13082},\n frozenset({5759491, 5809612}): {546, 4286},\n frozenset({5759491, 5764716}): {7293, 10902, 12241, 13074},\n frozenset({5759491, 5767495}): {2498, 3492, 5115, 11405},\n frozenset({5753487, 5759491}): {1094, 12172},\n frozenset({5759491, 5766980}): {2952, 13074},\n frozenset({5759491, 5813882}): {1976, 7293, 7923, 8598},\n frozenset({5609124, 5759491}): {6791, 8641},\n frozenset({5569510, 5759491}): {8187, 12172},\n frozenset({60016, 5759491}): {1624, 8682},\n frozenset({5525253, 5759491}): {1764, 2097},\n frozenset({5753484, 5759491}): {3154, 11237},\n frozenset({5753400, 5759491}): {7156, 8187},\n frozenset({5759491, 5787746}): {7156, 13074},\n frozenset({5732790, 5759491}): {4286, 12545},\n frozenset({5843754, 5843758}): {6765, 7478, 10096, 10911},\n frozenset({5937, 5953}): {882, 2484},\n frozenset({5729897, 5752164}): {1493, 2141},\n frozenset({4497, 5868795}): {552, 3910},\n frozenset({5868795, 5869134}): {552, 10841, 11918, 12905},\n frozenset({5372, 5832415}): {3951, 12707},\n frozenset({5855117, 5855118}): {6067, 7800},\n frozenset({5528034, 5783987}): {6552, 12536},\n frozenset({5615144, 5783987}): {4293, 6108, 6784, 11849},\n frozenset({5751422, 5783987}): {6361, 6552},\n frozenset({5649219, 5783987}): {5598, 5908},\n frozenset({5773361, 5783987}): {4595, 12461},\n frozenset({5549838, 5783987}): {4595, 6361},\n frozenset({5713014, 5713016}): {51, 1057, 8910},\n frozenset({5713013, 5713016}): {1057, 5446},\n frozenset({5713013, 5713014}): {62, 1057, 2013, 6191, 8341, 8824, 11832},\n frozenset({5713014, 5713015}): {62, 1254, 12295},\n frozenset({5713014, 5808984}): {62, 8910},\n frozenset({5713014, 5713017}): {62, 3656, 6191, 8341, 8824, 9402, 12867},\n frozenset({5713014, 5791011}): {9365, 9402},\n frozenset({5712836, 5713014}): {9365, 9402},\n frozenset({5853035, 5853045}): {629, 10675},\n frozenset({5853035, 5853036}): {8929, 9289, 10630},\n frozenset({5853035, 5853038}): {8929, 9289, 10630},\n frozenset({5853035, 5853037}): {629,\n  2728,\n  2958,\n  3334,\n  3515,\n  5367,\n  7652,\n  8929,\n  8971,\n  9204,\n  10128,\n  10472,\n  10569,\n  10695},\n frozenset({5853034, 5853035}): {6904, 10630, 10695, 11588, 11664},\n frozenset({5755601, 5814516}): {54, 3268, 10121},\n frozenset({5755601, 5814517}): {54, 3268, 10121},\n frozenset({5755601, 5824227}): {1372,\n  3570,\n  6705,\n  7262,\n  8038,\n  8067,\n  8464,\n  8907,\n  10956,\n  12823},\n frozenset({5755601, 5836204}): {8038, 9924, 12823},\n frozenset({5755601, 5804663}): {3556, 12084},\n frozenset({5814516, 5814517}): {54,\n  192,\n  419,\n  665,\n  690,\n  756,\n  881,\n  1483,\n  1709,\n  1735,\n  1796,\n  1813,\n  1983,\n  2167,\n  2254,\n  2311,\n  2847,\n  3026,\n  3268,\n  3740,\n  4253,\n  4281,\n  4373,\n  5135,\n  5506,\n  6586,\n  6979,\n  8918,\n  8965,\n  8979,\n  9405,\n  9953,\n  10121,\n  10130,\n  10260,\n  10451,\n  10554,\n  10628,\n  10986,\n  11063,\n  11123,\n  11306,\n  11471,\n  12087,\n  12189,\n  12216,\n  12774,\n  12869,\n  12955},\n frozenset({5814516, 5882788}): {1983, 4281},\n frozenset({5814516, 5846096}): {192, 5506, 6586, 6979},\n frozenset({5814516, 5814518}): {192,\n  419,\n  665,\n  1483,\n  1813,\n  2167,\n  2254,\n  2847,\n  3026,\n  4373,\n  5506,\n  8918,\n  8979,\n  10130,\n  10986,\n  11471,\n  12087,\n  12189,\n  12955},\n frozenset({5776130, 5814516}): {3268, 4253, 8965},\n frozenset({5814516, 5881429}): {1813, 10554},\n frozenset({5814516, 5877207}): {665, 690, 1735, 10260, 12063, 12955},\n frozenset({5814516, 5916099}): {1111, 1284},\n frozenset({5814516, 5916100}): {1284, 1709},\n frozenset({5814516, 5877047}): {1284, 3026},\n frozenset({5814516, 5881465}): {1983, 2847},\n frozenset({5814517, 5882788}): {1983, 4281, 7826},\n frozenset({5814517, 5846096}): {192, 5506, 6586, 6979},\n frozenset({5814517, 5814518}): {192,\n  419,\n  665,\n  1483,\n  1813,\n  2167,\n  2254,\n  2847,\n  3026,\n  4373,\n  5506,\n  7826,\n  8918,\n  8979,\n  10130,\n  10986,\n  11471,\n  12087,\n  12189,\n  12955},\n frozenset({5776130, 5814517}): {3268, 4253, 8965},\n frozenset({5814517, 5881429}): {1813, 10554},\n frozenset({5814517, 5877207}): {665, 690, 1735, 6362, 8781, 10260, 12955},\n frozenset({5814517, 5825534}): {8528, 8781},\n frozenset({5814517, 5881465}): {1983, 2847},\n frozenset({5784897, 5784898}): {2221, 5451, 12967},\n frozenset({5760002, 5802437}): {201, 7019},\n frozenset({5802437, 5836514}): {612, 1365},\n frozenset({5802437, 5834159}): {886, 6562, 7608},\n frozenset({5802437, 5836488}): {5780, 9112},\n frozenset({5802437, 5834158}): {1181, 7608},\n frozenset({5802437, 5836517}): {7019, 9035},\n frozenset({5738763, 5738765}): {2425, 9611},\n frozenset({5738762, 5738765}): {3841, 9611},\n frozenset({5649270, 5677465}): {2610, 8600},\n frozenset({5646693, 5913645}): {2075, 2589},\n frozenset({5646670, 5646693}): {2075, 3093, 7106, 10574},\n frozenset({5816170, 5816171}): {58, 2577},\n frozenset({5816170, 5816172}): {3465, 6585, 11757},\n frozenset({5816166, 5816170}): {3621, 8477},\n frozenset({5814046, 5816170}): {3106, 9836},\n frozenset({5816170, 5854812}): {12064, 12731},\n frozenset({5816170, 5885416}): {5262, 9836},\n frozenset({5816170, 5850625}): {7140, 9599},\n frozenset({5650294, 5650610}): {2497, 6517, 9741, 11124},\n frozenset({5650610, 5692049}): {556, 1976, 2497, 3314},\n frozenset({5650610, 5692261}): {9941, 11271},\n frozenset({5650610, 5694628}): {1315, 2497, 6517, 6998, 8816, 11124},\n frozenset({5650293, 5650610}): {3763, 11124},\n frozenset({5041, 7681}): {1664, 5233},\n frozenset({5157, 7681}): {1664, 2171},\n frozenset({7681, 5651977}): {1664, 2931},\n frozenset({7681, 5728072}): {2171, 2931, 5233, 8827, 10860},\n frozenset({7681, 5710587}): {3419, 9055},\n frozenset({7681, 5655023}): {5209, 9261},\n frozenset({5166, 7681}): {3818, 10860},\n frozenset({5041, 5828610}): {7378, 8452},\n frozenset({5828610, 5863222}): {8915, 12411},\n frozenset({72421, 5828610}): {3813, 8452},\n frozenset({5713013, 5713015}): {62, 12628},\n frozenset({5713013, 5808984}): {62, 4424},\n frozenset({5713013, 5713017}): {62, 4424, 6191, 8341, 8824},\n frozenset({5713017, 5808984}): {62, 4424},\n frozenset({5712836, 5713017}): {8951, 9402},\n frozenset({7652, 5586142}): {5900, 9869},\n frozenset({4958, 5586142}): {2619, 9869},\n frozenset({4185, 4229}): {144, 2074, 3409, 5343, 6430, 8745, 8878},\n frozenset({4185, 5729864}): {442, 4404},\n frozenset({4185, 5856186}): {2074, 9048},\n frozenset({4185, 5804261}): {7779, 7925, 8392, 8745, 10883, 11692},\n frozenset({3774, 4185}): {5693, 7257},\n frozenset({3762, 4185}): {633,\n  829,\n  1485,\n  2130,\n  2322,\n  3034,\n  3082,\n  4404,\n  4519,\n  5343,\n  5386,\n  7257,\n  7344,\n  7351,\n  7617,\n  7824,\n  7890,\n  7912,\n  8801,\n  9782,\n  10115,\n  10232,\n  10661,\n  11679,\n  12026},\n frozenset({3978, 4185}): {3034, 3546, 5343, 10883},\n frozenset({4185, 5691640}): {576, 5693},\n frozenset({4185, 5760173}): {8392, 9782},\n frozenset({4185, 8200}): {8878, 11679},\n frozenset({4185, 5764656}): {829, 2639},\n frozenset({4185, 5856189}): {958, 9885},\n frozenset({4185, 59738}): {3034, 5386},\n frozenset({4185, 18083}): {4519, 7563},\n frozenset({5627738, 5750301}): {67, 4606, 10677},\n frozenset({5750301, 5823407}): {1463, 10677},\n frozenset({5830317, 5870366}): {128, 8201},\n frozenset({5804023, 5830317}): {128, 5360},\n frozenset({5772168, 5806922}): {5169, 12814},\n frozenset({5772167, 5772168}): {4036, 5169, 12814},\n frozenset({5798924, 5798929}): {70, 172, 7796},\n frozenset({5798928, 5798929}): {172, 10402, 12815},\n frozenset({5677043, 5704370}): {2306, 2365, 6612, 6910, 7372, 11922, 12158},\n frozenset({5697463, 5704370}): {2306, 2593, 6910, 7660, 11922},\n frozenset({5677038, 5704370}): {2593, 6910, 7358, 7372, 8554, 11922, 12158},\n frozenset({5704370, 5704386}): {2365, 6155, 6884, 7884, 8554},\n frozenset({5704370, 5704411}): {6155, 8554},\n frozenset({5724232, 5822650}): {71, 9217},\n frozenset({5528035, 5822650}): {675, 1377, 6907, 9047},\n frozenset({5751422, 5822650}): {2716, 8020},\n frozenset({5822650, 5823970}): {6670, 12957},\n frozenset({5813492, 5822650}): {837, 9047},\n frozenset({5820270, 5822650}): {2716, 6670, 12957},\n frozenset({5822650, 5822651}): {10744, 11148},\n frozenset({5815730, 5815731}): {72, 1582, 3618, 3924},\n frozenset({5751422, 5815730}): {1582, 3924, 9357},\n frozenset({5751422, 5815731}): {535, 1582, 3924, 8576, 10910},\n frozenset({5792800, 5815731}): {535, 1055},\n frozenset({5815731, 5823970}): {7953, 8174, 12608},\n frozenset({5809728, 5815731}): {8274, 10910},\n frozenset({5818192, 5818200}): {408, 1205},\n frozenset({5621591, 5693499}): {8728, 13057},\n frozenset({5620923, 5621591}): {8536, 11031, 12960},\n frozenset({5649270, 5677043}): {6165, 11872},\n frozenset({5649236, 5677043}): {5570, 5622},\n frozenset({5649305, 5677043}): {2158, 10505},\n frozenset({5677043, 5790563}): {310,\n  1289,\n  2991,\n  3914,\n  5201,\n  5570,\n  5622,\n  12632},\n frozenset({5677043, 5844894}): {1695, 5570},\n frozenset({5677043, 5677456}): {1405, 2108, 5340, 5912, 11218, 11872, 11892},\n frozenset({5677043, 5697463}): {247,\n  711,\n  954,\n  1405,\n  1863,\n  2306,\n  2376,\n  2909,\n  2918,\n  2991,\n  3565,\n  4355,\n  4391,\n  4495,\n  4740,\n  4933,\n  5020,\n  5029,\n  5171,\n  5248,\n  5255,\n  5293,\n  5571,\n  5690,\n  5804,\n  5912,\n  6047,\n  6234,\n  6540,\n  6568,\n  6758,\n  6910,\n  7101,\n  7535,\n  7819,\n  7954,\n  8290,\n  8642,\n  9295,\n  9516,\n  9675,\n  9758,\n  9845,\n  9938,\n  10041,\n  10216,\n  10392,\n  10913,\n  11002,\n  11218,\n  11398,\n  11835,\n  11922,\n  12012,\n  12985},\n frozenset({5677043, 5739030}): {3139, 4354},\n frozenset({5677037, 5677043}): {310,\n  534,\n  1693,\n  2410,\n  2898,\n  2909,\n  4495,\n  5576,\n  6269,\n  10505},\n frozenset({5677043, 5677244}): {2363, 12220},\n frozenset({5677043, 5823667}): {1379, 4355, 6454, 6518, 6758, 6886},\n frozenset({5677043, 5677990}): {3831, 6269, 8757},\n frozenset({5677043, 5787849}): {639, 1852, 8762},\n frozenset({5677038, 5677043}): {711,\n  1852,\n  2108,\n  2918,\n  4577,\n  4690,\n  5571,\n  5690,\n  5804,\n  5869,\n  6047,\n  6910,\n  7372,\n  9295,\n  9758,\n  10392,\n  11218,\n  11922,\n  12158},\n frozenset({5677043, 5677045}): {3831, 6047},\n frozenset({5677043, 5784897}): {5622, 11892},\n frozenset({5677043, 5793262}): {1330, 11970},\n frozenset({5677043, 5677422}): {2308, 3303, 8762},\n frozenset({5677043, 5847108}): {1048, 4832},\n frozenset({5677043, 5739057}): {1405, 12220},\n frozenset({5677043, 5677358}): {2306, 5702, 6758},\n frozenset({5677043, 5697462}): {2410, 7809, 11922},\n frozenset({5677043, 5816919}): {3139, 9549},\n frozenset({5677043, 5677224}): {4391, 6047},\n frozenset({5864573, 5864574}): {5645, 8018},\n frozenset({5594492, 5607752}): {8111, 10578},\n frozenset({5594488, 5607752}): {9684, 10578},\n frozenset({5607751, 5607752}): {8111, 9150},\n frozenset({5697461, 5697497}): {80, 5766},\n frozenset({5678468, 5697461}): {5766, 7917},\n frozenset({5678468, 5697497}): {3179, 3328, 5766, 12191, 12238},\n frozenset({5677402, 5677403}): {6942, 7523},\n frozenset({5676843, 5677402}): {5932, 6942},\n frozenset({5677402, 5697495}): {5932, 6942},\n frozenset({5689127, 5694639}): {867, 3025},\n frozenset({5764716, 5787829}): {5730, 13074},\n frozenset({5649236, 5802165}): {1093, 9585},\n frozenset({5677424, 5802165}): {9585, 9803},\n frozenset({5802165, 5823667}): {1389, 10257},\n frozenset({5745715, 5802165}): {1492, 7764, 8826},\n frozenset({5802165, 5861591}): {4471, 7360},\n frozenset({5802165, 5808546}): {943, 1417},\n frozenset({5739057, 5802165}): {1768, 1820, 8826},\n frozenset({5802165, 5905661}): {1385, 1794},\n frozenset({5739449, 5802165}): {4870, 7123},\n frozenset({5739031, 5802165}): {4870, 7123},\n frozenset({5802165, 5814652}): {4634, 7737},\n frozenset({5802165, 5808329}): {3526, 9585},\n frozenset({5739032, 5802165}): {3589, 8826},\n frozenset({5649236, 5649270}): {328,\n  657,\n  1084,\n  1245,\n  2406,\n  3545,\n  4095,\n  4396,\n  5372,\n  5563,\n  5827,\n  6008,\n  6035,\n  6121,\n  6429,\n  6782,\n  7055,\n  8600,\n  9628,\n  10670,\n  12612},\n frozenset({5649270, 5649271}): {328,\n  743,\n  2621,\n  2913,\n  4230,\n  5005,\n  5969,\n  6121,\n  7275,\n  8079,\n  8493,\n  9628,\n  11718,\n  12612,\n  12993},\n frozenset({5649270, 5649305}): {123, 4044},\n frozenset({5649270, 5650143}): {123, 9430},\n frozenset({5649270, 5866418}): {148, 6096},\n frozenset({5649270, 5790563}): {1395, 3921},\n frozenset({5649270, 5844894}): {5283, 6514},\n frozenset({5649270, 5820072}): {1149, 3921, 4230, 6429, 6445, 6930, 11734},\n frozenset({5649270, 5677456}): {993, 2406, 6514, 11872},\n frozenset({5649270, 5649302}): {2297, 2740},\n frozenset({5649270, 5900462}): {9219, 12993},\n frozenset({5649270, 5820073}): {3921, 8493},\n frozenset({5649270, 5823769}): {981, 1149, 4336},\n frozenset({5649270, 5784897}): {981, 13056},\n frozenset({5649270, 5823778}): {1149, 4336, 6928, 9628},\n frozenset({5041, 59978}): {2391, 3407, 6048, 7132},\n frozenset({5170, 59978}): {7132, 9870},\n frozenset({5157, 59978}): {9870, 10969},\n frozenset({59978, 5651977}): {3407, 9827},\n frozenset({24388, 59978}): {6872, 9860, 9870},\n frozenset({59978, 59980}): {4089, 10969},\n frozenset({5788423, 5889300}): {692, 1632, 5307, 11740},\n frozenset({5649236, 5849915}): {87, 3649, 13091},\n frozenset({5749199, 5849915}): {2985, 3894},\n frozenset({5649236, 5649271}): {221,\n  328,\n  369,\n  474,\n  1093,\n  1209,\n  2170,\n  2402,\n  2503,\n  2516,\n  3598,\n  3718,\n  3757,\n  6121,\n  6188,\n  6437,\n  8115,\n  8618,\n  8944,\n  9410,\n  9628,\n  9661,\n  10201,\n  11152,\n  11936,\n  12612,\n  12946},\n frozenset({5649236, 5751422}): {7103, 12865},\n frozenset({5649236, 5886282}): {3575, 5510},\n frozenset({5649236, 5900651}): {3718, 5510},\n frozenset({5649236, 5790563}): {2039, 2508, 4067, 5570, 5577, 5622, 7765},\n frozenset({5649236, 5844894}): {4341, 5570, 7025},\n frozenset({5649236, 5844670}): {460, 1245},\n frozenset({5649236, 5820072}): {221, 569, 2461, 6429, 8024, 8115, 8447},\n frozenset({5649236, 5677456}): {2406, 4123, 8982},\n frozenset({5649236, 5900462}): {8944, 10918},\n frozenset({5649236, 5739055}): {6905, 10804},\n frozenset({5649236, 5815036}): {2461, 8024},\n frozenset({5649236, 5823667}): {460, 1227},\n frozenset({5649236, 5861591}): {5333, 5879},\n frozenset({5649236, 5784677}): {2461, 9598},\n frozenset({5649236, 5784897}): {2995, 5622, 8024, 8620, 12865},\n frozenset({5649236, 5651702}): {4741, 6859, 10322},\n frozenset({5649236, 5761285}): {3557, 4095},\n frozenset({5649236, 5739057}): {7988, 10918},\n frozenset({5649236, 5757469}): {7596, 9585},\n frozenset({5649236, 5767589}): {1337, 7284},\n frozenset({5649236, 5867752}): {1426, 6429},\n frozenset({5649236, 5739056}): {6905, 10804},\n frozenset({5649236, 5774072}): {6419, 10804, 13091},\n frozenset({5649236, 5761284}): {3466, 4741},\n frozenset({5649236, 5880640}): {3575, 5510},\n frozenset({5649236, 5843754}): {6765, 8620},\n frozenset({5743947, 5759492}): {88, 11927, 12934},\n frozenset({5743947, 5745714}): {2020, 3864},\n frozenset({5739493, 5759492}): {3553, 5991, 7433},\n frozenset({5759486, 5759492}): {141, 8080},\n frozenset({5759492, 5770385}): {1976, 2366},\n frozenset({5651938, 5759492}): {1408,\n  4254,\n  4703,\n  5726,\n  7331,\n  8558,\n  9940,\n  10299},\n frozenset({24331, 5759492}): {7846, 12974},\n frozenset({24336, 5759492}): {1299, 3096, 12974},\n frozenset({5759492, 5810673}): {1039, 6894},\n frozenset({5651975, 5759492}): {3154, 5557},\n frozenset({5569504, 5759492}): {542, 4880},\n frozenset({5739491, 5759492}): {1396,\n  3988,\n  6436,\n  7185,\n  7735,\n  7923,\n  8917,\n  10037},\n frozenset({5743974, 5759492}): {1039, 4703, 5366, 6027, 8145, 11193},\n frozenset({5749199, 5759492}): {1039,\n  1094,\n  1976,\n  4254,\n  4398,\n  5128,\n  5366,\n  5557,\n  8250,\n  8917,\n  12241},\n frozenset({5723406, 5759492}): {365, 6436},\n frozenset({5759492, 5802162}): {1017, 4905, 9283},\n frozenset({5759492, 5810672}): {5557, 5767, 6559, 8722},\n frozenset({5759492, 5824227}): {7415, 9090},\n frozenset({5651986, 5759492}): {6068, 11927},\n frozenset({5569522, 5759492}): {542, 10271},\n frozenset({5752949, 5759492}): {3669, 11564},\n frozenset({24675, 5759492}): {5767, 11807},\n frozenset({5723409, 5759492}): {3669, 9982},\n frozenset({5759492, 5764716}): {1408, 7293, 9281, 10640, 12117, 12241},\n frozenset({5759492, 5766979}): {4905, 10962},\n frozenset({5759492, 5767495}): {5991, 10640},\n frozenset({5745714, 5759492}): {10592, 12117},\n frozenset({5745713, 5759492}): {5727, 9156, 9281},\n frozenset({5759492, 5764714}): {2707, 3553, 7331, 9281},\n frozenset({5759492, 5770995}): {1299, 3726, 12934},\n frozenset({59996, 5759492}): {1267, 6832, 7415},\n frozenset({5759492, 5766980}): {2019,\n  2952,\n  3726,\n  3803,\n  4197,\n  4637,\n  5726,\n  5767,\n  5991,\n  7750,\n  8080,\n  8105,\n  8558,\n  8917,\n  10037,\n  10299,\n  10592,\n  10962,\n  11053},\n frozenset({5759492, 5836522}): {5991, 8407},\n frozenset({5759492, 5813882}): {1976, 4398, 7293, 7923, 10592},\n frozenset({5749198, 5759492}): {1299, 2952, 6027, 6387},\n frozenset({24330, 5759492}): {3726, 3935},\n frozenset({5759492, 5788783}): {1396, 6068, 6387, 8105},\n frozenset({5723408, 5759492}): {5905, 9982},\n frozenset({5708350, 5759492}): {3726, 7293},\n frozenset({6801, 5759492}): {1668, 8356},\n frozenset({5739492, 5759492}): {7433, 7735},\n frozenset({5759492, 5767493}): {4637, 6559, 8105, 12545},\n frozenset({5759492, 5767494}): {4637, 5726, 10962},\n frozenset({59987, 5759492}): {12009, 12841},\n frozenset({5688669, 5759492}): {3988, 4398},\n frozenset({5759492, 5775814}): {5128, 5366, 6387, 8917},\n frozenset({6730, 5712801}): {4565, 5131, 9462},\n frozenset({5712801, 5855332}): {3378, 6196},\n frozenset({6731, 5712801}): {4565, 5131},\n frozenset({5801046, 5899144}): {93, 739},\n frozenset({27759, 27762}): {4648, 10378, 11663},\n frozenset({5596058, 5619728}): {96, 3008},\n frozenset({5596058, 5596066}): {7589, 11079},\n frozenset({37457, 5799891}): {4961, 6804, 9515},\n frozenset({5405, 37457}): {6612, 8463},\n frozenset({5859270, 5859271}): {1604, 9610},\n frozenset({5735268, 5773594}): {3091, 10373},\n frozenset({5751422, 5854897}): {2131, 3796, 11323},\n frozenset({5693616, 5738998}): {7309, 12621},\n frozenset({5883981, 5883982}): {8626, 11348},\n frozenset({5882787, 5882788}): {105, 8719},\n frozenset({5846096, 5882788}): {885, 3739, 5392, 8050},\n frozenset({5846437, 5882788}): {7464, 8282, 8514},\n frozenset({59004, 5882788}): {538, 1314},\n frozenset({5882786, 5882788}): {375, 940, 11766},\n frozenset({5882573, 5882788}): {3739, 4272, 4948},\n frozenset({5584844, 5882788}): {2752, 8690},\n frozenset({5882782, 5882788}): {4272, 8719},\n frozenset({5834172, 5836527}): {3366, 4357},\n frozenset({19162, 5865525}): {1716, 2374, 11942},\n frozenset({5865522, 5865525}): {3144, 11942},\n frozenset({5865525, 5865526}): {1716, 2374},\n frozenset({5597238, 5865525}): {1716, 11942},\n frozenset({5528034, 5528035}): {108,\n  337,\n  566,\n  1036,\n  1224,\n  1576,\n  2148,\n  2467,\n  2576,\n  3223,\n  3802,\n  3872,\n  4141,\n  4437,\n  4831,\n  5751,\n  6907,\n  7092,\n  7714,\n  8820,\n  8994,\n  10151,\n  12115,\n  12873},\n frozenset({5528034, 5751422}): {535, 6552},\n frozenset({5528034, 5724230}): {2467, 3564, 3872},\n frozenset({5528034, 5528051}): {566, 3846, 6488},\n frozenset({5528034, 5813492}): {1036, 1224, 4437, 4751, 7970},\n frozenset({5528035, 5629448}): {139, 7996},\n frozenset({5528035, 5751422}): {139, 9714},\n frozenset({5528035, 5875273}): {6864, 8732},\n frozenset({5528035, 5649213}): {458, 1729},\n frozenset({5528035, 5724230}): {218,\n  1798,\n  1937,\n  2467,\n  3872,\n  4167,\n  5277,\n  10544},\n frozenset({5528035, 5528051}): {218, 566, 1955, 3743},\n frozenset({5528035, 5813492}): {343,\n  391,\n  979,\n  1036,\n  1224,\n  1955,\n  3687,\n  4437,\n  8970,\n  9047,\n  11619},\n frozenset({5528035, 5813498}): {1798, 9159},\n frozenset({5528035, 5857669}): {8820, 9808},\n frozenset({5528035, 5813497}): {1798, 1955},\n frozenset({5528035, 5599264}): {6661, 9990, 10797, 12681},\n frozenset({5528035, 5762161}): {3223, 7486},\n frozenset({5528035, 5906207}): {7996, 9047},\n frozenset({5676783, 5677448}): {109, 11566},\n frozenset({5677448, 5677456}): {6111, 11892},\n frozenset({5677448, 5704411}): {11566, 12651},\n frozenset({5676783, 5739055}): {5994, 11866},\n frozenset({5676783, 5704411}): {1574, 11566},\n frozenset({5746011, 5827452}): {277, 2734},\n frozenset({5739493, 5886282}): {3553, 7738},\n frozenset({5651975, 5739493}): {5337, 10077},\n frozenset({5569504, 5739493}): {298,\n  2730,\n  5115,\n  5239,\n  6978,\n  7493,\n  9535,\n  10568},\n frozenset({5739491, 5739493}): {298,\n  1871,\n  2152,\n  2464,\n  4666,\n  4709,\n  6978,\n  7603,\n  9397,\n  9838,\n  10077},\n frozenset({5739493, 5810672}): {5337, 12860},\n frozenset({5569506, 5739493}): {2730, 4666, 5239},\n frozenset({5723409, 5739493}): {4335, 5115, 6978},\n frozenset({5739493, 5767495}): {5115, 5991, 7738},\n frozenset({5739493, 5868465}): {7282, 12098},\n frozenset({5739493, 5764714}): {3553, 6662, 8100, 10252, 11944, 12860},\n frozenset({5739493, 5766980}): {5991, 10077},\n frozenset({5723471, 5739493}): {7433, 11044},\n frozenset({5525253, 5739493}): {1764, 5239},\n frozenset({5739492, 5739493}): {2730, 7433},\n frozenset({5569508, 5739493}): {4335, 6686},\n frozenset({5739493, 5766941}): {4858, 7493},\n frozenset({15215, 19162}): {113, 1716},\n frozenset({19162, 5649305}): {123, 8339},\n frozenset({19162, 5788736}): {1896,\n  5752,\n  6714,\n  7314,\n  8017,\n  9743,\n  9770,\n  11919},\n frozenset({19162, 5801437}): {3194, 3196, 4564, 5483, 5553, 6365, 7720, 9743},\n frozenset({19162, 5614838}): {1614, 4713, 7769},\n frozenset({5143, 19162}): {4564, 7769, 9743},\n frozenset({19162, 5865522}): {188, 1404, 2052, 4408, 5765, 9226, 11942},\n frozenset({19162, 5663267}): {188, 7752},\n frozenset({19162, 5801436}): {188, 5732},\n frozenset({19162, 5545470}): {246, 4803, 7792},\n frozenset({3762, 19162}): {5732, 12227},\n frozenset({19162, 5691640}): {4849, 10617},\n frozenset({19162, 5691623}): {2117, 4564},\n frozenset({19162, 5729012}): {764, 2117, 9004},\n frozenset({6882, 19162}): {764, 9004},\n frozenset({19162, 5865529}): {7510, 11128},\n frozenset({19162, 5842253}): {1236, 1291},\n frozenset({19162, 5812620}): {2052, 8856},\n frozenset({19162, 5788738}): {1614, 9341},\n frozenset({15210, 19162}): {1716, 2877, 3531, 7752},\n frozenset({19162, 5865526}): {1716, 2374, 8856, 9226, 10164},\n frozenset({19162, 5597238}): {1716, 3613, 9004, 11942},\n frozenset({19162, 5645621}): {1979, 3196},\n frozenset({15182, 19162}): {1979, 9226},\n frozenset({19162, 5652897}): {2117, 9004},\n frozenset({19162, 5663269}): {2604, 3613},\n frozenset({19162, 5545480}): {2795, 10613},\n frozenset({19162, 5645622}): {2795, 10798},\n frozenset({15166, 19162}): {2877, 5752, 11197},\n frozenset({19162, 5801438}): {3194, 9537, 9743},\n frozenset({15173, 19162}): {3245, 6616, 10798},\n frozenset({15191, 19162}): {3245, 10800, 11942},\n frozenset({15192, 19162}): {5241, 6365, 10175},\n frozenset({19162, 5646091}): {3774, 9341, 11942},\n frozenset({15211, 19162}): {5148, 10277, 10800},\n frozenset({19162, 5749216}): {5478, 7792, 10613},\n frozenset({19162, 5812623}): {7720, 7752},\n frozenset({15179, 19162}): {10164, 11942},\n frozenset({5866055, 5866056}): {4926, 5482, 6528},\n frozenset({15215, 5865522}): {4345, 6286},\n frozenset({15210, 15215}): {1716, 4345},\n frozenset({5649271, 5820072}): {221, 655, 3147, 4230, 4685, 5382, 8115},\n frozenset({5649271, 5900462}): {8944, 12993},\n frozenset({5649271, 5820073}): {2170, 4139, 4653, 8493},\n frozenset({5649271, 5650173}): {2012, 8115},\n frozenset({5649271, 5867412}): {4814, 7217},\n frozenset({5041, 5170}): {347, 1664, 4687, 7132, 7378, 9078},\n frozenset({5041, 5157}): {347, 1585, 1664, 2922, 3522, 5288, 5496, 9078},\n frozenset({5041, 5651977}): {1664, 3407, 3522, 6922},\n frozenset({5041, 5728072}): {2222, 2922, 5233},\n frozenset({5041, 5240}): {1585, 3522, 4687},\n frozenset({5041, 5562312}): {7132, 7378},\n frozenset({5569518, 5723406}): {7573, 8641},\n frozenset({5569518, 5838676}): {584, 8328},\n frozenset({5569518, 5609124}): {6311, 8641},\n frozenset({5569518, 5837126}): {1696, 12134},\n frozenset({5764716, 5773159}): {1240, 7875, 7929},\n frozenset({5773159, 5813882}): {1240, 7929},\n frozenset({5773159, 5837126}): {3836, 7875},\n frozenset({5773159, 5773160}): {3836, 10843},\n frozenset({5780297, 5790563}): {4486, 10163},\n frozenset({5780297, 5861590}): {3521, 4444},\n frozenset({5902863, 5902865}): {118, 6709},\n frozenset({5787010, 5787018}): {233, 8610},\n frozenset({5807870, 5807875}): {4845, 7780},\n frozenset({5786549, 5786550}): {309, 1332, 8560, 10024, 12285},\n frozenset({5802440, 5836489}): {122, 9761},\n frozenset({5802440, 5802441}): {9362, 9761, 11020},\n frozenset({5836488, 5836489}): {1297, 4352, 6349, 6799, 12376},\n frozenset({5649305, 5844010}): {2158, 9296},\n frozenset({5649305, 5677456}): {6544, 9296},\n frozenset({5788736, 5801437}): {124, 464, 9743},\n frozenset({5614838, 5801437}): {124, 4201, 8006},\n frozenset({5143, 5801437}): {4564, 9743},\n frozenset({5645621, 5801437}): {3196, 3555},\n frozenset({5801437, 5801438}): {3194, 9743},\n frozenset({15192, 5801437}): {3555, 6365},\n frozenset({5614838, 5801436}): {2146, 4201},\n frozenset({15161, 5614838}): {4201, 4314},\n frozenset({36406, 36407}): {125, 3347, 7903, 8752, 11799, 12611},\n frozenset({5676828, 5677456}): {5008, 11176},\n frozenset({5676828, 5787849}): {8877, 12375},\n frozenset({5651725, 5676828}): {1816, 2424},\n frozenset({5676827, 5676828}): {3169,\n  3577,\n  4627,\n  5002,\n  7412,\n  8445,\n  8877,\n  9044,\n  9538,\n  11176,\n  11250,\n  12375,\n  12666},\n frozenset({5804023, 5870366}): {128, 4528},\n frozenset({5700088, 5700096}): {2367, 5944, 6251, 8786, 8968},\n frozenset({5700088, 5723410}): {2912, 6035, 8786},\n frozenset({5700088, 5838655}): {1083, 7153, 10634},\n frozenset({5700088, 5842316}): {1035, 2367, 4739, 6251, 7054, 8744, 8786},\n frozenset({5687288, 5767502}): {4058, 8047},\n frozenset({5597835, 5615144}): {6223, 8867},\n frozenset({5615144, 5615234}): {3306, 3616, 5758, 9683},\n frozenset({8382, 5585380}): {136, 9699},\n frozenset({8388, 8389}): {9029, 9790},\n frozenset({8381, 8382}): {1137, 6591},\n frozenset({6737, 5810673}): {196, 1980},\n frozenset({6737, 5584856}): {5059, 12033},\n frozenset({5677366, 5843737}): {7039, 12008},\n frozenset({5677045, 5677366}): {7593, 12008},\n frozenset({5654961, 5890938}): {11788, 12717},\n frozenset({5738758, 5738761}): {5946, 8087},\n frozenset({5629448, 5751422}): {139, 1287},\n frozenset({5751422, 5792800}): {535, 1287, 6222, 7261, 11074},\n frozenset({5751422, 5823970}): {255, 10952, 11228},\n frozenset({5751422, 5813492}): {8021, 11630},\n frozenset({5751405, 5751422}): {524, 9333},\n frozenset({5751422, 5754853}): {1912, 7498},\n frozenset({5751422, 5857677}): {7261, 8576},\n frozenset({5751422, 5820270}): {1260, 2716, 7079, 7219, 8378, 10952},\n frozenset({5751422, 5809729}): {2872, 3788},\n frozenset({5751422, 5809728}): {8288, 10499, 10910, 11142},\n frozenset({5751384, 5751422}): {4337, 8454},\n frozenset({5751422, 5903874}): {3761, 8454, 8730, 9644},\n frozenset({5751422, 5823969}): {7103, 7219},\n frozenset({5751175, 5751422}): {3788, 9333},\n frozenset({5751401, 5751422}): {9333, 11635},\n frozenset({5726126, 5790689}): {1290,\n  11177,\n  11406,\n  11415,\n  11420,\n  11439,\n  11656},\n frozenset({5766746, 5790689}): {9695, 11476, 11489},\n frozenset({5790689, 5846446}): {4307, 5454},\n frozenset({5790689, 5901987}): {7196, 11243},\n frozenset({5790688, 5790689}): {1290, 2886, 10801, 11433, 11638},\n frozenset({5685798, 5790689}): {7749, 11177, 11420},\n frozenset({5790689, 5854881}): {7749, 11439, 11616},\n frozenset({5790687, 5790689}): {9486, 10801},\n frozenset({5790689, 5790690}): {10801, 11269, 11459},\n frozenset({5788435, 5788436}): {140, 1702},\n frozenset({5788435, 5846437}): {9481, 11247},\n frozenset({5788435, 5846457}): {1331, 9481},\n frozenset({5759486, 5788779}): {141, 9573},\n frozenset({5770385, 5788779}): {2701, 6949, 11096, 12921},\n frozenset({5776130, 5788779}): {222, 11711},\n frozenset({5651975, 5788779}): {2435, 10972},\n frozenset({5788779, 5802162}): {3844, 5133, 11220},\n frozenset({5767495, 5788779}): {5133, 6498},\n frozenset({41504, 5788779}): {1091, 1339},\n frozenset({5770385, 5810673}): {196,\n  1031,\n  2035,\n  2118,\n  2816,\n  2916,\n  3503,\n  4465,\n  5336,\n  5461,\n  5874,\n  6635,\n  11540,\n  11857},\n frozenset({5770385, 5806397}): {196, 6949},\n frozenset({5752939, 5770385}): {8076, 9274},\n frozenset({5651975, 5770385}): {3492, 3586, 5109},\n frozenset({5749199, 5770385}): {1976, 9274},\n frozenset({5770385, 5802162}): {1031, 1195, 3241, 3396, 5461, 6635},\n frozenset({5770385, 5810672}): {2816, 3771, 5109, 5461},\n frozenset({5748205, 5770385}): {4465, 5874, 9455},\n frozenset({5770385, 5792799}): {766, 1316, 2211, 8661, 11857},\n frozenset({5736504, 5770385}): {3028, 3586},\n frozenset({5766979, 5770385}): {5110, 7305, 8076, 12288},\n frozenset({5753487, 5770385}): {3897, 11540},\n frozenset({5766982, 5770385}): {3219, 3899},\n frozenset({5569526, 5770385}): {1513, 1976},\n frozenset({14312, 5770385}): {3293, 4275, 7305, 7830, 11540},\n frozenset({5753486, 5770385}): {3897, 9536},\n frozenset({4229, 23219}): {330, 7664},\n frozenset({3978, 4229}): {5343, 8211},\n frozenset({5888061, 5888062}): {7982, 9993},\n frozenset({5609124, 5612762}): {1399, 6470},\n frozenset({5649302, 5866418}): {508, 2696, 4034, 10700, 11690},\n frozenset({5649301, 5866418}): {2696, 8103},\n frozenset({5866417, 5866418}): {4034, 6096, 11011},\n frozenset({5707019, 5716844}): {149, 7007},\n frozenset({5597835, 5707019}): {149, 8588},\n frozenset({5586024, 5597835}): {6224, 9948},\n frozenset({5749719, 5749720}): {314, 390, 3909, 7319, 8128},\n frozenset({5749720, 5814523}): {3909, 4499, 10555},\n frozenset({5540772, 5837127}): {1609, 6316, 8176},\n frozenset({5540788, 5837127}): {5891, 8609},\n frozenset({5540789, 5837127}): {5891, 12118},\n frozenset({5842183, 5877454}): {3501, 9920},\n frozenset({5685798, 5726126}): {11177, 11420},\n frozenset({89343, 5770135}): {2649, 8488},\n frozenset({89343, 5774248}): {2344, 3342},\n frozenset({5730206, 5751742}): {178, 1055, 12001},\n frozenset({5730206, 5792800}): {1055, 2675, 4752, 8192},\n frozenset({3774, 3959}): {2082, 8636, 9124},\n frozenset({3762, 3959}): {620, 4248, 5669, 7147, 7890, 13017},\n frozenset({5823936, 5868559}): {165, 3939, 5641},\n frozenset({5823935, 5823936}): {6896, 8581},\n frozenset({5823936, 5861762}): {6896, 12356},\n frozenset({5823936, 5885592}): {3939, 5009, 9245},\n frozenset({5823936, 5824088}): {5009, 9245, 12356},\n frozenset({5823936, 5885590}): {6646, 8581},\n frozenset({5886282, 5900651}): {166,\n  1069,\n  2134,\n  2546,\n  2901,\n  2941,\n  5435,\n  5510,\n  5819,\n  5988,\n  6020,\n  6056,\n  6108,\n  6207,\n  6404,\n  6475,\n  6486,\n  7096,\n  7692,\n  8013,\n  8200,\n  8303,\n  8569,\n  8625,\n  8997,\n  9482},\n frozenset({5886064, 5886282}): {1545,\n  2705,\n  3575,\n  4047,\n  4146,\n  4660,\n  4838,\n  4874,\n  4975},\n frozenset({5886282, 5909810}): {548,\n  1449,\n  1769,\n  2134,\n  2941,\n  3086,\n  3239,\n  3640,\n  3875,\n  4660,\n  6404,\n  7585,\n  7692,\n  7738,\n  7876,\n  8013,\n  8178,\n  8200,\n  8321,\n  8556,\n  8569,\n  8613,\n  8712,\n  8759,\n  8997,\n  9482,\n  9594,\n  9615,\n  9898,\n  10411},\n frozenset({5844300, 5886282}): {1069,\n  3086,\n  4769,\n  6475,\n  7096,\n  7692,\n  8303,\n  8569,\n  8997,\n  9482,\n  9898},\n frozenset({5886282, 5924482}): {3239, 8967, 10411},\n frozenset({5871336, 5886282}): {1769, 4146},\n frozenset({5880640, 5886282}): {3575, 4063, 4769, 5510, 6020, 6404, 6486},\n frozenset({5900651, 5909810}): {2134,\n  2941,\n  3573,\n  6379,\n  6404,\n  7692,\n  7717,\n  8013,\n  8200,\n  8308,\n  8569,\n  8895,\n  8997,\n  9482,\n  10136,\n  11187},\n frozenset({5844300, 5900651}): {1069,\n  6475,\n  7096,\n  7223,\n  7692,\n  8303,\n  8308,\n  8569,\n  8997,\n  9482},\n frozenset({5900651, 5924482}): {1078, 1375, 11266, 12392},\n frozenset({5800916, 5900651}): {2849, 8569},\n frozenset({5880640, 5900651}): {5510, 6020, 6404, 6486},\n frozenset({5649207, 5649208}): {8280, 8372},\n frozenset({5675826, 5677479}): {334, 10646},\n frozenset({5766595, 5766601}): {169, 1618, 9548},\n frozenset({5766601, 5817036}): {10367, 10989},\n frozenset({5766581, 5766595}): {1618, 6912},\n frozenset({5766595, 5808547}): {2808, 13088},\n frozenset({5766390, 5766595}): {2693, 7534, 11949},\n frozenset({5766380, 5766595}): {2229, 2693, 3069, 8643, 8914},\n frozenset({5830626, 5851884}): {3418, 4983, 8865},\n frozenset({5851884, 5851888}): {1003, 1748},\n frozenset({5835158, 5835161}): {8913, 12247},\n frozenset({5013, 5884578}): {2230, 10752},\n frozenset({5560754, 5856186}): {5787, 8776, 11437},\n frozenset({5560754, 5850281}): {5957, 12682},\n frozenset({5560754, 5877456}): {738,\n  3962,\n  5810,\n  5957,\n  6833,\n  7083,\n  11219,\n  12682},\n frozenset({5560754, 5560758}): {738, 3623, 5586, 5957, 6244, 8404},\n frozenset({5560754, 5560756}): {3961,\n  5586,\n  6963,\n  7072,\n  7747,\n  11076,\n  11219,\n  12646},\n frozenset({5560754, 5560760}): {5810, 8404, 12646},\n frozenset({5560754, 5906220}): {8592, 9787},\n frozenset({5560754, 5873654}): {5957, 6412},\n frozenset({5560754, 5714119}): {9342, 12894},\n frozenset({5744018, 5844894}): {1079, 9625},\n frozenset({5803691, 5831583}): {175, 7977},\n frozenset({5803691, 5831586}): {1357, 9521, 9856, 11068, 11646},\n frozenset({5803691, 5831969}): {2132, 4375, 11653},\n frozenset({5803691, 5803692}): {2132, 3420, 4375, 11653},\n frozenset({5671878, 5785490}): {6584, 10293},\n frozenset({5808664, 5808665}): {2016, 7839, 12556},\n frozenset({5808663, 5808665}): {7839, 9292, 11297, 12556},\n frozenset({5808665, 5808666}): {2016,\n  3077,\n  6254,\n  11297,\n  11352,\n  11621,\n  12668,\n  12733},\n frozenset({5751742, 5792800}): {1055, 7565},\n frozenset({5751742, 5810480}): {449, 1055, 3253, 9126},\n frozenset({5751742, 5894662}): {449, 11517},\n frozenset({5649219, 5792800}): {1287, 3944},\n frozenset({5792800, 5881332}): {922, 3339},\n frozenset({5659900, 5792800}): {3339, 7261},\n frozenset({5792800, 5815662}): {2807, 10368},\n frozenset({5754853, 5792800}): {2453, 11027, 12307},\n frozenset({5792800, 5905704}): {1068, 9049, 10302, 12364, 12665},\n frozenset({5792800, 5857677}): {6595, 7261},\n frozenset({5730207, 5792800}): {922, 1541, 6017},\n frozenset({5792800, 5796819}): {2954, 4242},\n frozenset({5864583, 5864586}): {2783, 5652},\n frozenset({5772164, 5806922}): {184, 2483, 12814},\n frozenset({5772167, 5806922}): {5169, 5631, 8637, 8983, 12814},\n frozenset({5738961, 5738964}): {907, 6205, 7330},\n frozenset({5738963, 5738964}): {6390, 8035, 12037},\n frozenset({5738960, 5738964}): {6390, 8035, 8532, 12037},\n frozenset({5739033, 5739036}): {2608, 6054, 9383},\n frozenset({5706778, 5862589}): {187, 12256},\n frozenset({5228, 5716845}): {7088, 7389},\n frozenset({5716845, 5862590}): {1380, 7389},\n frozenset({5716845, 5834747}): {7088, 7389},\n frozenset({5749735, 5862589}): {568, 1677},\n frozenset({5712783, 5862589}): {10076, 10094},\n frozenset({5812620, 5865522}): {1300, 2052, 4345},\n frozenset({5597238, 5865522}): {4764, 11942},\n frozenset({15198, 5865522}): {3144, 5765},\n frozenset({5646091, 5865522}): {6286, 11942},\n frozenset({5715618, 5856186}): {1555, 1776, 5010, 5150, 9174, 10864, 12566},\n frozenset({5715618, 5850281}): {9174, 12875},\n frozenset({5588154, 5715618}): {2803, 12875},\n frozenset({5715618, 5813466}): {1776, 5010},\n frozenset({5715618, 5768981}): {1776, 12875},\n frozenset({5715617, 5715618}): {1298, 1776, 2803, 5093},\n frozenset({60181, 5556624}): {1636, 3491, 7363, 8584, 9892},\n frozenset({5814518, 5846096}): {192, 5506},\n frozenset({5846096, 5846437}): {1601, 6370},\n frozenset({5824227, 5846096}): {4043, 4353},\n frozenset({5836204, 5846096}): {4353, 7979},\n frozenset({5756150, 5846096}): {1651, 6223},\n frozenset({5846096, 5877211}): {5484, 9775},\n frozenset({5846096, 5908170}): {5392, 9775},\n frozenset({5814518, 5877207}): {665, 12955},\n frozenset({5814518, 5825534}): {5361, 10492},\n frozenset({5831145, 5831148}): {1958, 8855, 10860},\n frozenset({24331, 5651938}): {194, 3776, 5763},\n frozenset({5651938, 5651975}): {5294, 12130},\n frozenset({5651938, 5749199}): {611, 4254, 12509},\n frozenset({5651938, 5651972}): {1408, 5551, 9301, 11749},\n frozenset({5651938, 5764716}): {611,\n  1408,\n  2715,\n  3263,\n  3580,\n  4046,\n  4569,\n  6893,\n  7889,\n  8127,\n  9050,\n  10560,\n  11007,\n  11255,\n  12090,\n  12130,\n  12444},\n frozenset({5651938, 5733086}): {9464, 11274},\n frozenset({5651938, 5764714}): {7331, 11749, 12766},\n frozenset({5651938, 5651973}): {5763, 6297},\n frozenset({5651938, 5766980}): {5726, 8118, 8558, 9301, 10299, 11274},\n frozenset({24331, 24336}): {194, 12974},\n frozenset({24336, 24368}): {3471, 12974},\n frozenset({5692024, 5790563}): {3855, 10342},\n frozenset({5790563, 5844894}): {2239, 3676, 4755, 5570, 12415, 12868, 12938},\n frozenset({5790563, 5839239}): {919, 8939},\n frozenset({5790563, 5808547}): {4755, 12810},\n frozenset({5790563, 5820072}): {3921, 6599},\n frozenset({5703767, 5790563}): {2182, 6095},\n frozenset({5677037, 5790563}): {310, 3520},\n frozenset({5790563, 5815036}): {6923, 11192},\n frozenset({5677989, 5790563}): {3098, 4162, 10674},\n frozenset({5775260, 5790563}): {6969, 8141},\n frozenset({5784897, 5790563}): {1612, 5622, 7319, 10342},\n frozenset({5651702, 5790563}): {4628, 4755, 10343, 11803},\n frozenset({5790563, 5793262}): {7517, 12591},\n frozenset({5650698, 5790563}): {3528, 5436, 12266},\n frozenset({5688691, 5790563}): {5985, 5992},\n frozenset({5739057, 5790563}): {4162, 4871},\n frozenset({5677451, 5790563}): {1612, 4162},\n frozenset({5790563, 5827354}): {10343, 10491},\n frozenset({5790563, 5826600}): {2039, 13115},\n frozenset({5790563, 5793264}): {2326, 3855},\n frozenset({5790563, 5793265}): {2326, 3874, 5156},\n frozenset({5790563, 5836155}): {2592, 3777, 6413},\n frozenset({5790563, 5793263}): {2592, 7517},\n frozenset({5766580, 5766581}): {5012, 6704},\n frozenset({5810673, 5810674}): {5149, 8007},\n frozenset({5694673, 5810673}): {2980, 9702},\n ...}"
     },
     "execution_count": 13,
     "metadata": {},
     "output_type": "execute_result"
    }
   ],
   "source": [
    "from tqdm import tqdm\n",
    "from itertools import permutations\n",
    "\n",
    "min_support = 2\n",
    "\n",
    "def combine_sets(tid_dict, min_support):\n",
    "    new_tid_dict = dict()\n",
    "    combs = list(permutations(tid_dict.items(), r=2))\n",
    "    for dict_item1, dict_item2 in tqdm(combs, total=len(combs)):\n",
    "        item_set1, tid_set1 = dict_item1\n",
    "        item_set2, tid_set2 = dict_item2\n",
    "\n",
    "        new_set_items = tid_set1 & tid_set2 # Note: This intersection operator is new from python 3.9\n",
    "        if len(new_set_items) >= min_support:\n",
    "            new_set = frozenset(item_set1 | item_set2) # Same for this union operator\n",
    "            new_tid_dict[new_set] = new_set_items\n",
    "    return new_tid_dict\n",
    "\n",
    "def filter_min_support(tid_dict, min_support):\n",
    "    items = dict()\n",
    "    for item in tid_dict:\n",
    "        if len(tid_dict[item]) >= min_support:\n",
    "            items[item] = tid_dict[item]\n",
    "    return items\n",
    "\n",
    "items = filter_min_support(tid_dict, min_support)\n",
    "\n",
    "def mine_freq_itemsets(items, min_support):\n",
    "    new_results = items\n",
    "    freq_itemsets = dict() # Not that frequent itemsets of length 1 will be skipped this way\n",
    "    i = 1\n",
    "    while new_results:\n",
    "        i += 1\n",
    "        print(f\"Mining frequent itemsets of length {i}\")\n",
    "        new_results = combine_sets(new_results, min_support)\n",
    "        freq_itemsets |= new_results\n",
    "    return freq_itemsets\n",
    "\n",
    "freq_itemsets = mine_freq_itemsets(items, min_support)\n",
    "freq_itemsets"
   ],
   "metadata": {
    "collapsed": false,
    "pycharm": {
     "name": "#%%\n"
    }
   }
  },
  {
   "cell_type": "code",
   "execution_count": 14,
   "outputs": [
    {
     "name": "stdout",
     "output_type": "stream",
     "text": [
      "frozenset({5814515, 5814517}) -> frozenset({5814518}) (1.0, 5)\n",
      "frozenset({5814515, 5814516}) -> frozenset({5814517}) (1.0, 4)\n",
      "frozenset({5814515, 5814516}) -> frozenset({5814518}) (1.0, 4)\n",
      "frozenset({5814515, 5814516}) -> frozenset({5814517, 5814518}) (1.0, 4)\n",
      "frozenset({5814515, 5814516, 5814517}) -> frozenset({5814518}) (1.0, 4)\n",
      "frozenset({5846096, 5814516}) -> frozenset({5814517}) (1.0, 4)\n",
      "frozenset({5880203, 5880204}) -> frozenset({5880205}) (1.0, 4)\n",
      "frozenset({5809912, 5849033}) -> frozenset({5809910}) (1.0, 3)\n",
      "frozenset({5707826, 5793261}) -> frozenset({5692527}) (1.0, 3)\n",
      "frozenset({5853035, 5853036}) -> frozenset({5853038}) (1.0, 3)\n",
      "frozenset({5755601, 5814516}) -> frozenset({5814517}) (1.0, 3)\n",
      "frozenset({5776130, 5814516}) -> frozenset({5814517}) (1.0, 3)\n",
      "frozenset({5759492, 5767494}) -> frozenset({5766980}) (1.0, 3)\n",
      "frozenset({5831969, 5803691}) -> frozenset({5803692}) (1.0, 3)\n",
      "frozenset({5858914, 5848309}) -> frozenset({5893870}) (1.0, 3)\n",
      "frozenset({5745713, 5745714}) -> frozenset({5764714}) (1.0, 3)\n",
      "frozenset({5855098, 5855091}) -> frozenset({5855092}) (1.0, 3)\n",
      "frozenset({5916100, 5916101}) -> frozenset({5916102}) (1.0, 3)\n",
      "frozenset({5809912, 5854828}) -> frozenset({5809910}) (1.0, 2)\n",
      "frozenset({5809912, 5854832}) -> frozenset({5809910}) (1.0, 2)\n",
      "frozenset({5809912, 5854827}) -> frozenset({5809910}) (1.0, 2)\n",
      "frozenset({5816170, 5816166}) -> frozenset({5809910}) (1.0, 2)\n",
      "frozenset({5854829, 5816166}) -> frozenset({5809910}) (1.0, 2)\n",
      "frozenset({5814051, 5885421}) -> frozenset({5809910}) (1.0, 2)\n",
      "frozenset({5809729, 5751422}) -> frozenset({5751383}) (1.0, 2)\n",
      "frozenset({5641077, 5787479}) -> frozenset({5692527}) (1.0, 2)\n",
      "frozenset({5707826, 5787479}) -> frozenset({5692527}) (1.0, 2)\n",
      "frozenset({5584840, 5584834, 5584844}) -> frozenset({5584836}) (1.0, 2)\n",
      "frozenset({5814515, 5814516, 5804820}) -> frozenset({5814517}) (1.0, 2)\n",
      "frozenset({5814515, 5814516, 5804820}) -> frozenset({5814518}) (1.0, 2)\n",
      "frozenset({5814515, 5804820, 5814517}) -> frozenset({5814518}) (1.0, 2)\n",
      "frozenset({5846096, 5814516, 5804820}) -> frozenset({5814517}) (1.0, 2)\n",
      "frozenset({5846096, 5814516, 5804820}) -> frozenset({5814518}) (1.0, 2)\n",
      "frozenset({5846096, 5804820, 5814517}) -> frozenset({5814518}) (1.0, 2)\n",
      "frozenset({5763379, 5814516}) -> frozenset({5814517}) (1.0, 2)\n",
      "frozenset({5677448, 5677025}) -> frozenset({5676783}) (1.0, 2)\n",
      "frozenset({5917178, 5892179, 5909810}) -> frozenset({5844300}) (1.0, 2)\n",
      "frozenset({5739056, 5649235}) -> frozenset({5739055}) (1.0, 2)\n",
      "frozenset({5851707, 5851709}) -> frozenset({5851711}) (1.0, 2)\n",
      "frozenset({5753480, 5753400}) -> frozenset({5759491}) (1.0, 2)\n",
      "frozenset({5759491, 5753484}) -> frozenset({5651975}) (1.0, 2)\n",
      "frozenset({5810672, 5736504}) -> frozenset({5759491}) (1.0, 2)\n",
      "frozenset({5814516, 5882788}) -> frozenset({5814517}) (1.0, 2)\n",
      "frozenset({5814516, 5881429}) -> frozenset({5814517}) (1.0, 2)\n",
      "frozenset({5881465, 5814516}) -> frozenset({5814517}) (1.0, 2)\n",
      "frozenset({5808984, 5713017}) -> frozenset({5713013}) (1.0, 2)\n",
      "frozenset({5772168, 5806922}) -> frozenset({5772167}) (1.0, 2)\n",
      "frozenset({5822650, 5823970}) -> frozenset({5820270}) (1.0, 2)\n",
      "frozenset({5677043, 5649236}) -> frozenset({5790563}) (1.0, 2)\n",
      "frozenset({5677224, 5677043}) -> frozenset({5697463}) (1.0, 2)\n",
      "frozenset({5677402, 5676843}) -> frozenset({5697495}) (1.0, 2)\n",
      "frozenset({5739449, 5802165}) -> frozenset({5739031}) (1.0, 2)\n",
      "frozenset({5820072, 5815036}) -> frozenset({5649236}) (1.0, 2)\n",
      "frozenset({5739056, 5649236}) -> frozenset({5739055}) (1.0, 2)\n",
      "frozenset({19162, 6882}) -> frozenset({5729012}) (1.0, 2)\n",
      "frozenset({5652897, 19162}) -> frozenset({5729012}) (1.0, 2)\n",
      "frozenset({5562312, 5041}) -> frozenset({5170}) (1.0, 2)\n",
      "frozenset({5787849, 5676827}) -> frozenset({5676828}) (1.0, 2)\n",
      "frozenset({5877456, 5850281}) -> frozenset({5560754}) (1.0, 2)\n",
      "frozenset({5834747, 5228}) -> frozenset({5716845}) (1.0, 2)\n",
      "frozenset({5844907, 5839238}) -> frozenset({5839239}) (1.0, 2)\n",
      "frozenset({5814042, 5775987}) -> frozenset({5807747}) (1.0, 2)\n",
      "frozenset({5791011, 5808979}) -> frozenset({5712838}) (1.0, 2)\n",
      "frozenset({5844010, 5752939}) -> frozenset({5884287}) (1.0, 2)\n",
      "frozenset({5844010, 5752939}) -> frozenset({5825938}) (1.0, 2)\n",
      "frozenset({5844010, 5752939}) -> frozenset({5825938, 5884287}) (1.0, 2)\n",
      "frozenset({5844010, 5752939, 5884287}) -> frozenset({5825938}) (1.0, 2)\n",
      "frozenset({5752939, 5884287}) -> frozenset({5844010, 5825938}) (1.0, 2)\n",
      "frozenset({5844010, 5884287}) -> frozenset({5825938, 5752939}) (1.0, 2)\n",
      "frozenset({5844010, 5825938}) -> frozenset({5884287}) (1.0, 2)\n",
      "frozenset({5877456, 5715617}) -> frozenset({5856186}) (1.0, 2)\n",
      "frozenset({5877451, 5877452}) -> frozenset({5877454}) (1.0, 2)\n",
      "frozenset({5706777, 5881332}) -> frozenset({5749735}) (1.0, 2)\n",
      "frozenset({5861760, 5855508}) -> frozenset({5823935}) (1.0, 2)\n",
      "frozenset({5861760, 5855507, 5855508}) -> frozenset({5823935}) (1.0, 2)\n",
      "frozenset({5861760, 5855508}) -> frozenset({5855507, 5823935}) (1.0, 2)\n",
      "frozenset({5854370, 5845267}) -> frozenset({5848678}) (1.0, 2)\n",
      "frozenset({5885586, 5855507}) -> frozenset({5823935}) (1.0, 2)\n",
      "frozenset({5825938, 5752939}) -> frozenset({5884287}) (1.0, 2)\n",
      "frozenset({5893848, 5848309}) -> frozenset({5883311}) (1.0, 2)\n",
      "frozenset({5804667, 5804660}) -> frozenset({5804663}) (1.0, 2)\n",
      "frozenset({5804667, 5804660}) -> frozenset({5804662}) (1.0, 2)\n",
      "frozenset({5804667, 5804660}) -> frozenset({5804662, 5804663}) (1.0, 2)\n",
      "frozenset({5804667, 5804660, 5804662}) -> frozenset({5804663}) (1.0, 2)\n",
      "frozenset({5742412, 5896429}) -> frozenset({5896421}) (1.0, 2)\n",
      "frozenset({5896419, 5896429}) -> frozenset({5896421}) (1.0, 2)\n",
      "frozenset({5742412, 5896429}) -> frozenset({5896421, 5896422}) (1.0, 2)\n",
      "frozenset({5896421, 5742412, 5896429}) -> frozenset({5896422}) (1.0, 2)\n",
      "frozenset({5742412, 5896421}) -> frozenset({5896429, 5896422}) (1.0, 2)\n",
      "frozenset({5742412, 5896421}) -> frozenset({5896422}) (1.0, 2)\n",
      "frozenset({5743248, 5654992}) -> frozenset({5654991}) (1.0, 2)\n",
      "frozenset({5881433, 5881429}) -> frozenset({5881430}) (1.0, 2)\n",
      "frozenset({59003, 5804667}) -> frozenset({5804663}) (1.0, 2)\n",
      "frozenset({5304, 82955}) -> frozenset({59004}) (1.0, 2)\n",
      "frozenset({5802162, 5787746}) -> frozenset({5733046}) (1.0, 2)\n",
      "frozenset({27762, 5585186}) -> frozenset({27764}) (1.0, 2)\n",
      "frozenset({5624537, 27762}) -> frozenset({5624541}) (1.0, 2)\n",
      "frozenset({5739056, 5738962, 5738965}) -> frozenset({5739055}) (1.0, 2)\n",
      "frozenset({5739056, 5738965}) -> frozenset({5738962, 5739055}) (1.0, 2)\n",
      "frozenset({5739056, 5738965}) -> frozenset({5739055}) (1.0, 2)\n",
      "frozenset({5170, 24388}) -> frozenset({5157}) (1.0, 2)\n",
      "frozenset({5240, 24388}) -> frozenset({5157}) (1.0, 2)\n",
      "frozenset({5788781, 5775814}) -> frozenset({5749199}) (1.0, 2)\n",
      "frozenset({5694628, 5692261}) -> frozenset({5650294}) (1.0, 2)\n",
      "frozenset({5694628, 5650293}) -> frozenset({5650294}) (1.0, 2)\n",
      "frozenset({5788781, 5788782}) -> frozenset({5788783}) (1.0, 2)\n",
      "frozenset({5848081, 5771964}) -> frozenset({5759279}) (1.0, 2)\n",
      "frozenset({5742412, 5896429}) -> frozenset({5896422}) (1.0, 2)\n",
      "frozenset({5747404, 5747405}) -> frozenset({5747406}) (1.0, 2)\n",
      "frozenset({5787245, 5766598}) -> frozenset({5766390}) (1.0, 2)\n",
      "frozenset({5692891, 5692892}) -> frozenset({5873070}) (1.0, 2)\n",
      "frozenset({5791012, 5712598}) -> frozenset({5712711}) (1.0, 2)\n",
      "frozenset({5532, 5760173}) -> frozenset({5463}) (1.0, 2)\n",
      "frozenset({5760173, 5745821}) -> frozenset({5463}) (1.0, 2)\n",
      "frozenset({5810082, 5854574}) -> frozenset({5856191}) (1.0, 2)\n",
      "frozenset({5764714, 5770995}) -> frozenset({5764716, 5733086}) (1.0, 2)\n",
      "frozenset({5764714, 5770995, 5764716}) -> frozenset({5733086}) (1.0, 2)\n",
      "frozenset({5764714, 5770995}) -> frozenset({5764716}) (1.0, 2)\n",
      "frozenset({5764716, 5749198}) -> frozenset({5766980}) (1.0, 2)\n",
      "frozenset({5841834, 5803508}) -> frozenset({5803694}) (1.0, 2)\n",
      "frozenset({5764714, 5770995}) -> frozenset({5733086}) (1.0, 2)\n",
      "frozenset({5855096, 5855091}) -> frozenset({5855092}) (1.0, 2)\n",
      "frozenset({59976, 60016}) -> frozenset({59983}) (1.0, 2)\n",
      "frozenset({5746899, 5886748}) -> frozenset({5664159}) (1.0, 2)\n",
      "frozenset({5809616, 5886748}) -> frozenset({5664159}) (1.0, 2)\n",
      "frozenset({5809616, 5746899}) -> frozenset({5886748, 5664159}) (1.0, 2)\n",
      "frozenset({5809616, 5746899, 5886748}) -> frozenset({5664159}) (1.0, 2)\n",
      "frozenset({5746899, 5886748}) -> frozenset({5809616, 5664159}) (1.0, 2)\n",
      "frozenset({5809616, 5886748}) -> frozenset({5746899, 5664159}) (1.0, 2)\n",
      "frozenset({5809616, 5746899}) -> frozenset({5664159}) (1.0, 2)\n",
      "frozenset({5864545, 5864286}) -> frozenset({5864287}) (1.0, 2)\n",
      "frozenset({5864472, 5864286}) -> frozenset({5864287}) (1.0, 2)\n",
      "frozenset({5864586, 5864459}) -> frozenset({5864287}) (1.0, 2)\n",
      "frozenset({5700067, 5683277}) -> frozenset({5651974}) (1.0, 2)\n",
      "frozenset({5683277, 5777805}) -> frozenset({5651974}) (1.0, 2)\n",
      "frozenset({5700067, 5777805}) -> frozenset({5683277, 5651974}) (1.0, 2)\n",
      "frozenset({5700067, 5683277, 5777805}) -> frozenset({5651974}) (1.0, 2)\n",
      "frozenset({5700067, 5683277}) -> frozenset({5777805, 5651974}) (1.0, 2)\n",
      "frozenset({5683277, 5777805}) -> frozenset({5700067, 5651974}) (1.0, 2)\n",
      "frozenset({5700067, 5683277}) -> frozenset({5777805}) (1.0, 2)\n",
      "frozenset({5700067, 5777805}) -> frozenset({5651974}) (1.0, 2)\n",
      "frozenset({5739058, 5739035}) -> frozenset({5739059}) (1.0, 2)\n",
      "frozenset({5860251, 5860252}) -> frozenset({5831151}) (1.0, 2)\n",
      "frozenset({5862136, 5861441}) -> frozenset({5862904}) (1.0, 2)\n",
      "frozenset({5569528, 5569514}) -> frozenset({5739492}) (1.0, 2)\n",
      "frozenset({5836507, 5836508}) -> frozenset({5836509}) (1.0, 2)\n",
      "frozenset({5836507, 5836508}) -> frozenset({5836509, 5836510}) (1.0, 2)\n",
      "frozenset({5836507, 5836508, 5836509}) -> frozenset({5836510}) (1.0, 2)\n",
      "frozenset({5836507, 5836509}) -> frozenset({5836508, 5836510}) (1.0, 2)\n",
      "frozenset({5836507, 5836508}) -> frozenset({5836510}) (1.0, 2)\n",
      "frozenset({5836507, 5836509}) -> frozenset({5836510}) (1.0, 2)\n",
      "frozenset({5771952, 5771953}) -> frozenset({5771954}) (1.0, 2)\n",
      "frozenset({5852042, 5848914}) -> frozenset({5850498}) (1.0, 2)\n",
      "frozenset({5913644, 5913645}) -> frozenset({5646670}) (1.0, 2)\n",
      "frozenset({5787746, 5796099}) -> frozenset({5759898}) (1.0, 2)\n",
      "frozenset({5845099, 5845382}) -> frozenset({5845383}) (1.0, 2)\n",
      "frozenset({5877048, 5877049}) -> frozenset({5877050}) (1.0, 2)\n",
      "frozenset({5853752, 5853756}) -> frozenset({5853751}) (1.0, 2)\n",
      "frozenset({5809616, 5746899}) -> frozenset({5886748}) (1.0, 2)\n",
      "frozenset({5842648, 5842651}) -> frozenset({5842637}) (1.0, 2)\n",
      "frozenset({5853320, 5853769}) -> frozenset({5853323}) (1.0, 2)\n",
      "frozenset({5856851, 5856844}) -> frozenset({5856846}) (1.0, 2)\n",
      "frozenset({5812960, 5812958}) -> frozenset({5812959}) (1.0, 2)\n",
      "frozenset({5856944, 5856940}) -> frozenset({5856941}) (1.0, 2)\n",
      "frozenset({5814515, 5814516, 5804820}) -> frozenset({5814517, 5814518}) (1.0, 2)\n",
      "frozenset({5814517, 5814515, 5814516, 5804820}) -> frozenset({5814518}) (1.0, 2)\n",
      "frozenset({5814515, 5804820, 5814517}) -> frozenset({5814516, 5814518}) (1.0, 2)\n",
      "frozenset({5846096, 5814516, 5804820}) -> frozenset({5814517, 5814518}) (1.0, 2)\n",
      "frozenset({5846096, 5814517, 5814516, 5804820}) -> frozenset({5814518}) (1.0, 2)\n",
      "frozenset({5846096, 5804820, 5814517}) -> frozenset({5814516, 5814518}) (1.0, 2)\n",
      "frozenset({5814516, 5804820}) -> frozenset({5814517}) (0.8888888888888888, 8)\n",
      "frozenset({5814515, 5814517}) -> frozenset({5814516, 5814518}) (0.8, 4)\n",
      "frozenset({5713017, 5713013}) -> frozenset({5713014}) (0.8, 4)\n",
      "frozenset({5848309, 5893870}) -> frozenset({5883311}) (0.8, 4)\n",
      "frozenset({5804660, 5804662}) -> frozenset({5804663}) (0.8, 4)\n",
      "frozenset({5886282, 5892179, 5844300}) -> frozenset({5900651}) (0.75, 6)\n",
      "frozenset({5584834, 5584836}) -> frozenset({5584838}) (0.75, 3)\n",
      "frozenset({5896712, 5824227}) -> frozenset({5804820}) (0.75, 3)\n",
      "frozenset({5917178, 5900651, 5892179}) -> frozenset({5924482}) (0.75, 3)\n",
      "frozenset({5813882, 5759491}) -> frozenset({5759492}) (0.75, 3)\n",
      "frozenset({5759492, 5775814}) -> frozenset({5749199}) (0.75, 3)\n",
      "frozenset({5736504, 5810673}) -> frozenset({5651975}) (0.75, 3)\n",
      "frozenset({5896421, 5896429}) -> frozenset({5896422}) (0.75, 3)\n",
      "frozenset({5738960, 5738962}) -> frozenset({5738963}) (0.75, 3)\n",
      "frozenset({5858914, 5893870}) -> frozenset({5883311}) (0.75, 3)\n",
      "frozenset({5909810, 5892179, 5886282, 5900651}) -> frozenset({5844300}) (0.75, 3)\n",
      "frozenset({5880640, 5886282}) -> frozenset({5892179}) (0.7142857142857143, 5)\n",
      "frozenset({5917178, 5892179}) -> frozenset({5900651}) (0.6666666666666666, 4)\n",
      "frozenset({5809910, 5869134}) -> frozenset({5751383}) (0.6666666666666666, 2)\n",
      "frozenset({5809912, 5849033}) -> frozenset({5809910, 5809911}) (0.6666666666666666, 2)\n",
      "frozenset({5809912, 5849033, 5809910}) -> frozenset({5809911}) (0.6666666666666666, 2)\n",
      "frozenset({5809912, 5816169}) -> frozenset({5809910}) (0.6666666666666666, 2)\n",
      "frozenset({5809912, 5816170, 5809910}) -> frozenset({5809911}) (0.6666666666666666, 2)\n",
      "frozenset({5793261, 5641077}) -> frozenset({5692527}) (0.6666666666666666, 2)\n",
      "frozenset({5584840, 5584834}) -> frozenset({5584844}) (0.6666666666666666, 2)\n",
      "frozenset({5584840, 5584834}) -> frozenset({5584836}) (0.6666666666666666, 2)\n",
      "frozenset({5584840, 5584834}) -> frozenset({5584836, 5584844}) (0.6666666666666666, 2)\n",
      "frozenset({5584834, 5584844}) -> frozenset({5584840, 5584836}) (0.6666666666666666, 2)\n",
      "frozenset({5846096, 5814515}) -> frozenset({5804820}) (0.6666666666666666, 2)\n",
      "frozenset({5809912, 5849033}) -> frozenset({5809911}) (0.6666666666666666, 2)\n",
      "frozenset({5677025, 5704411}) -> frozenset({5676783}) (0.6666666666666666, 2)\n",
      "frozenset({5850515, 5848925}) -> frozenset({5850494}) (0.6666666666666666, 2)\n",
      "frozenset({5784897, 5649235}) -> frozenset({5649236}) (0.6666666666666666, 2)\n",
      "frozenset({5649272, 5900462}) -> frozenset({5649270}) (0.6666666666666666, 2)\n",
      "frozenset({5851707, 5851708}) -> frozenset({5851711}) (0.6666666666666666, 2)\n",
      "frozenset({5569504, 5759491}) -> frozenset({5759492}) (0.6666666666666666, 2)\n",
      "frozenset({5791011, 5712836}) -> frozenset({5713014}) (0.6666666666666666, 2)\n",
      "frozenset({5677043, 5677358}) -> frozenset({5697463}) (0.6666666666666666, 2)\n",
      "frozenset({5712801, 6730}) -> frozenset({6731}) (0.6666666666666666, 2)\n",
      "frozenset({19162, 5865525}) -> frozenset({5865526}) (0.6666666666666666, 2)\n",
      "frozenset({19162, 5865525}) -> frozenset({5597238}) (0.6666666666666666, 2)\n",
      "frozenset({5569504, 5723409}) -> frozenset({5739493}) (0.6666666666666666, 2)\n",
      "frozenset({5240, 5041}) -> frozenset({5157}) (0.6666666666666666, 2)\n",
      "frozenset({5813882, 5764716}) -> frozenset({5773159}) (0.6666666666666666, 2)\n",
      "frozenset({5790689, 5685798}) -> frozenset({5726126}) (0.6666666666666666, 2)\n",
      "frozenset({5770385, 5748205}) -> frozenset({5810673}) (0.6666666666666666, 2)\n",
      "frozenset({5823936, 5824088}) -> frozenset({5885592}) (0.6666666666666666, 2)\n",
      "frozenset({5808664, 5808665}) -> frozenset({5808663}) (0.6666666666666666, 2)\n",
      "frozenset({5676936, 5649213}) -> frozenset({5649214}) (0.6666666666666666, 2)\n",
      "frozenset({5879618, 5839238}) -> frozenset({5839239}) (0.6666666666666666, 2)\n",
      "frozenset({5856186, 5896418}) -> frozenset({5896420}) (0.6666666666666666, 2)\n",
      "frozenset({5861760, 5855507}) -> frozenset({5823935}) (0.6666666666666666, 2)\n",
      "frozenset({5861760, 5855507}) -> frozenset({5855508, 5823935}) (0.6666666666666666, 2)\n",
      "frozenset({5861760, 5855507}) -> frozenset({5855508}) (0.6666666666666666, 2)\n",
      "frozenset({5884577, 5861761}) -> frozenset({5823935}) (0.6666666666666666, 2)\n",
      "frozenset({5560760, 5850281}) -> frozenset({5896418}) (0.6666666666666666, 2)\n",
      "frozenset({5846448, 5846436}) -> frozenset({5846437}) (0.6666666666666666, 2)\n",
      "frozenset({5858914, 5848309}) -> frozenset({5883311}) (0.6666666666666666, 2)\n",
      "frozenset({5858914, 5848309}) -> frozenset({5893870, 5883311}) (0.6666666666666666, 2)\n",
      "frozenset({5858914, 5848309, 5893870}) -> frozenset({5883311}) (0.6666666666666666, 2)\n",
      "frozenset({5569504, 5723409}) -> frozenset({5739491}) (0.6666666666666666, 2)\n",
      "frozenset({5881427, 5881428}) -> frozenset({5881429}) (0.6666666666666666, 2)\n",
      "frozenset({5739056, 5738962}) -> frozenset({5739055}) (0.6666666666666666, 2)\n",
      "frozenset({5739056, 5738962}) -> frozenset({5738965, 5739055}) (0.6666666666666666, 2)\n",
      "frozenset({5569528, 5569526}) -> frozenset({5723406}) (0.6666666666666666, 2)\n",
      "frozenset({5896418, 5877451}) -> frozenset({5877453}) (0.6666666666666666, 2)\n",
      "frozenset({5823777, 5823778}) -> frozenset({5823775}) (0.6666666666666666, 2)\n",
      "frozenset({59976, 59974}) -> frozenset({59975}) (0.6666666666666666, 2)\n",
      "frozenset({5846457, 5846454}) -> frozenset({5846455}) (0.6666666666666666, 2)\n",
      "frozenset({5876017, 5864586}) -> frozenset({5864286}) (0.6666666666666666, 2)\n",
      "frozenset({5759489, 5766980}) -> frozenset({5788783}) (0.6666666666666666, 2)\n",
      "frozenset({5836150, 5793262}) -> frozenset({5786294}) (0.6666666666666666, 2)\n",
      "frozenset({5683377, 5683378}) -> frozenset({5683380}) (0.6666666666666666, 2)\n",
      "frozenset({5705018, 5692463}) -> frozenset({5706479}) (0.6666666666666666, 2)\n",
      "frozenset({5738960, 5738962, 5738963}) -> frozenset({5738965}) (0.6666666666666666, 2)\n",
      "frozenset({5738962, 5738963}) -> frozenset({5738960, 5738965}) (0.6666666666666666, 2)\n",
      "frozenset({5738962, 5738963}) -> frozenset({5738965}) (0.6666666666666666, 2)\n",
      "frozenset({5739056, 5738962}) -> frozenset({5738965}) (0.6666666666666666, 2)\n",
      "frozenset({5847368, 5847361}) -> frozenset({5847366}) (0.6666666666666666, 2)\n",
      "frozenset({5677043, 5677038}) -> frozenset({5697463}) (0.631578947368421, 12)\n",
      "frozenset({5793261, 5787479}) -> frozenset({5692527}) (0.6, 3)\n",
      "frozenset({5700088, 5700096}) -> frozenset({5842316}) (0.6, 3)\n",
      "frozenset({5892179, 5900651, 5909810}) -> frozenset({5844300}) (0.5714285714285714, 4)\n",
      "frozenset({5704370, 5677043}) -> frozenset({5677038}) (0.5714285714285714, 4)\n",
      "frozenset({5880640, 5886282}) -> frozenset({5900651}) (0.5714285714285714, 4)\n",
      "frozenset({5855092, 5855093}) -> frozenset({5855094}) (0.5714285714285714, 4)\n",
      "frozenset({5886064, 5886282}) -> frozenset({5892179}) (0.5555555555555556, 5)\n",
      "frozenset({5584840, 5584836}) -> frozenset({5584844}) (0.5454545454545454, 6)\n",
      "frozenset({5892179, 5844300}) -> frozenset({5886282, 5900651}) (0.5454545454545454, 6)\n",
      "frozenset({5886282, 5844300}) -> frozenset({5900651, 5892179}) (0.5454545454545454, 6)\n",
      "frozenset({5909810, 5892179}) -> frozenset({5844300}) (0.5384615384615384, 7)\n",
      "frozenset({5814517, 5814516, 5804820}) -> frozenset({5814518}) (0.5, 4)\n",
      "frozenset({5917178, 5909810}) -> frozenset({5886282}) (0.5, 4)\n",
      "frozenset({5820072, 5649235}) -> frozenset({5649236}) (0.5, 4)\n",
      "frozenset({5886282, 5892179, 5909810}) -> frozenset({5900651}) (0.5, 4)\n",
      "frozenset({5886282, 5892179, 5909810}) -> frozenset({5844300}) (0.5, 4)\n",
      "frozenset({5766377, 5766379}) -> frozenset({5766390}) (0.5, 3)\n",
      "frozenset({5917178, 5892179}) -> frozenset({5924482}) (0.5, 3)\n",
      "frozenset({5917178, 5892179}) -> frozenset({5924482, 5900651}) (0.5, 3)\n",
      "frozenset({5650610, 5694628}) -> frozenset({5650294}) (0.5, 3)\n",
      "frozenset({5041, 5170}) -> frozenset({5157}) (0.5, 3)\n",
      "frozenset({5770385, 5802162}) -> frozenset({5810673}) (0.5, 3)\n",
      "frozenset({5846444, 5846437}) -> frozenset({5846445}) (0.5, 3)\n",
      "frozenset({5584834, 5584836}) -> frozenset({5584844}) (0.5, 2)\n",
      "frozenset({5814515, 5814516}) -> frozenset({5804820}) (0.5, 2)\n",
      "frozenset({5814515, 5814516}) -> frozenset({5804820, 5814517}) (0.5, 2)\n",
      "frozenset({5814515, 5814516}) -> frozenset({5804820, 5814518}) (0.5, 2)\n",
      "frozenset({5846096, 5814516}) -> frozenset({5804820}) (0.5, 2)\n",
      "frozenset({5846096, 5814516}) -> frozenset({5804820, 5814517}) (0.5, 2)\n",
      "frozenset({5846096, 5814516}) -> frozenset({5804820, 5814518}) (0.5, 2)\n",
      "frozenset({5846096, 5814517}) -> frozenset({5804820, 5814518}) (0.5, 2)\n",
      "frozenset({5615144, 5615234}) -> frozenset({5742957}) (0.5, 2)\n",
      "frozenset({5917178, 5909810, 5886282}) -> frozenset({5924482}) (0.5, 2)\n",
      "frozenset({5880640, 5900651}) -> frozenset({5892179}) (0.5, 2)\n",
      "frozenset({5851708, 5851709}) -> frozenset({5851710}) (0.5, 2)\n",
      "frozenset({5759491, 5764716}) -> frozenset({5759492}) (0.5, 2)\n",
      "frozenset({5846096, 5814516}) -> frozenset({5814517, 5814518}) (0.5, 2)\n",
      "frozenset({5846096, 5814516, 5814517}) -> frozenset({5814518}) (0.5, 2)\n",
      "frozenset({5846096, 5814517}) -> frozenset({5814516, 5814518}) (0.5, 2)\n",
      "frozenset({5846096, 5814516}) -> frozenset({5814518}) (0.5, 2)\n",
      "frozenset({5846096, 5814517}) -> frozenset({5814518}) (0.5, 2)\n",
      "frozenset({5704370, 5677043, 5677038}) -> frozenset({5697463}) (0.5, 2)\n",
      "frozenset({5815730, 5815731}) -> frozenset({5751422}) (0.5, 2)\n",
      "frozenset({5759492, 5767493}) -> frozenset({5766980}) (0.5, 2)\n",
      "frozenset({5569504, 5739491}) -> frozenset({5739493}) (0.5, 2)\n",
      "frozenset({5810672, 5770385}) -> frozenset({5810673}) (0.5, 2)\n",
      "frozenset({5813466, 5856186}) -> frozenset({5715618}) (0.5, 2)\n",
      "frozenset({5850281, 5856186}) -> frozenset({5768981}) (0.5, 2)\n",
      "frozenset({5856186, 5813466}) -> frozenset({5768981}) (0.5, 2)\n",
      "frozenset({5858914, 5893870}) -> frozenset({5848309, 5883311}) (0.5, 2)\n",
      "frozenset({5896421, 5896429}) -> frozenset({5742412, 5896422}) (0.5, 2)\n",
      "frozenset({5896712, 5824227}) -> frozenset({5836204}) (0.5, 2)\n",
      "frozenset({5692049, 5692259}) -> frozenset({5692261}) (0.5, 2)\n",
      "frozenset({5692049, 5692259}) -> frozenset({5692260}) (0.5, 2)\n",
      "frozenset({5877208, 5877209}) -> frozenset({5877207}) (0.5, 2)\n",
      "frozenset({5847361, 5847369}) -> frozenset({5847363}) (0.5, 2)\n",
      "frozenset({5738960, 5738962}) -> frozenset({5738963, 5738965}) (0.5, 2)\n",
      "frozenset({5738960, 5738962}) -> frozenset({5738965}) (0.5, 2)\n",
      "frozenset({5836508, 5836509}) -> frozenset({5836511}) (0.5, 2)\n",
      "frozenset({5836508, 5836509}) -> frozenset({5836510}) (0.5, 2)\n",
      "frozenset({5836508, 5836509}) -> frozenset({5836507, 5836510}) (0.5, 2)\n",
      "frozenset({5847361, 5847369}) -> frozenset({5847368}) (0.5, 2)\n",
      "frozenset({5877208, 5877209}) -> frozenset({5877210}) (0.5, 2)\n",
      "frozenset({5814515, 5814516}) -> frozenset({5804820, 5814517, 5814518}) (0.5, 2)\n",
      "frozenset({5814515, 5814516, 5814517}) -> frozenset({5804820, 5814518}) (0.5, 2)\n",
      "frozenset({5846096, 5814516}) -> frozenset({5804820, 5814517, 5814518}) (0.5, 2)\n",
      "frozenset({5846096, 5814516, 5814517}) -> frozenset({5804820, 5814518}) (0.5, 2)\n",
      "frozenset({5846096, 5814517}) -> frozenset({5814516, 5804820, 5814518}) (0.5, 2)\n"
     ]
    }
   ],
   "source": [
    "# Cool, we have quite some frequent itemsets now, let's create some rules based on this\n",
    "from more_itertools import set_partitions\n",
    "\n",
    "min_confidence = 0.5\n",
    "\n",
    "class Rule:\n",
    "\n",
    "    def __init__(self, x: frozenset, y: frozenset, confidence: float, sup: float):\n",
    "        self.x = x\n",
    "        self.y = y\n",
    "        self.sup = sup\n",
    "        self.confidence  = confidence\n",
    "\n",
    "    def __str__(self):\n",
    "        return f\"{self.x} -> {self.y} ({self.confidence}, {self.sup})\"\n",
    "\n",
    "def get_rules(freq_itemsets, min_confidence):\n",
    "    rules = list()\n",
    "\n",
    "    for freq_itemset, tids in freq_itemsets.items():\n",
    "        n_freq_itemset_transactions = len(tids)\n",
    "\n",
    "        # Check all possible bi partitions and see if the generated rule would match the min confidence\n",
    "        for x, y in set_partitions(freq_itemset, 2):\n",
    "            x = frozenset(x)\n",
    "\n",
    "            if x not in freq_itemsets:\n",
    "                # TODO: How come it's not possible that x is in it, but {x, y} is? This should be impossible\n",
    "                continue # x not in freq_itemset, would mean x (and thus also {x, y}) don't meet the minsup\n",
    "\n",
    "            n_x_occurances = len(freq_itemsets[x])\n",
    "            confidence = n_freq_itemset_transactions / n_x_occurances\n",
    "\n",
    "            if confidence < min_confidence:\n",
    "                continue\n",
    "\n",
    "            y = frozenset(y)\n",
    "            rules.append(Rule(x=x, y=y, confidence=confidence, sup=n_freq_itemset_transactions))\n",
    "    return rules\n",
    "\n",
    "rules.sort(key=lambda x: (x.confidence, x.sup), reverse=True)\n",
    "for rule in rules[:]:\n",
    "    print(rule)"
   ],
   "metadata": {
    "collapsed": false,
    "pycharm": {
     "name": "#%%\n"
    }
   }
  },
  {
   "cell_type": "markdown",
   "source": [
    ">If you were asked to give the 10 most interesting rules, which 10 would you give and why?\n",
    "\n",
    "I currently sorted on confidence first, support second. If we take our confidence value high enough, e.g. 70%, it might be more useful to just sort on support.\n",
    "# TODO: What makes a rule really interesting?"
   ],
   "metadata": {
    "collapsed": false
   }
  },
  {
   "cell_type": "code",
   "execution_count": 15,
   "outputs": [
    {
     "name": "stdout",
     "output_type": "stream",
     "text": [
      "frozenset({5814516, 5804820}) -> frozenset({5814517}) (0.8888888888888888, 8)\n",
      "frozenset({5814515, 5814517}) -> frozenset({5814518}) (1.0, 5)\n",
      "frozenset({5886282, 5892179, 5844300}) -> frozenset({5900651}) (0.75, 6)\n",
      "frozenset({5814515, 5814516}) -> frozenset({5814517}) (1.0, 4)\n",
      "frozenset({5814515, 5814516}) -> frozenset({5814518}) (1.0, 4)\n",
      "frozenset({5814515, 5814516}) -> frozenset({5814517, 5814518}) (1.0, 4)\n",
      "frozenset({5814515, 5814516, 5814517}) -> frozenset({5814518}) (1.0, 4)\n",
      "frozenset({5846096, 5814516}) -> frozenset({5814517}) (1.0, 4)\n",
      "frozenset({5880203, 5880204}) -> frozenset({5880205}) (1.0, 4)\n",
      "frozenset({5880640, 5886282}) -> frozenset({5892179}) (0.7142857142857143, 5)\n"
     ]
    }
   ],
   "source": [
    "new_confidence = 0.7 # Note, new confidence must be higher than the previously defined confidence\n",
    "new_rules = [rule for rule in rules if rule.confidence >= new_confidence]\n",
    "new_rules.sort(key=lambda x: (x.confidence*x.sup, x.sup, x.confidence), reverse=True)\n",
    "for rule in new_rules[:10]:\n",
    "    print(rule)"
   ],
   "metadata": {
    "collapsed": false,
    "pycharm": {
     "name": "#%%\n"
    }
   }
  },
  {
   "cell_type": "markdown",
   "source": [
    "> A lot of information from the dataset was omitted in the current association rules, such as\n",
    "the event types, which describe whether an item was viewed, purchased, added or removed\n",
    "from the cart and the prices of items. Find a way to incorporate the additional information\n",
    "provided into your association rules. Describe what you have added in your report.\n",
    "\n",
    "We're only interested in the people actually did buy.\n"
   ],
   "metadata": {
    "collapsed": false,
    "pycharm": {
     "name": "#%% md\n"
    }
   }
  },
  {
   "cell_type": "code",
   "execution_count": 16,
   "outputs": [
    {
     "data": {
      "text/plain": "[{5614842, 5766379},\n {5861791, 5894239},\n {5830270},\n {5751383},\n {5767496, 5767497, 5891498}]"
     },
     "execution_count": 16,
     "metadata": {},
     "output_type": "execute_result"
    }
   ],
   "source": [
    "filtered_dataset = dataset[dataset[\"event_type\"] == \"purchase\"]\n",
    "filtered_baskets = filtered_dataset.groupby(\"user_id\").product_id.apply(set).tolist()\n",
    "filtered_baskets[:5]"
   ],
   "metadata": {
    "collapsed": false,
    "pycharm": {
     "name": "#%%\n"
    }
   }
  },
  {
   "cell_type": "code",
   "execution_count": 18,
   "outputs": [
    {
     "name": "stdout",
     "output_type": "stream",
     "text": [
      "Mining frequent itemsets of length 2\n"
     ]
    },
    {
     "name": "stderr",
     "output_type": "stream",
     "text": [
      "100%|██████████| 14292180/14292180 [00:05<00:00, 2570074.78it/s]\n"
     ]
    },
    {
     "name": "stdout",
     "output_type": "stream",
     "text": [
      "Mining frequent itemsets of length 3\n"
     ]
    },
    {
     "name": "stderr",
     "output_type": "stream",
     "text": [
      "100%|██████████| 825372/825372 [00:00<00:00, 2555095.88it/s]\n"
     ]
    },
    {
     "name": "stdout",
     "output_type": "stream",
     "text": [
      "Mining frequent itemsets of length 4\n"
     ]
    },
    {
     "name": "stderr",
     "output_type": "stream",
     "text": [
      "100%|██████████| 6006/6006 [00:00<00:00, 2018023.70it/s]\n"
     ]
    },
    {
     "name": "stdout",
     "output_type": "stream",
     "text": [
      "Mining frequent itemsets of length 5\n"
     ]
    },
    {
     "name": "stderr",
     "output_type": "stream",
     "text": [
      "100%|██████████| 12/12 [00:00<?, ?it/s]"
     ]
    },
    {
     "name": "stdout",
     "output_type": "stream",
     "text": [
      "frozenset({5755601, 5814516}) -> frozenset({5814517}) (1.0, 3)\n",
      "frozenset({5759492, 5767494}) -> frozenset({5766980}) (1.0, 3)\n",
      "frozenset({5848309, 5893870}) -> frozenset({5883311}) (1.0, 3)\n",
      "frozenset({5880203, 5880204}) -> frozenset({5880205}) (1.0, 3)\n",
      "frozenset({5809912, 5849033}) -> frozenset({5809910}) (1.0, 2)\n",
      "frozenset({5763379, 5814516}) -> frozenset({5814517}) (1.0, 2)\n",
      "frozenset({5677448, 5677025}) -> frozenset({5676783}) (1.0, 2)\n",
      "frozenset({5759491, 5753484}) -> frozenset({5651975}) (1.0, 2)\n",
      "frozenset({5810672, 5736504}) -> frozenset({5759491}) (1.0, 2)\n",
      "frozenset({5677043, 5649236}) -> frozenset({5790563}) (1.0, 2)\n"
     ]
    },
    {
     "name": "stderr",
     "output_type": "stream",
     "text": [
      "\n"
     ]
    }
   ],
   "source": [
    "def baskets_to_rules(baskets, min_support, min_confidence):\n",
    "    tid_dict = make_tid_dict(baskets)\n",
    "    items = filter_min_support(tid_dict, min_support)\n",
    "    freq_itemsets = mine_freq_itemsets(items, min_support)\n",
    "    rules = get_rules(freq_itemsets, min_confidence)\n",
    "    return rules\n",
    "\n",
    "rules = baskets_to_rules(filtered_baskets, 2, 0.7)\n",
    "rules.sort(key=lambda x: (x.confidence, x.sup), reverse=True)\n",
    "\n",
    "for rule in rules[:10]:\n",
    "    print(rule)"
   ],
   "metadata": {
    "collapsed": false,
    "pycharm": {
     "name": "#%%\n"
    }
   }
  },
  {
   "cell_type": "markdown",
   "source": [
    "> After adding additional information, which rules would you deem most interesting now, and\n",
    "why?"
   ],
   "metadata": {
    "collapsed": false,
    "pycharm": {
     "name": "#%% md\n"
    }
   }
  },
  {
   "cell_type": "markdown",
   "source": [],
   "metadata": {
    "collapsed": false
   }
  }
 ],
 "metadata": {
  "kernelspec": {
   "display_name": "Python 3",
   "language": "python",
   "name": "python3"
  },
  "language_info": {
   "codemirror_mode": {
    "name": "ipython",
    "version": 2
   },
   "file_extension": ".py",
   "mimetype": "text/x-python",
   "name": "python",
   "nbconvert_exporter": "python",
   "pygments_lexer": "ipython2",
   "version": "2.7.6"
  }
 },
 "nbformat": 4,
 "nbformat_minor": 0
}