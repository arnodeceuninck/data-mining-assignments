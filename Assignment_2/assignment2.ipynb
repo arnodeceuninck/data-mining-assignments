{
 "cells": [
  {
   "cell_type": "markdown",
   "metadata": {
    "collapsed": true,
    "pycharm": {
     "name": "#%% md\n"
    }
   },
   "source": [
    "# Import data"
   ]
  },
  {
   "cell_type": "code",
   "execution_count": 17,
   "metadata": {
    "pycharm": {
     "name": "#%%\n"
    }
   },
   "outputs": [
    {
     "data": {
      "text/plain": "   identifier  size  kitchens  bathrooms  floor    type  year  condition  \\\n0      125858     3       2.0        7.0    3.0  2008.0     4          6   \n1      129220     3       2.0        8.0    3.0  2001.0     4          6   \n2      148556     3       2.0       15.0    3.0  2009.0     4          6   \n3       10272     3       2.0       20.0    3.0  2007.0     3          6   \n4        8684     3       2.0       21.0    3.0  2008.0     4          6   \n\n   elevator  subway  district  rooms  recentOwner  longitude  latitude  \\\n0      True   False  133828.0    3.0         True  -0.287850 -0.500141   \n1      True   False   73792.0    3.0         True   0.796448 -0.500141   \n2      True   False   43252.0    3.0         True  -2.860246 -0.500141   \n3      True   False   98975.0    2.0         True  -0.848421 -0.500141   \n4      True   False   66036.0    3.0         True  -0.223602 -0.500141   \n\n   prediction  highValue  \n0        True       True  \n1        True      False  \n2       False      False  \n3        True       True  \n4        True      False  ",
      "text/html": "<div>\n<style scoped>\n    .dataframe tbody tr th:only-of-type {\n        vertical-align: middle;\n    }\n\n    .dataframe tbody tr th {\n        vertical-align: top;\n    }\n\n    .dataframe thead th {\n        text-align: right;\n    }\n</style>\n<table border=\"1\" class=\"dataframe\">\n  <thead>\n    <tr style=\"text-align: right;\">\n      <th></th>\n      <th>identifier</th>\n      <th>size</th>\n      <th>kitchens</th>\n      <th>bathrooms</th>\n      <th>floor</th>\n      <th>type</th>\n      <th>year</th>\n      <th>condition</th>\n      <th>elevator</th>\n      <th>subway</th>\n      <th>district</th>\n      <th>rooms</th>\n      <th>recentOwner</th>\n      <th>longitude</th>\n      <th>latitude</th>\n      <th>prediction</th>\n      <th>highValue</th>\n    </tr>\n  </thead>\n  <tbody>\n    <tr>\n      <th>0</th>\n      <td>125858</td>\n      <td>3</td>\n      <td>2.0</td>\n      <td>7.0</td>\n      <td>3.0</td>\n      <td>2008.0</td>\n      <td>4</td>\n      <td>6</td>\n      <td>True</td>\n      <td>False</td>\n      <td>133828.0</td>\n      <td>3.0</td>\n      <td>True</td>\n      <td>-0.287850</td>\n      <td>-0.500141</td>\n      <td>True</td>\n      <td>True</td>\n    </tr>\n    <tr>\n      <th>1</th>\n      <td>129220</td>\n      <td>3</td>\n      <td>2.0</td>\n      <td>8.0</td>\n      <td>3.0</td>\n      <td>2001.0</td>\n      <td>4</td>\n      <td>6</td>\n      <td>True</td>\n      <td>False</td>\n      <td>73792.0</td>\n      <td>3.0</td>\n      <td>True</td>\n      <td>0.796448</td>\n      <td>-0.500141</td>\n      <td>True</td>\n      <td>False</td>\n    </tr>\n    <tr>\n      <th>2</th>\n      <td>148556</td>\n      <td>3</td>\n      <td>2.0</td>\n      <td>15.0</td>\n      <td>3.0</td>\n      <td>2009.0</td>\n      <td>4</td>\n      <td>6</td>\n      <td>True</td>\n      <td>False</td>\n      <td>43252.0</td>\n      <td>3.0</td>\n      <td>True</td>\n      <td>-2.860246</td>\n      <td>-0.500141</td>\n      <td>False</td>\n      <td>False</td>\n    </tr>\n    <tr>\n      <th>3</th>\n      <td>10272</td>\n      <td>3</td>\n      <td>2.0</td>\n      <td>20.0</td>\n      <td>3.0</td>\n      <td>2007.0</td>\n      <td>3</td>\n      <td>6</td>\n      <td>True</td>\n      <td>False</td>\n      <td>98975.0</td>\n      <td>2.0</td>\n      <td>True</td>\n      <td>-0.848421</td>\n      <td>-0.500141</td>\n      <td>True</td>\n      <td>True</td>\n    </tr>\n    <tr>\n      <th>4</th>\n      <td>8684</td>\n      <td>3</td>\n      <td>2.0</td>\n      <td>21.0</td>\n      <td>3.0</td>\n      <td>2008.0</td>\n      <td>4</td>\n      <td>6</td>\n      <td>True</td>\n      <td>False</td>\n      <td>66036.0</td>\n      <td>3.0</td>\n      <td>True</td>\n      <td>-0.223602</td>\n      <td>-0.500141</td>\n      <td>True</td>\n      <td>False</td>\n    </tr>\n  </tbody>\n</table>\n</div>"
     },
     "execution_count": 17,
     "metadata": {},
     "output_type": "execute_result"
    }
   ],
   "source": [
    "import pandas as pd\n",
    "historical_dataset = pd.read_csv(\"historical.csv\")\n",
    "historical_dataset.head()"
   ]
  },
  {
   "cell_type": "markdown",
   "metadata": {
    "pycharm": {
     "name": "#%% md\n"
    }
   },
   "source": [
    "# Performance historical datset"
   ]
  },
  {
   "cell_type": "code",
   "execution_count": 18,
   "metadata": {
    "pycharm": {
     "name": "#%%\n"
    }
   },
   "outputs": [
    {
     "name": "stdout",
     "output_type": "stream",
     "text": [
      "Contracts accepted: 36382 (36.382%)\n",
      "Contracts rejected: 63618 (63.617999999999995%)\n",
      "High value contracts: 29649 (81.49359573415425%)\n",
      "Low value contracts: 6733 (18.506404265845745%)\n",
      "Balance: 2090800\n"
     ]
    }
   ],
   "source": [
    "# Count number of rows with prediction True\n",
    "predicted_counts = historical_dataset['prediction'].value_counts()\n",
    "n_contracts_rejected = predicted_counts[False]\n",
    "n_contracts_accepted = predicted_counts[True]\n",
    "\n",
    "# Filter rows with prediction True\n",
    "contracts_accepted = historical_dataset[historical_dataset['prediction'] == True]\n",
    "highValue_contracts = contracts_accepted[contracts_accepted['highValue'] == True]\n",
    "lowValue_contracts = contracts_accepted[contracts_accepted['highValue'] == False]\n",
    "\n",
    "money_out = 450 * len(contracts_accepted)\n",
    "money_in = 100 * len(lowValue_contracts) + 600 * len(highValue_contracts)\n",
    "total = money_in - money_out\n",
    "\n",
    "print(f\"Contracts accepted: {n_contracts_accepted} ({n_contracts_accepted/len(historical_dataset) * 100}%)\")\n",
    "print(f\"Contracts rejected: {n_contracts_rejected} ({n_contracts_rejected/len(historical_dataset) * 100}%)\")\n",
    "print(f\"High value contracts: {len(highValue_contracts)} ({len(highValue_contracts)/len(contracts_accepted) * 100}%)\")\n",
    "print(f\"Low value contracts: {len(lowValue_contracts)} ({len(lowValue_contracts)/len(contracts_accepted) * 100}%)\")\n",
    "print(f\"Balance: {total}\")"
   ]
  },
  {
   "cell_type": "code",
   "execution_count": 19,
   "metadata": {
    "pycharm": {
     "name": "#%%\n"
    }
   },
   "outputs": [
    {
     "name": "stdout",
     "output_type": "stream",
     "text": [
      "No contract for high value: 18359 (38.241543076153974%)\n",
      "No contract for low value: 45259 (87.04993075857824%)\n",
      "Earnings best case scenario: 7201200 (344.42318729672854%)\n"
     ]
    }
   ],
   "source": [
    "n_high_values_without_contract = len(historical_dataset[(historical_dataset['highValue'] == True) & (historical_dataset['prediction'] == False)])\n",
    "n_low_values_without_contract = len(historical_dataset[(historical_dataset['highValue'] == False) & (historical_dataset['prediction'] == False)])\n",
    "n_high_total = len(historical_dataset[historical_dataset['highValue'] == True])\n",
    "n_low_total = len(historical_dataset[historical_dataset['highValue'] == False])\n",
    "\n",
    "print(f\"No contract for high value: {n_high_values_without_contract} ({n_high_values_without_contract/n_high_total * 100}%)\")\n",
    "print(f\"No contract for low value: {n_low_values_without_contract} ({n_low_values_without_contract/n_low_total * 100}%)\")\n",
    "best_case_total = (600-450) * n_high_total\n",
    "print(f\"Earnings best case scenario: {best_case_total} ({best_case_total/total * 100}%)\")"
   ]
  },
  {
   "cell_type": "code",
   "execution_count": 11,
   "metadata": {
    "pycharm": {
     "name": "#%%\n"
    }
   },
   "outputs": [
    {
     "name": "stdout",
     "output_type": "stream",
     "text": [
      "No Contract: 45259 (low) + 18359 (high) = 63618\n",
      "Contract: 6733 (low) + 29649 (high) = 36382\n",
      "Total: 51992 (low) + 48008 (high) = 100000\n"
     ]
    }
   ],
   "source": [
    "# Information for the table\n",
    "print(f\"No Contract: {n_low_values_without_contract} (low) + {n_high_values_without_contract} (high) = {n_low_values_without_contract + n_high_values_without_contract}\")\n",
    "print(f\"Contract: {len(lowValue_contracts)} (low) + {len(highValue_contracts)} (high) = {len(lowValue_contracts + highValue_contracts)}\")\n",
    "print(f\"Total: {n_low_total} (low) + {n_high_total} (high) = {n_low_total + n_high_total}\")"
   ]
  },
  {
   "cell_type": "markdown",
   "metadata": {
    "pycharm": {
     "name": "#%% md\n"
    }
   },
   "source": [
    "# Percentage of high value with contract"
   ]
  },
  {
   "cell_type": "code",
   "execution_count": 12,
   "metadata": {
    "pycharm": {
     "name": "#%%\n"
    }
   },
   "outputs": [
    {
     "name": "stdout",
     "output_type": "stream",
     "text": [
      "High value with contract: 29649 (61.758456923846026%)\n"
     ]
    }
   ],
   "source": [
    "print(f\"High value with contract: {len(highValue_contracts)} ({len(highValue_contracts)/n_high_total * 100}%)\")\n",
    "# Not higher because you want to lower your chances of getting a low value contract (find a balance)"
   ]
  },
  {
   "cell_type": "markdown",
   "metadata": {
    "pycharm": {
     "name": "#%% md\n"
    }
   },
   "source": [
    "# Income current data (monopoly company)"
   ]
  },
  {
   "cell_type": "code",
   "execution_count": 20,
   "metadata": {
    "pycharm": {
     "name": "#%%\n"
    }
   },
   "outputs": [
    {
     "data": {
      "text/plain": "   identifier  size  kitchens  bathrooms  floor    type  year  condition  \\\n0       19428     1       1.0        6.0    4.0  1986.0     4          4   \n1      137369     2       1.0        5.0    4.0  1962.0     3          2   \n2       33242     2       1.0       10.0    4.0  2007.0     3          6   \n3      147325     1       1.0       19.0    3.0  2007.0     1          6   \n4      109748     2       1.0        5.0    4.0  1979.0     3          2   \n\n   elevator  subway  district  rooms  recentOwner  longitude  latitude  \n0      True   False   69318.0    2.0         True   0.215669 -0.500141  \n1      True   False   72945.0    2.0         True   0.276088 -0.500141  \n2      True   False   60067.0    3.0         True  -1.377581 -0.500141  \n3     False   False   67339.0    1.0        False   0.734100 -0.500141  \n4      True   False  117634.0    2.0         True   0.328889 -0.500141  ",
      "text/html": "<div>\n<style scoped>\n    .dataframe tbody tr th:only-of-type {\n        vertical-align: middle;\n    }\n\n    .dataframe tbody tr th {\n        vertical-align: top;\n    }\n\n    .dataframe thead th {\n        text-align: right;\n    }\n</style>\n<table border=\"1\" class=\"dataframe\">\n  <thead>\n    <tr style=\"text-align: right;\">\n      <th></th>\n      <th>identifier</th>\n      <th>size</th>\n      <th>kitchens</th>\n      <th>bathrooms</th>\n      <th>floor</th>\n      <th>type</th>\n      <th>year</th>\n      <th>condition</th>\n      <th>elevator</th>\n      <th>subway</th>\n      <th>district</th>\n      <th>rooms</th>\n      <th>recentOwner</th>\n      <th>longitude</th>\n      <th>latitude</th>\n    </tr>\n  </thead>\n  <tbody>\n    <tr>\n      <th>0</th>\n      <td>19428</td>\n      <td>1</td>\n      <td>1.0</td>\n      <td>6.0</td>\n      <td>4.0</td>\n      <td>1986.0</td>\n      <td>4</td>\n      <td>4</td>\n      <td>True</td>\n      <td>False</td>\n      <td>69318.0</td>\n      <td>2.0</td>\n      <td>True</td>\n      <td>0.215669</td>\n      <td>-0.500141</td>\n    </tr>\n    <tr>\n      <th>1</th>\n      <td>137369</td>\n      <td>2</td>\n      <td>1.0</td>\n      <td>5.0</td>\n      <td>4.0</td>\n      <td>1962.0</td>\n      <td>3</td>\n      <td>2</td>\n      <td>True</td>\n      <td>False</td>\n      <td>72945.0</td>\n      <td>2.0</td>\n      <td>True</td>\n      <td>0.276088</td>\n      <td>-0.500141</td>\n    </tr>\n    <tr>\n      <th>2</th>\n      <td>33242</td>\n      <td>2</td>\n      <td>1.0</td>\n      <td>10.0</td>\n      <td>4.0</td>\n      <td>2007.0</td>\n      <td>3</td>\n      <td>6</td>\n      <td>True</td>\n      <td>False</td>\n      <td>60067.0</td>\n      <td>3.0</td>\n      <td>True</td>\n      <td>-1.377581</td>\n      <td>-0.500141</td>\n    </tr>\n    <tr>\n      <th>3</th>\n      <td>147325</td>\n      <td>1</td>\n      <td>1.0</td>\n      <td>19.0</td>\n      <td>3.0</td>\n      <td>2007.0</td>\n      <td>1</td>\n      <td>6</td>\n      <td>False</td>\n      <td>False</td>\n      <td>67339.0</td>\n      <td>1.0</td>\n      <td>False</td>\n      <td>0.734100</td>\n      <td>-0.500141</td>\n    </tr>\n    <tr>\n      <th>4</th>\n      <td>109748</td>\n      <td>2</td>\n      <td>1.0</td>\n      <td>5.0</td>\n      <td>4.0</td>\n      <td>1979.0</td>\n      <td>3</td>\n      <td>2</td>\n      <td>True</td>\n      <td>False</td>\n      <td>117634.0</td>\n      <td>2.0</td>\n      <td>True</td>\n      <td>0.328889</td>\n      <td>-0.500141</td>\n    </tr>\n  </tbody>\n</table>\n</div>"
     },
     "execution_count": 20,
     "metadata": {},
     "output_type": "execute_result"
    }
   ],
   "source": [
    "import pandas as pd\n",
    "current_dataset = pd.read_csv(\"current.csv\")\n",
    "current_dataset.head()"
   ]
  },
  {
   "cell_type": "markdown",
   "metadata": {
    "pycharm": {
     "name": "#%% md\n"
    }
   },
   "source": [
    "## Percentages\n",
    "Let's make a guess for the incomes of the compony if they keep their monompoly based only on the percentages of high/low value contracts."
   ]
  },
  {
   "cell_type": "code",
   "execution_count": 21,
   "metadata": {
    "pycharm": {
     "name": "#%%\n"
    }
   },
   "outputs": [],
   "source": [
    "# Help function for calculating the income, will probably need it later\n",
    "def calculate_income(high_value_contracts, low_value_contracts):\n",
    "    return (600-450) * high_value_contracts + (100-450) * low_value_contracts"
   ]
  },
  {
   "cell_type": "markdown",
   "metadata": {
    "pycharm": {
     "name": "#%% md\n"
    }
   },
   "source": [
    "## Validate guess"
   ]
  },
  {
   "cell_type": "code",
   "execution_count": 22,
   "metadata": {
    "pycharm": {
     "name": "#%%\n"
    }
   },
   "outputs": [
    {
     "name": "stdout",
     "output_type": "stream",
     "text": [
      "Guessing 1350.0 low value contracts, 5927.750000000001 high value contracts, so an income of 416662.5000000001\n",
      "Actually 1333 low value contracts, 5938 high value contracts, so an income of 424150\n",
      "Diff low: -17.0 (-1.275318829707427%)\n",
      "Diff high: 10.24999999999909 (0.1726170427753299%)\n",
      "Diff income: 7487.499999999884 (1.765295296475276%)\n"
     ]
    }
   ],
   "source": [
    "# Split dataset into training and validation, to check how well our guess is\n",
    "from sklearn.model_selection import train_test_split\n",
    "train, test = train_test_split(historical_dataset, test_size=0.2)\n",
    "\n",
    "p_low_contract = len(train[(train[\"highValue\"] == False) & (train[\"prediction\"] == True)]) / len(train)\n",
    "p_high_contract = len(train[(train[\"highValue\"] == True) & (train[\"prediction\"] == True)]) / len(train)\n",
    "\n",
    "n_low_guess = len(test) * p_low_contract\n",
    "n_high_guess = len(test) * p_high_contract\n",
    "\n",
    "n_low = len(test[(test[\"highValue\"] == False) & (test[\"prediction\"] == True)])\n",
    "n_high = len(test[(test[\"highValue\"] == True) & (test[\"prediction\"] == True)])\n",
    "\n",
    "# TODO: add percentages here how far the guess is from the actual data\n",
    "print(f\"Guessing {n_low_guess} low value contracts, {n_high_guess} high value contracts, so an income of {calculate_income(n_high_guess, n_low_guess)}\")\n",
    "print(f\"Actually {n_low} low value contracts, {n_high} high value contracts, so an income of {calculate_income(n_high, n_low)}\")\n",
    "print(f\"Diff low: {n_low - n_low_guess} ({(n_low - n_low_guess)/n_low * 100}%)\")\n",
    "print(f\"Diff high: {n_high - n_high_guess} ({(n_high - n_high_guess)/n_high * 100}%)\")\n",
    "print(f\"Diff income: {calculate_income(n_high, n_low) - calculate_income(n_high_guess, n_low_guess)} ({(calculate_income(n_high, n_low) - calculate_income(n_high_guess, n_low_guess))/calculate_income(n_high, n_low) * 100}%)\")"
   ]
  },
  {
   "cell_type": "markdown",
   "metadata": {
    "pycharm": {
     "name": "#%% md\n"
    }
   },
   "source": [
    "## Actual guess"
   ]
  },
  {
   "cell_type": "code",
   "execution_count": 23,
   "metadata": {
    "pycharm": {
     "name": "#%%\n"
    }
   },
   "outputs": [
    {
     "name": "stdout",
     "output_type": "stream",
     "text": [
      "Guessing 1346.6 low value contracts, 5929.799999999999 high value contracts, so an income of 418159.99999999994\n"
     ]
    }
   ],
   "source": [
    "p_low_contract = len(lowValue_contracts) / len(historical_dataset)\n",
    "p_high_contract = len(highValue_contracts) / len(historical_dataset)\n",
    "n_current = len(current_dataset)\n",
    "\n",
    "n_low = n_current * p_low_contract\n",
    "n_high = n_current * p_high_contract\n",
    "print(f\"Guessing {n_low} low value contracts, {n_high} high value contracts, so an income of {calculate_income(n_high, n_low)}\")"
   ]
  },
  {
   "cell_type": "markdown",
   "metadata": {
    "pycharm": {
     "name": "#%% md\n"
    }
   },
   "source": [
    "## Model\n",
    "Let's now try to build an actual model that aims to predict whether the company takes the contract or not, since the previous method only gives an estimation of the income and doesn't acutally predict which contracts are taken.\n",
    "\n",
    "This is the data we currently have:"
   ]
  },
  {
   "cell_type": "code",
   "execution_count": 24,
   "metadata": {
    "pycharm": {
     "name": "#%%\n"
    }
   },
   "outputs": [
    {
     "name": "stdout",
     "output_type": "stream",
     "text": [
      "Train and Test datasets\n"
     ]
    },
    {
     "data": {
      "text/plain": "       identifier  size  kitchens  bathrooms  floor    type  year  condition  \\\n72978       26126     2       1.0        6.0    4.0  2001.0     3          4   \n64529      128080     2       1.0        6.0    4.0  1983.0     3          2   \n82369       75486     1       1.0       22.0    1.0  2009.0     4          6   \n41328      144814     3       2.0       18.0    4.0  2012.0     4          6   \n7117        82910     3       1.0       13.0    4.0  2014.0     1          6   \n\n       elevator  subway  district  rooms  recentOwner  longitude  latitude  \\\n72978      True   False   40934.0    2.0        False   1.681468 -0.500141   \n64529      True   False   92624.0    2.0         True   0.445151 -0.500141   \n82369      True   False   45099.0    2.0        False  -0.647432 -0.500141   \n41328     False   False   52370.0    3.0        False  -2.419522 -0.500141   \n7117      False   False   52646.0    3.0        False  -1.581232 -0.499704   \n\n       prediction  highValue  \n72978       False      False  \n64529        True       True  \n82369       False       True  \n41328       False      False  \n7117        False      False  ",
      "text/html": "<div>\n<style scoped>\n    .dataframe tbody tr th:only-of-type {\n        vertical-align: middle;\n    }\n\n    .dataframe tbody tr th {\n        vertical-align: top;\n    }\n\n    .dataframe thead th {\n        text-align: right;\n    }\n</style>\n<table border=\"1\" class=\"dataframe\">\n  <thead>\n    <tr style=\"text-align: right;\">\n      <th></th>\n      <th>identifier</th>\n      <th>size</th>\n      <th>kitchens</th>\n      <th>bathrooms</th>\n      <th>floor</th>\n      <th>type</th>\n      <th>year</th>\n      <th>condition</th>\n      <th>elevator</th>\n      <th>subway</th>\n      <th>district</th>\n      <th>rooms</th>\n      <th>recentOwner</th>\n      <th>longitude</th>\n      <th>latitude</th>\n      <th>prediction</th>\n      <th>highValue</th>\n    </tr>\n  </thead>\n  <tbody>\n    <tr>\n      <th>72978</th>\n      <td>26126</td>\n      <td>2</td>\n      <td>1.0</td>\n      <td>6.0</td>\n      <td>4.0</td>\n      <td>2001.0</td>\n      <td>3</td>\n      <td>4</td>\n      <td>True</td>\n      <td>False</td>\n      <td>40934.0</td>\n      <td>2.0</td>\n      <td>False</td>\n      <td>1.681468</td>\n      <td>-0.500141</td>\n      <td>False</td>\n      <td>False</td>\n    </tr>\n    <tr>\n      <th>64529</th>\n      <td>128080</td>\n      <td>2</td>\n      <td>1.0</td>\n      <td>6.0</td>\n      <td>4.0</td>\n      <td>1983.0</td>\n      <td>3</td>\n      <td>2</td>\n      <td>True</td>\n      <td>False</td>\n      <td>92624.0</td>\n      <td>2.0</td>\n      <td>True</td>\n      <td>0.445151</td>\n      <td>-0.500141</td>\n      <td>True</td>\n      <td>True</td>\n    </tr>\n    <tr>\n      <th>82369</th>\n      <td>75486</td>\n      <td>1</td>\n      <td>1.0</td>\n      <td>22.0</td>\n      <td>1.0</td>\n      <td>2009.0</td>\n      <td>4</td>\n      <td>6</td>\n      <td>True</td>\n      <td>False</td>\n      <td>45099.0</td>\n      <td>2.0</td>\n      <td>False</td>\n      <td>-0.647432</td>\n      <td>-0.500141</td>\n      <td>False</td>\n      <td>True</td>\n    </tr>\n    <tr>\n      <th>41328</th>\n      <td>144814</td>\n      <td>3</td>\n      <td>2.0</td>\n      <td>18.0</td>\n      <td>4.0</td>\n      <td>2012.0</td>\n      <td>4</td>\n      <td>6</td>\n      <td>False</td>\n      <td>False</td>\n      <td>52370.0</td>\n      <td>3.0</td>\n      <td>False</td>\n      <td>-2.419522</td>\n      <td>-0.500141</td>\n      <td>False</td>\n      <td>False</td>\n    </tr>\n    <tr>\n      <th>7117</th>\n      <td>82910</td>\n      <td>3</td>\n      <td>1.0</td>\n      <td>13.0</td>\n      <td>4.0</td>\n      <td>2014.0</td>\n      <td>1</td>\n      <td>6</td>\n      <td>False</td>\n      <td>False</td>\n      <td>52646.0</td>\n      <td>3.0</td>\n      <td>False</td>\n      <td>-1.581232</td>\n      <td>-0.499704</td>\n      <td>False</td>\n      <td>False</td>\n    </tr>\n  </tbody>\n</table>\n</div>"
     },
     "execution_count": 24,
     "metadata": {},
     "output_type": "execute_result"
    }
   ],
   "source": [
    "print(\"Train and Test datasets\")\n",
    "train.head()"
   ]
  },
  {
   "cell_type": "code",
   "execution_count": 25,
   "metadata": {
    "pycharm": {
     "name": "#%%\n"
    }
   },
   "outputs": [
    {
     "name": "stdout",
     "output_type": "stream",
     "text": [
      "Current dataset\n"
     ]
    },
    {
     "data": {
      "text/plain": "   identifier  size  kitchens  bathrooms  floor    type  year  condition  \\\n0       19428     1       1.0        6.0    4.0  1986.0     4          4   \n1      137369     2       1.0        5.0    4.0  1962.0     3          2   \n2       33242     2       1.0       10.0    4.0  2007.0     3          6   \n3      147325     1       1.0       19.0    3.0  2007.0     1          6   \n4      109748     2       1.0        5.0    4.0  1979.0     3          2   \n\n   elevator  subway  district  rooms  recentOwner  longitude  latitude  \n0      True   False   69318.0    2.0         True   0.215669 -0.500141  \n1      True   False   72945.0    2.0         True   0.276088 -0.500141  \n2      True   False   60067.0    3.0         True  -1.377581 -0.500141  \n3     False   False   67339.0    1.0        False   0.734100 -0.500141  \n4      True   False  117634.0    2.0         True   0.328889 -0.500141  ",
      "text/html": "<div>\n<style scoped>\n    .dataframe tbody tr th:only-of-type {\n        vertical-align: middle;\n    }\n\n    .dataframe tbody tr th {\n        vertical-align: top;\n    }\n\n    .dataframe thead th {\n        text-align: right;\n    }\n</style>\n<table border=\"1\" class=\"dataframe\">\n  <thead>\n    <tr style=\"text-align: right;\">\n      <th></th>\n      <th>identifier</th>\n      <th>size</th>\n      <th>kitchens</th>\n      <th>bathrooms</th>\n      <th>floor</th>\n      <th>type</th>\n      <th>year</th>\n      <th>condition</th>\n      <th>elevator</th>\n      <th>subway</th>\n      <th>district</th>\n      <th>rooms</th>\n      <th>recentOwner</th>\n      <th>longitude</th>\n      <th>latitude</th>\n    </tr>\n  </thead>\n  <tbody>\n    <tr>\n      <th>0</th>\n      <td>19428</td>\n      <td>1</td>\n      <td>1.0</td>\n      <td>6.0</td>\n      <td>4.0</td>\n      <td>1986.0</td>\n      <td>4</td>\n      <td>4</td>\n      <td>True</td>\n      <td>False</td>\n      <td>69318.0</td>\n      <td>2.0</td>\n      <td>True</td>\n      <td>0.215669</td>\n      <td>-0.500141</td>\n    </tr>\n    <tr>\n      <th>1</th>\n      <td>137369</td>\n      <td>2</td>\n      <td>1.0</td>\n      <td>5.0</td>\n      <td>4.0</td>\n      <td>1962.0</td>\n      <td>3</td>\n      <td>2</td>\n      <td>True</td>\n      <td>False</td>\n      <td>72945.0</td>\n      <td>2.0</td>\n      <td>True</td>\n      <td>0.276088</td>\n      <td>-0.500141</td>\n    </tr>\n    <tr>\n      <th>2</th>\n      <td>33242</td>\n      <td>2</td>\n      <td>1.0</td>\n      <td>10.0</td>\n      <td>4.0</td>\n      <td>2007.0</td>\n      <td>3</td>\n      <td>6</td>\n      <td>True</td>\n      <td>False</td>\n      <td>60067.0</td>\n      <td>3.0</td>\n      <td>True</td>\n      <td>-1.377581</td>\n      <td>-0.500141</td>\n    </tr>\n    <tr>\n      <th>3</th>\n      <td>147325</td>\n      <td>1</td>\n      <td>1.0</td>\n      <td>19.0</td>\n      <td>3.0</td>\n      <td>2007.0</td>\n      <td>1</td>\n      <td>6</td>\n      <td>False</td>\n      <td>False</td>\n      <td>67339.0</td>\n      <td>1.0</td>\n      <td>False</td>\n      <td>0.734100</td>\n      <td>-0.500141</td>\n    </tr>\n    <tr>\n      <th>4</th>\n      <td>109748</td>\n      <td>2</td>\n      <td>1.0</td>\n      <td>5.0</td>\n      <td>4.0</td>\n      <td>1979.0</td>\n      <td>3</td>\n      <td>2</td>\n      <td>True</td>\n      <td>False</td>\n      <td>117634.0</td>\n      <td>2.0</td>\n      <td>True</td>\n      <td>0.328889</td>\n      <td>-0.500141</td>\n    </tr>\n  </tbody>\n</table>\n</div>"
     },
     "execution_count": 25,
     "metadata": {},
     "output_type": "execute_result"
    }
   ],
   "source": [
    "print(\"Current dataset\")\n",
    "current_dataset.head()"
   ]
  },
  {
   "cell_type": "markdown",
   "metadata": {
    "pycharm": {
     "name": "#%% md\n"
    }
   },
   "source": [
    "### Data"
   ]
  },
  {
   "cell_type": "code",
   "execution_count": 26,
   "outputs": [],
   "source": [
    "train_data = train.drop(['prediction', 'highValue'], axis=1)\n",
    "assert train_data.columns.to_list() == current_dataset.columns.to_list()\n",
    "train_target = train[\"prediction\"]\n",
    "\n",
    "test_data = test.drop(['prediction', 'highValue'], axis=1)\n",
    "assert test_data.columns.to_list() == current_dataset.columns.to_list()\n",
    "test_target = test[\"prediction\"]"
   ],
   "metadata": {
    "collapsed": false,
    "pycharm": {
     "name": "#%%\n"
    }
   }
  },
  {
   "cell_type": "markdown",
   "source": [
    "### RandomForestClassifier"
   ],
   "metadata": {
    "collapsed": false,
    "pycharm": {
     "name": "#%% md\n"
    }
   }
  },
  {
   "cell_type": "code",
   "execution_count": 27,
   "outputs": [
    {
     "data": {
      "text/plain": "RandomForestClassifier(max_depth=2, random_state=0)"
     },
     "execution_count": 27,
     "metadata": {},
     "output_type": "execute_result"
    }
   ],
   "source": [
    "from sklearn.ensemble import RandomForestClassifier\n",
    "clf = RandomForestClassifier(max_depth=2, random_state=0)\n",
    "clf.fit(train_data, train_target)"
   ],
   "metadata": {
    "collapsed": false,
    "pycharm": {
     "name": "#%%\n"
    }
   }
  },
  {
   "cell_type": "code",
   "execution_count": 28,
   "outputs": [
    {
     "data": {
      "text/plain": "0.95245"
     },
     "execution_count": 28,
     "metadata": {},
     "output_type": "execute_result"
    }
   ],
   "source": [
    "clf.score(test_data, test_target)"
   ],
   "metadata": {
    "collapsed": false,
    "pycharm": {
     "name": "#%%\n"
    }
   }
  },
  {
   "cell_type": "markdown",
   "source": [
    "### LinearSVC"
   ],
   "metadata": {
    "collapsed": false
   }
  },
  {
   "cell_type": "code",
   "execution_count": 22,
   "outputs": [
    {
     "name": "stderr",
     "output_type": "stream",
     "text": [
      "C:\\Users\\arnod\\AppData\\Local\\Programs\\Python\\Python39\\lib\\site-packages\\sklearn\\svm\\_base.py:1199: ConvergenceWarning: Liblinear failed to converge, increase the number of iterations.\n",
      "  warnings.warn(\n"
     ]
    },
    {
     "data": {
      "text/plain": "LinearSVC()"
     },
     "execution_count": 22,
     "metadata": {},
     "output_type": "execute_result"
    }
   ],
   "source": [
    "from sklearn.svm import LinearSVC\n",
    "clf = LinearSVC()\n",
    "clf.fit(train_data, train_target)"
   ],
   "metadata": {
    "collapsed": false,
    "pycharm": {
     "name": "#%%\n"
    }
   }
  },
  {
   "cell_type": "code",
   "execution_count": 23,
   "outputs": [
    {
     "data": {
      "text/plain": "0.87515"
     },
     "execution_count": 23,
     "metadata": {},
     "output_type": "execute_result"
    }
   ],
   "source": [
    "clf.score(test_data, test_target)"
   ],
   "metadata": {
    "collapsed": false,
    "pycharm": {
     "name": "#%%\n"
    }
   }
  },
  {
   "cell_type": "markdown",
   "source": [
    "### SGDClassifier"
   ],
   "metadata": {
    "collapsed": false
   }
  },
  {
   "cell_type": "code",
   "execution_count": 24,
   "outputs": [
    {
     "data": {
      "text/plain": "SGDClassifier()"
     },
     "execution_count": 24,
     "metadata": {},
     "output_type": "execute_result"
    }
   ],
   "source": [
    "from sklearn.linear_model import SGDClassifier\n",
    "clf = SGDClassifier()\n",
    "clf.fit(train_data, train_target)"
   ],
   "metadata": {
    "collapsed": false,
    "pycharm": {
     "name": "#%%\n"
    }
   }
  },
  {
   "cell_type": "code",
   "execution_count": 18,
   "outputs": [
    {
     "data": {
      "text/plain": "0.9508"
     },
     "execution_count": 18,
     "metadata": {},
     "output_type": "execute_result"
    }
   ],
   "source": [
    "clf.score(test_data, test_target)"
   ],
   "metadata": {
    "collapsed": false,
    "pycharm": {
     "name": "#%%\n"
    }
   }
  },
  {
   "cell_type": "markdown",
   "source": [
    "### Hyperparameter tuning\n",
    "RandomForestClassifier clearly is the best, so lets try to find the best hyperparameters for it. (since finding optimal parameters for each of the models will take too long)"
   ],
   "metadata": {
    "collapsed": false
   }
  },
  {
   "cell_type": "code",
   "execution_count": null,
   "outputs": [
    {
     "name": "stdout",
     "output_type": "stream",
     "text": [
      "Fitting 5 folds for each of 60 candidates, totalling 300 fits\n",
      "[CV 1/5; 1/60] START criterion=gini, max_depth=4, max_features=auto, n_estimators=200\n",
      "[CV 1/5; 1/60] END criterion=gini, max_depth=4, max_features=auto, n_estimators=200;, score=0.966 total time=   4.8s\n",
      "[CV 2/5; 1/60] START criterion=gini, max_depth=4, max_features=auto, n_estimators=200\n",
      "[CV 2/5; 1/60] END criterion=gini, max_depth=4, max_features=auto, n_estimators=200;, score=0.970 total time=   4.7s\n",
      "[CV 3/5; 1/60] START criterion=gini, max_depth=4, max_features=auto, n_estimators=200\n",
      "[CV 3/5; 1/60] END criterion=gini, max_depth=4, max_features=auto, n_estimators=200;, score=0.970 total time=   4.7s\n",
      "[CV 4/5; 1/60] START criterion=gini, max_depth=4, max_features=auto, n_estimators=200\n",
      "[CV 4/5; 1/60] END criterion=gini, max_depth=4, max_features=auto, n_estimators=200;, score=0.968 total time=   4.6s\n",
      "[CV 5/5; 1/60] START criterion=gini, max_depth=4, max_features=auto, n_estimators=200\n",
      "[CV 5/5; 1/60] END criterion=gini, max_depth=4, max_features=auto, n_estimators=200;, score=0.969 total time=   4.7s\n",
      "[CV 1/5; 2/60] START criterion=gini, max_depth=4, max_features=auto, n_estimators=500\n",
      "[CV 1/5; 2/60] END criterion=gini, max_depth=4, max_features=auto, n_estimators=500;, score=0.969 total time=  11.7s\n",
      "[CV 2/5; 2/60] START criterion=gini, max_depth=4, max_features=auto, n_estimators=500\n",
      "[CV 2/5; 2/60] END criterion=gini, max_depth=4, max_features=auto, n_estimators=500;, score=0.969 total time=  12.0s\n",
      "[CV 3/5; 2/60] START criterion=gini, max_depth=4, max_features=auto, n_estimators=500\n",
      "[CV 3/5; 2/60] END criterion=gini, max_depth=4, max_features=auto, n_estimators=500;, score=0.970 total time=  11.6s\n",
      "[CV 4/5; 2/60] START criterion=gini, max_depth=4, max_features=auto, n_estimators=500\n",
      "[CV 4/5; 2/60] END criterion=gini, max_depth=4, max_features=auto, n_estimators=500;, score=0.966 total time=  11.7s\n",
      "[CV 5/5; 2/60] START criterion=gini, max_depth=4, max_features=auto, n_estimators=500\n",
      "[CV 5/5; 2/60] END criterion=gini, max_depth=4, max_features=auto, n_estimators=500;, score=0.968 total time=  11.8s\n",
      "[CV 1/5; 3/60] START criterion=gini, max_depth=4, max_features=sqrt, n_estimators=200\n",
      "[CV 1/5; 3/60] END criterion=gini, max_depth=4, max_features=sqrt, n_estimators=200;, score=0.966 total time=   4.7s\n",
      "[CV 2/5; 3/60] START criterion=gini, max_depth=4, max_features=sqrt, n_estimators=200\n",
      "[CV 2/5; 3/60] END criterion=gini, max_depth=4, max_features=sqrt, n_estimators=200;, score=0.970 total time=   4.6s\n",
      "[CV 3/5; 3/60] START criterion=gini, max_depth=4, max_features=sqrt, n_estimators=200\n",
      "[CV 3/5; 3/60] END criterion=gini, max_depth=4, max_features=sqrt, n_estimators=200;, score=0.970 total time=   4.6s\n",
      "[CV 4/5; 3/60] START criterion=gini, max_depth=4, max_features=sqrt, n_estimators=200\n",
      "[CV 4/5; 3/60] END criterion=gini, max_depth=4, max_features=sqrt, n_estimators=200;, score=0.968 total time=   4.6s\n",
      "[CV 5/5; 3/60] START criterion=gini, max_depth=4, max_features=sqrt, n_estimators=200\n",
      "[CV 5/5; 3/60] END criterion=gini, max_depth=4, max_features=sqrt, n_estimators=200;, score=0.969 total time=   4.7s\n",
      "[CV 1/5; 4/60] START criterion=gini, max_depth=4, max_features=sqrt, n_estimators=500\n",
      "[CV 1/5; 4/60] END criterion=gini, max_depth=4, max_features=sqrt, n_estimators=500;, score=0.969 total time=  11.6s\n",
      "[CV 2/5; 4/60] START criterion=gini, max_depth=4, max_features=sqrt, n_estimators=500\n",
      "[CV 2/5; 4/60] END criterion=gini, max_depth=4, max_features=sqrt, n_estimators=500;, score=0.969 total time=  11.9s\n",
      "[CV 3/5; 4/60] START criterion=gini, max_depth=4, max_features=sqrt, n_estimators=500\n",
      "[CV 3/5; 4/60] END criterion=gini, max_depth=4, max_features=sqrt, n_estimators=500;, score=0.970 total time=  11.5s\n",
      "[CV 4/5; 4/60] START criterion=gini, max_depth=4, max_features=sqrt, n_estimators=500\n",
      "[CV 4/5; 4/60] END criterion=gini, max_depth=4, max_features=sqrt, n_estimators=500;, score=0.966 total time=  11.3s\n",
      "[CV 5/5; 4/60] START criterion=gini, max_depth=4, max_features=sqrt, n_estimators=500\n",
      "[CV 5/5; 4/60] END criterion=gini, max_depth=4, max_features=sqrt, n_estimators=500;, score=0.968 total time=  11.6s\n",
      "[CV 1/5; 5/60] START criterion=gini, max_depth=4, max_features=log2, n_estimators=200\n",
      "[CV 1/5; 5/60] END criterion=gini, max_depth=4, max_features=log2, n_estimators=200;, score=0.966 total time=   4.5s\n",
      "[CV 2/5; 5/60] START criterion=gini, max_depth=4, max_features=log2, n_estimators=200\n",
      "[CV 2/5; 5/60] END criterion=gini, max_depth=4, max_features=log2, n_estimators=200;, score=0.970 total time=   4.5s\n",
      "[CV 3/5; 5/60] START criterion=gini, max_depth=4, max_features=log2, n_estimators=200\n",
      "[CV 3/5; 5/60] END criterion=gini, max_depth=4, max_features=log2, n_estimators=200;, score=0.970 total time=   4.5s\n",
      "[CV 4/5; 5/60] START criterion=gini, max_depth=4, max_features=log2, n_estimators=200\n",
      "[CV 4/5; 5/60] END criterion=gini, max_depth=4, max_features=log2, n_estimators=200;, score=0.968 total time=   4.5s\n",
      "[CV 5/5; 5/60] START criterion=gini, max_depth=4, max_features=log2, n_estimators=200\n",
      "[CV 5/5; 5/60] END criterion=gini, max_depth=4, max_features=log2, n_estimators=200;, score=0.969 total time=   4.6s\n",
      "[CV 1/5; 6/60] START criterion=gini, max_depth=4, max_features=log2, n_estimators=500\n",
      "[CV 1/5; 6/60] END criterion=gini, max_depth=4, max_features=log2, n_estimators=500;, score=0.969 total time=  11.8s\n",
      "[CV 2/5; 6/60] START criterion=gini, max_depth=4, max_features=log2, n_estimators=500\n",
      "[CV 2/5; 6/60] END criterion=gini, max_depth=4, max_features=log2, n_estimators=500;, score=0.969 total time=  11.8s\n",
      "[CV 3/5; 6/60] START criterion=gini, max_depth=4, max_features=log2, n_estimators=500\n",
      "[CV 3/5; 6/60] END criterion=gini, max_depth=4, max_features=log2, n_estimators=500;, score=0.970 total time=  11.2s\n",
      "[CV 4/5; 6/60] START criterion=gini, max_depth=4, max_features=log2, n_estimators=500\n",
      "[CV 4/5; 6/60] END criterion=gini, max_depth=4, max_features=log2, n_estimators=500;, score=0.966 total time=  12.3s\n",
      "[CV 5/5; 6/60] START criterion=gini, max_depth=4, max_features=log2, n_estimators=500\n",
      "[CV 5/5; 6/60] END criterion=gini, max_depth=4, max_features=log2, n_estimators=500;, score=0.968 total time=  11.8s\n",
      "[CV 1/5; 7/60] START criterion=gini, max_depth=5, max_features=auto, n_estimators=200\n",
      "[CV 1/5; 7/60] END criterion=gini, max_depth=5, max_features=auto, n_estimators=200;, score=0.973 total time=   5.4s\n",
      "[CV 2/5; 7/60] START criterion=gini, max_depth=5, max_features=auto, n_estimators=200\n",
      "[CV 2/5; 7/60] END criterion=gini, max_depth=5, max_features=auto, n_estimators=200;, score=0.973 total time=   5.2s\n",
      "[CV 3/5; 7/60] START criterion=gini, max_depth=5, max_features=auto, n_estimators=200\n",
      "[CV 3/5; 7/60] END criterion=gini, max_depth=5, max_features=auto, n_estimators=200;, score=0.976 total time=   5.3s\n",
      "[CV 4/5; 7/60] START criterion=gini, max_depth=5, max_features=auto, n_estimators=200\n",
      "[CV 4/5; 7/60] END criterion=gini, max_depth=5, max_features=auto, n_estimators=200;, score=0.967 total time=   5.4s\n",
      "[CV 5/5; 7/60] START criterion=gini, max_depth=5, max_features=auto, n_estimators=200\n",
      "[CV 5/5; 7/60] END criterion=gini, max_depth=5, max_features=auto, n_estimators=200;, score=0.969 total time=   5.3s\n",
      "[CV 1/5; 8/60] START criterion=gini, max_depth=5, max_features=auto, n_estimators=500\n",
      "[CV 1/5; 8/60] END criterion=gini, max_depth=5, max_features=auto, n_estimators=500;, score=0.974 total time=  12.8s\n",
      "[CV 2/5; 8/60] START criterion=gini, max_depth=5, max_features=auto, n_estimators=500\n",
      "[CV 2/5; 8/60] END criterion=gini, max_depth=5, max_features=auto, n_estimators=500;, score=0.977 total time=  10.2s\n",
      "[CV 3/5; 8/60] START criterion=gini, max_depth=5, max_features=auto, n_estimators=500\n",
      "[CV 3/5; 8/60] END criterion=gini, max_depth=5, max_features=auto, n_estimators=500;, score=0.976 total time=  10.2s\n",
      "[CV 4/5; 8/60] START criterion=gini, max_depth=5, max_features=auto, n_estimators=500\n",
      "[CV 4/5; 8/60] END criterion=gini, max_depth=5, max_features=auto, n_estimators=500;, score=0.970 total time=  10.4s\n",
      "[CV 5/5; 8/60] START criterion=gini, max_depth=5, max_features=auto, n_estimators=500\n",
      "[CV 5/5; 8/60] END criterion=gini, max_depth=5, max_features=auto, n_estimators=500;, score=0.971 total time=  10.3s\n",
      "[CV 1/5; 9/60] START criterion=gini, max_depth=5, max_features=sqrt, n_estimators=200\n",
      "[CV 1/5; 9/60] END criterion=gini, max_depth=5, max_features=sqrt, n_estimators=200;, score=0.973 total time=   4.1s\n",
      "[CV 2/5; 9/60] START criterion=gini, max_depth=5, max_features=sqrt, n_estimators=200\n",
      "[CV 2/5; 9/60] END criterion=gini, max_depth=5, max_features=sqrt, n_estimators=200;, score=0.973 total time=   4.0s\n",
      "[CV 3/5; 9/60] START criterion=gini, max_depth=5, max_features=sqrt, n_estimators=200\n",
      "[CV 3/5; 9/60] END criterion=gini, max_depth=5, max_features=sqrt, n_estimators=200;, score=0.976 total time=   4.1s\n",
      "[CV 4/5; 9/60] START criterion=gini, max_depth=5, max_features=sqrt, n_estimators=200\n",
      "[CV 4/5; 9/60] END criterion=gini, max_depth=5, max_features=sqrt, n_estimators=200;, score=0.967 total time=   4.4s\n",
      "[CV 5/5; 9/60] START criterion=gini, max_depth=5, max_features=sqrt, n_estimators=200\n",
      "[CV 5/5; 9/60] END criterion=gini, max_depth=5, max_features=sqrt, n_estimators=200;, score=0.969 total time=   4.2s\n",
      "[CV 1/5; 10/60] START criterion=gini, max_depth=5, max_features=sqrt, n_estimators=500\n",
      "[CV 1/5; 10/60] END criterion=gini, max_depth=5, max_features=sqrt, n_estimators=500;, score=0.974 total time=  10.4s\n",
      "[CV 2/5; 10/60] START criterion=gini, max_depth=5, max_features=sqrt, n_estimators=500\n",
      "[CV 2/5; 10/60] END criterion=gini, max_depth=5, max_features=sqrt, n_estimators=500;, score=0.977 total time=  11.9s\n",
      "[CV 3/5; 10/60] START criterion=gini, max_depth=5, max_features=sqrt, n_estimators=500\n",
      "[CV 3/5; 10/60] END criterion=gini, max_depth=5, max_features=sqrt, n_estimators=500;, score=0.976 total time=  11.7s\n",
      "[CV 4/5; 10/60] START criterion=gini, max_depth=5, max_features=sqrt, n_estimators=500\n",
      "[CV 4/5; 10/60] END criterion=gini, max_depth=5, max_features=sqrt, n_estimators=500;, score=0.970 total time=  12.1s\n",
      "[CV 5/5; 10/60] START criterion=gini, max_depth=5, max_features=sqrt, n_estimators=500\n",
      "[CV 5/5; 10/60] END criterion=gini, max_depth=5, max_features=sqrt, n_estimators=500;, score=0.971 total time=  11.7s\n",
      "[CV 1/5; 11/60] START criterion=gini, max_depth=5, max_features=log2, n_estimators=200\n",
      "[CV 1/5; 11/60] END criterion=gini, max_depth=5, max_features=log2, n_estimators=200;, score=0.973 total time=   4.7s\n",
      "[CV 2/5; 11/60] START criterion=gini, max_depth=5, max_features=log2, n_estimators=200\n",
      "[CV 2/5; 11/60] END criterion=gini, max_depth=5, max_features=log2, n_estimators=200;, score=0.973 total time=   4.6s\n",
      "[CV 3/5; 11/60] START criterion=gini, max_depth=5, max_features=log2, n_estimators=200\n",
      "[CV 3/5; 11/60] END criterion=gini, max_depth=5, max_features=log2, n_estimators=200;, score=0.976 total time=   4.6s\n",
      "[CV 4/5; 11/60] START criterion=gini, max_depth=5, max_features=log2, n_estimators=200\n",
      "[CV 4/5; 11/60] END criterion=gini, max_depth=5, max_features=log2, n_estimators=200;, score=0.967 total time=   4.6s\n",
      "[CV 5/5; 11/60] START criterion=gini, max_depth=5, max_features=log2, n_estimators=200\n",
      "[CV 5/5; 11/60] END criterion=gini, max_depth=5, max_features=log2, n_estimators=200;, score=0.969 total time=   4.7s\n",
      "[CV 1/5; 12/60] START criterion=gini, max_depth=5, max_features=log2, n_estimators=500\n",
      "[CV 1/5; 12/60] END criterion=gini, max_depth=5, max_features=log2, n_estimators=500;, score=0.974 total time=  11.5s\n",
      "[CV 2/5; 12/60] START criterion=gini, max_depth=5, max_features=log2, n_estimators=500\n",
      "[CV 2/5; 12/60] END criterion=gini, max_depth=5, max_features=log2, n_estimators=500;, score=0.977 total time=  11.5s\n",
      "[CV 3/5; 12/60] START criterion=gini, max_depth=5, max_features=log2, n_estimators=500\n",
      "[CV 3/5; 12/60] END criterion=gini, max_depth=5, max_features=log2, n_estimators=500;, score=0.976 total time=  11.6s\n",
      "[CV 4/5; 12/60] START criterion=gini, max_depth=5, max_features=log2, n_estimators=500\n",
      "[CV 4/5; 12/60] END criterion=gini, max_depth=5, max_features=log2, n_estimators=500;, score=0.970 total time=  11.5s\n",
      "[CV 5/5; 12/60] START criterion=gini, max_depth=5, max_features=log2, n_estimators=500\n",
      "[CV 5/5; 12/60] END criterion=gini, max_depth=5, max_features=log2, n_estimators=500;, score=0.971 total time=  11.4s\n",
      "[CV 1/5; 13/60] START criterion=gini, max_depth=6, max_features=auto, n_estimators=200\n",
      "[CV 1/5; 13/60] END criterion=gini, max_depth=6, max_features=auto, n_estimators=200;, score=0.983 total time=   5.1s\n",
      "[CV 2/5; 13/60] START criterion=gini, max_depth=6, max_features=auto, n_estimators=200\n",
      "[CV 2/5; 13/60] END criterion=gini, max_depth=6, max_features=auto, n_estimators=200;, score=0.982 total time=   5.0s\n",
      "[CV 3/5; 13/60] START criterion=gini, max_depth=6, max_features=auto, n_estimators=200\n",
      "[CV 3/5; 13/60] END criterion=gini, max_depth=6, max_features=auto, n_estimators=200;, score=0.983 total time=   5.0s\n",
      "[CV 4/5; 13/60] START criterion=gini, max_depth=6, max_features=auto, n_estimators=200\n",
      "[CV 4/5; 13/60] END criterion=gini, max_depth=6, max_features=auto, n_estimators=200;, score=0.981 total time=   5.0s\n",
      "[CV 5/5; 13/60] START criterion=gini, max_depth=6, max_features=auto, n_estimators=200\n",
      "[CV 5/5; 13/60] END criterion=gini, max_depth=6, max_features=auto, n_estimators=200;, score=0.982 total time=   5.0s\n",
      "[CV 1/5; 14/60] START criterion=gini, max_depth=6, max_features=auto, n_estimators=500\n",
      "[CV 1/5; 14/60] END criterion=gini, max_depth=6, max_features=auto, n_estimators=500;, score=0.984 total time=  12.7s\n",
      "[CV 2/5; 14/60] START criterion=gini, max_depth=6, max_features=auto, n_estimators=500\n",
      "[CV 2/5; 14/60] END criterion=gini, max_depth=6, max_features=auto, n_estimators=500;, score=0.982 total time=  12.7s\n",
      "[CV 3/5; 14/60] START criterion=gini, max_depth=6, max_features=auto, n_estimators=500\n",
      "[CV 3/5; 14/60] END criterion=gini, max_depth=6, max_features=auto, n_estimators=500;, score=0.982 total time=  12.6s\n",
      "[CV 4/5; 14/60] START criterion=gini, max_depth=6, max_features=auto, n_estimators=500\n",
      "[CV 4/5; 14/60] END criterion=gini, max_depth=6, max_features=auto, n_estimators=500;, score=0.982 total time=  12.8s\n",
      "[CV 5/5; 14/60] START criterion=gini, max_depth=6, max_features=auto, n_estimators=500\n",
      "[CV 5/5; 14/60] END criterion=gini, max_depth=6, max_features=auto, n_estimators=500;, score=0.982 total time=  12.7s\n",
      "[CV 1/5; 15/60] START criterion=gini, max_depth=6, max_features=sqrt, n_estimators=200\n",
      "[CV 1/5; 15/60] END criterion=gini, max_depth=6, max_features=sqrt, n_estimators=200;, score=0.983 total time=   5.0s\n",
      "[CV 2/5; 15/60] START criterion=gini, max_depth=6, max_features=sqrt, n_estimators=200\n",
      "[CV 2/5; 15/60] END criterion=gini, max_depth=6, max_features=sqrt, n_estimators=200;, score=0.982 total time=   5.0s\n",
      "[CV 3/5; 15/60] START criterion=gini, max_depth=6, max_features=sqrt, n_estimators=200\n",
      "[CV 3/5; 15/60] END criterion=gini, max_depth=6, max_features=sqrt, n_estimators=200;, score=0.983 total time= 5.4min\n",
      "[CV 4/5; 15/60] START criterion=gini, max_depth=6, max_features=sqrt, n_estimators=200\n",
      "[CV 4/5; 15/60] END criterion=gini, max_depth=6, max_features=sqrt, n_estimators=200;, score=0.981 total time=   7.9s\n",
      "[CV 5/5; 15/60] START criterion=gini, max_depth=6, max_features=sqrt, n_estimators=200\n",
      "[CV 5/5; 15/60] END criterion=gini, max_depth=6, max_features=sqrt, n_estimators=200;, score=0.982 total time=   6.7s\n",
      "[CV 1/5; 16/60] START criterion=gini, max_depth=6, max_features=sqrt, n_estimators=500\n",
      "[CV 1/5; 16/60] END criterion=gini, max_depth=6, max_features=sqrt, n_estimators=500;, score=0.984 total time=  15.2s\n",
      "[CV 2/5; 16/60] START criterion=gini, max_depth=6, max_features=sqrt, n_estimators=500\n"
     ]
    }
   ],
   "source": [
    "from sklearn.ensemble import RandomForestClassifier\n",
    "from sklearn.model_selection import GridSearchCV\n",
    "rfc=RandomForestClassifier(random_state=0)\n",
    "param_grid = {\n",
    "    'n_estimators': [200, 500],\n",
    "    'max_features': ['auto', 'sqrt', 'log2'],\n",
    "    'max_depth' : [4,5,6,7,8],\n",
    "    'criterion' :['gini', 'entropy']\n",
    "} # https://www.kaggle.com/code/sociopath00/random-forest-using-gridsearchcv/notebook\n",
    "CV_rfc = GridSearchCV(estimator=rfc, param_grid=param_grid, cv=5, verbose=10)\n",
    "CV_rfc.fit(train_data, train_target)\n",
    "CV_rfc.best_params_"
   ],
   "metadata": {
    "collapsed": false,
    "pycharm": {
     "name": "#%%\n",
     "is_executing": true
    }
   }
  },
  {
   "cell_type": "markdown",
   "source": [
    "This gives the optimal parameters (with 98% accuracy), but takes quite some time to run. So we'll just use the default parameters in the interest of time.\n",
    "\n",
    "### Some used references\n",
    "https://datascience.stackexchange.com/questions/57863/why-my-svm-svc-fit-linear-kernal-run-so-long-time\n",
    "https://stackoverflow.com/questions/34251980/a-progress-bar-for-scikit-learn\n",
    "https://towardsdatascience.com/gridsearchcv-for-beginners-db48a90114ee\n",
    "https://pandas.pydata.org/docs/reference/api/pandas.DataFrame.drop.html\n",
    "https://scikit-learn.org/stable/modules/generated/sklearn.svm.SVC.html\n",
    "## Profits\n",
    "In order to estimate the profits, we also need a model that predicts whether a contract is high or low value, so let's also use a RandomForestClassifier."
   ],
   "metadata": {
    "collapsed": false
   }
  },
  {
   "cell_type": "code",
   "execution_count": 29,
   "outputs": [],
   "source": [
    "train_target_value = train[\"highValue\"]\n",
    "test_target_value = test[\"highValue\"]"
   ],
   "metadata": {
    "collapsed": false,
    "pycharm": {
     "name": "#%%\n"
    }
   }
  },
  {
   "cell_type": "code",
   "execution_count": 30,
   "outputs": [
    {
     "data": {
      "text/plain": "RandomForestClassifier(max_depth=2, random_state=0)"
     },
     "execution_count": 30,
     "metadata": {},
     "output_type": "execute_result"
    }
   ],
   "source": [
    "from sklearn.ensemble import RandomForestClassifier\n",
    "clf_value = RandomForestClassifier(max_depth=2, random_state=0)\n",
    "clf_value.fit(train_data, train_target_value)"
   ],
   "metadata": {
    "collapsed": false,
    "pycharm": {
     "name": "#%%\n"
    }
   }
  },
  {
   "cell_type": "markdown",
   "source": [
    "Also here we can find the optimal hyperparameters by training different models and running grid search on each of them to find the optimal values, but I'll skip this in the interest of time and just use the default values.\n",
    "Let's now predict for each of them whether it's high value or low value."
   ],
   "metadata": {
    "collapsed": false,
    "pycharm": {
     "name": "#%% md\n"
    }
   }
  },
  {
   "cell_type": "code",
   "execution_count": 31,
   "outputs": [],
   "source": [
    "is_high_value = clf_value.predict(current_dataset)\n",
    "takes_contract = clf.predict(current_dataset)"
   ],
   "metadata": {
    "collapsed": false,
    "pycharm": {
     "name": "#%%\n"
    }
   }
  },
  {
   "cell_type": "code",
   "execution_count": 32,
   "outputs": [],
   "source": [
    "def calculate_income_high_contract(high_vector, contract_vector):\n",
    "    dataset = pd.DataFrame({'highValue': high_vector, 'predictions': contract_vector}, columns=['highValue', 'predictions'])\n",
    "    highValue_contracts = dataset[(dataset['highValue'] == True) & (dataset['predictions'] == True)]\n",
    "    lowValue_contracts = dataset[(dataset['highValue'] == False) & (dataset['predictions'] == True)]\n",
    "    print(\"High value contracts: \", len(highValue_contracts))\n",
    "    print(\"Low value contracts: \", len(lowValue_contracts))\n",
    "    return calculate_income(len(highValue_contracts), len(lowValue_contracts))"
   ],
   "metadata": {
    "collapsed": false,
    "pycharm": {
     "name": "#%%\n"
    }
   }
  },
  {
   "cell_type": "code",
   "execution_count": 33,
   "outputs": [
    {
     "name": "stdout",
     "output_type": "stream",
     "text": [
      "High value contracts:  6765\n",
      "Low value contracts:  0\n"
     ]
    },
    {
     "data": {
      "text/plain": "1014750"
     },
     "execution_count": 33,
     "metadata": {},
     "output_type": "execute_result"
    }
   ],
   "source": [
    "calculate_income_high_contract(is_high_value, takes_contract)"
   ],
   "metadata": {
    "collapsed": false,
    "pycharm": {
     "name": "#%%\n"
    }
   }
  },
  {
   "cell_type": "markdown",
   "source": [
    "It's still strange that we only get 1 low value contract, so further hyperparameter tuning might be needed, but there is currently no time for that.\n",
    "\n",
    "# Contracts to take\n",
    "In order to know which contracts to take, we need to get all highValue houses, that the other company doesn't take. We can just use the same models as before for this."
   ],
   "metadata": {
    "collapsed": false,
    "pycharm": {
     "name": "#%% md\n"
    }
   }
  },
  {
   "cell_type": "code",
   "execution_count": 36,
   "outputs": [],
   "source": [
    "from numpy import savetxt\n",
    "dataset = pd.DataFrame({'identifier': current_dataset['identifier'],'highValue': is_high_value, 'predictions': takes_contract}, columns=['identifier', 'highValue', 'predictions'])\n",
    "contracts_to_take = dataset[(dataset['highValue'] == True)]\n",
    "ids = contracts_to_take[\"identifier\"]\n",
    "savetxt(\"selection.csv\", ids, delimiter=\",\", fmt='%s')"
   ],
   "metadata": {
    "collapsed": false,
    "pycharm": {
     "name": "#%%\n"
    }
   }
  },
  {
   "cell_type": "markdown",
   "source": [
    "# Expected Earnings"
   ],
   "metadata": {
    "collapsed": false,
    "pycharm": {
     "name": "#%% md\n"
    }
   }
  },
  {
   "cell_type": "code",
   "execution_count": 35,
   "outputs": [
    {
     "data": {
      "text/plain": "1239150.0"
     },
     "execution_count": 35,
     "metadata": {},
     "output_type": "execute_result"
    }
   ],
   "source": [
    "shared_contracts = contracts_to_take[(contracts_to_take['predictions'] == True)]\n",
    "non_shared_contracts = contracts_to_take[(contracts_to_take['predictions'] == False)]\n",
    "(600-450) * len(shared_contracts) + (600-450)/2 * len(non_shared_contracts)"
   ],
   "metadata": {
    "collapsed": false,
    "pycharm": {
     "name": "#%%\n"
    }
   }
  }
 ],
 "metadata": {
  "kernelspec": {
   "display_name": "Python 3 (ipykernel)",
   "language": "python",
   "name": "python3"
  },
  "language_info": {
   "codemirror_mode": {
    "name": "ipython",
    "version": 2
   },
   "file_extension": ".py",
   "mimetype": "text/x-python",
   "name": "python",
   "nbconvert_exporter": "python",
   "pygments_lexer": "ipython2",
   "version": "2.7.6"
  }
 },
 "nbformat": 4,
 "nbformat_minor": 1
}