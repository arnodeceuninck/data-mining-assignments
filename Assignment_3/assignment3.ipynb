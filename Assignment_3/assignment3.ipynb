{
 "cells": [
  {
   "cell_type": "markdown",
   "source": [
    "# Clustering\n",
    "# Data"
   ],
   "metadata": {
    "collapsed": false,
    "pycharm": {
     "name": "#%% md\n"
    }
   }
  },
  {
   "cell_type": "code",
   "execution_count": 2,
   "outputs": [
    {
     "data": {
      "text/plain": "                              title  \\\n0                              -hou   \n1                         .htaccess   \n2                           16-cell   \n3  2007 Universal Forum of Cultures   \n4        20th century in literature   \n\n                                                text  \n0  -hou is a suffix (part added to the end of a w...  \n1  .htaccess is a type of computer file for the c...  \n2  In four dimensional geometry, a 16-cell, is a ...  \n3  The Universal Forum of Cultures Monterrey 2007...  \n4  Literature of the 20th century refers to world...  ",
      "text/html": "<div>\n<style scoped>\n    .dataframe tbody tr th:only-of-type {\n        vertical-align: middle;\n    }\n\n    .dataframe tbody tr th {\n        vertical-align: top;\n    }\n\n    .dataframe thead th {\n        text-align: right;\n    }\n</style>\n<table border=\"1\" class=\"dataframe\">\n  <thead>\n    <tr style=\"text-align: right;\">\n      <th></th>\n      <th>title</th>\n      <th>text</th>\n    </tr>\n  </thead>\n  <tbody>\n    <tr>\n      <th>0</th>\n      <td>-hou</td>\n      <td>-hou is a suffix (part added to the end of a w...</td>\n    </tr>\n    <tr>\n      <th>1</th>\n      <td>.htaccess</td>\n      <td>.htaccess is a type of computer file for the c...</td>\n    </tr>\n    <tr>\n      <th>2</th>\n      <td>16-cell</td>\n      <td>In four dimensional geometry, a 16-cell, is a ...</td>\n    </tr>\n    <tr>\n      <th>3</th>\n      <td>2007 Universal Forum of Cultures</td>\n      <td>The Universal Forum of Cultures Monterrey 2007...</td>\n    </tr>\n    <tr>\n      <th>4</th>\n      <td>20th century in literature</td>\n      <td>Literature of the 20th century refers to world...</td>\n    </tr>\n  </tbody>\n</table>\n</div>"
     },
     "execution_count": 2,
     "metadata": {},
     "output_type": "execute_result"
    }
   ],
   "source": [
    "import pandas as pd\n",
    "articles = pd.read_csv('articles.tsv', sep='\\t', names=['title', 'text'])\n",
    "articles.head()"
   ],
   "metadata": {
    "collapsed": false,
    "pycharm": {
     "name": "#%%\n"
    }
   }
  },
  {
   "cell_type": "code",
   "execution_count": 3,
   "outputs": [],
   "source": [
    "# preprocess using tf idf vectorizer\n",
    "from sklearn.feature_extraction.text import TfidfVectorizer\n",
    "vectorizer = TfidfVectorizer(stop_words='english')\n",
    "text_data = vectorizer.fit_transform(articles['text'])"
   ],
   "metadata": {
    "collapsed": false,
    "pycharm": {
     "name": "#%%\n"
    }
   }
  },
  {
   "cell_type": "markdown",
   "source": [
    "# How many clusters?\n",
    "Since this are just random wikipedia articles, I can't manually estimate the number of clusters, so let's use an algorithm for this.\n",
    "We've seen following during the lecture: After the optimal number of clusters is reached, the SSE will\n",
    "still decrease, but the decrease will be less outspoken.\n",
    "## Using K-Means"
   ],
   "metadata": {
    "collapsed": false,
    "pycharm": {
     "name": "#%% md\n"
    }
   }
  },
  {
   "cell_type": "code",
   "execution_count": 3,
   "outputs": [],
   "source": [
    "import numpy as np\n",
    "\n",
    "def calculate_sse(cluster_centers, X):\n",
    "    # Based on code from here: https://towardsdatascience.com/bisecting-k-means-algorithm-clustering-in-machine-learning-1bd32be71c1c\n",
    "    cluster_centers = kmeans.cluster_centers_\n",
    "    sse = 0\n",
    "    for point, label in zip(X, kmeans.labels_):\n",
    "        sse += np.square(point-cluster_centers[label]).sum()\n",
    "    return sse"
   ],
   "metadata": {
    "collapsed": false,
    "pycharm": {
     "name": "#%%\n"
    }
   }
  },
  {
   "cell_type": "code",
   "execution_count": 6,
   "outputs": [
    {
     "name": "stdout",
     "output_type": "stream",
     "text": [
      "For k = 2, the SSE is 2073.077401112965\n",
      "For k = 3, the SSE is 2064.049319680482\n",
      "For k = 4, the SSE is 2056.1938371764527\n",
      "For k = 5, the SSE is 2050.4017907728617\n",
      "For k = 6, the SSE is 2042.195679623588\n",
      "For k = 7, the SSE is 2034.8565961313768\n",
      "For k = 8, the SSE is 2029.043015237322\n",
      "For k = 9, the SSE is 2023.3987748624936\n",
      "For k = 10, the SSE is 2019.8676094757943\n",
      "For k = 11, the SSE is 2014.7568266108976\n",
      "For k = 12, the SSE is 2013.3673480836128\n",
      "For k = 13, the SSE is 2007.614577914361\n",
      "For k = 14, the SSE is 2002.9159370684556\n",
      "For k = 15, the SSE is 2002.168350191205\n",
      "For k = 16, the SSE is 1996.5717506433825\n",
      "For k = 17, the SSE is 1992.0890692344644\n",
      "For k = 18, the SSE is 1992.0943515453814\n",
      "For k = 19, the SSE is 1987.8920911067546\n",
      "For k = 20, the SSE is 1985.7276620177222\n",
      "For k = 21, the SSE is 1982.2883305697064\n",
      "For k = 22, the SSE is 1979.5130748832873\n",
      "For k = 23, the SSE is 1977.6236533569358\n",
      "For k = 24, the SSE is 1975.841494850644\n",
      "For k = 25, the SSE is 1973.1741860206337\n",
      "For k = 26, the SSE is 1970.6425955208915\n",
      "For k = 27, the SSE is 1966.5497415012676\n",
      "For k = 28, the SSE is 1966.0108956749764\n",
      "For k = 29, the SSE is 1965.208765849645\n",
      "For k = 30, the SSE is 1961.1349869986357\n",
      "For k = 31, the SSE is 1958.8915262872188\n",
      "For k = 32, the SSE is 1958.0923878627716\n",
      "For k = 33, the SSE is 1958.1408806971747\n",
      "For k = 34, the SSE is 1955.1054541295434\n",
      "For k = 35, the SSE is 1952.290199485289\n",
      "For k = 36, the SSE is 1950.3511171506186\n",
      "For k = 37, the SSE is 1947.635077616749\n",
      "For k = 38, the SSE is 1942.83230272322\n",
      "For k = 39, the SSE is 1942.9622404039453\n",
      "For k = 40, the SSE is 1940.1807449893786\n",
      "For k = 41, the SSE is 1941.8135731158818\n",
      "For k = 42, the SSE is 1940.69537979153\n",
      "For k = 43, the SSE is 1935.4883625573887\n",
      "For k = 44, the SSE is 1934.215069545833\n",
      "For k = 45, the SSE is 1935.4888210831202\n",
      "For k = 46, the SSE is 1932.3461675311523\n",
      "For k = 47, the SSE is 1931.5636135256502\n",
      "For k = 48, the SSE is 1924.9142227953314\n",
      "For k = 49, the SSE is 1927.9280359568488\n",
      "For k = 50, the SSE is 1926.5854536988063\n"
     ]
    }
   ],
   "source": [
    "# Perform K-means for different numbers of clusters and plot the SSE\n",
    "from sklearn.cluster import KMeans\n",
    "from tqdm import tqdm\n",
    "import matplotlib.pyplot as plt\n",
    "\n",
    "MIN_CLUSTERS = 2\n",
    "MAX_CLUSTERS = 50\n",
    "#amount_of_clusters_to_try = MAX_CLUSTERS - MIN_CLUSTERS + 1\n",
    "sse_list = [] # List of tuples containing (number of clusters, SSE)\n",
    "\n",
    "\n",
    "for k in range(MIN_CLUSTERS, MAX_CLUSTERS+1):\n",
    "    kmeans = KMeans(n_clusters=k, random_state=0).fit(text_data)\n",
    "\n",
    "    # Evaluate the clustering performance\n",
    "    sse = calculate_sse(kmeans.cluster_centers_, text_data)\n",
    "    sse_list.append((k, sse))\n",
    "\n",
    "    print(f\"For k = {k}, the SSE is {sse}\")"
   ],
   "metadata": {
    "collapsed": false,
    "pycharm": {
     "name": "#%%\n"
    }
   }
  },
  {
   "cell_type": "code",
   "execution_count": 8,
   "outputs": [
    {
     "data": {
      "text/plain": "<Figure size 432x288 with 1 Axes>",
      "image/png": "[encoded data removed]"
     },
     "metadata": {
      "needs_background": "light"
     },
     "output_type": "display_data"
    }
   ],
   "source": [
    "# plot the SSE\n",
    "plt.plot([x[0] for x in sse_list], [x[1] for x in sse_list], '-o')\n",
    "plt.xlabel('Number of clusters')\n",
    "plt.ylabel('SSE')\n",
    "plt.savefig('cluster_count_sse.png')"
   ],
   "metadata": {
    "collapsed": false,
    "pycharm": {
     "name": "#%%\n"
    }
   }
  },
  {
   "cell_type": "markdown",
   "source": [
    "As you can see in the graph, the SSE keeps decreasing, but still hasn't reached a point where the decrease is significantly less outspoken (like the graph in the lecture). Because we already have some difference between sse's of less than 1, I don't think this point will still come, so I'll try another method to find the number of clusters.\n",
    "You can argue that there is a small change at the 9th element, but its so small, it's probably not the number we're searching for (unless we can't find a better number).\n",
    "## Using DBScan"
   ],
   "metadata": {
    "collapsed": false,
    "pycharm": {
     "name": "#%% md\n"
    }
   }
  },
  {
   "cell_type": "code",
   "execution_count": 62,
   "outputs": [
    {
     "name": "stderr",
     "output_type": "stream",
     "text": [
      "100%|██████████| 14/14 [01:34<00:00,  6.77s/it]\n"
     ]
    },
    {
     "data": {
      "text/plain": "<Figure size 987.429x288 with 1 Axes>",
      "image/png": "[encoded data removed]"
     },
     "metadata": {
      "needs_background": "light"
     },
     "output_type": "display_data"
    }
   ],
   "source": [
    "from sklearn.cluster import DBSCAN\n",
    "import numpy as np\n",
    "from tqdm import tqdm\n",
    "\n",
    "eps_range = np.arange(0.8, 1.5, 0.05)\n",
    "min_samples_range = np.arange(2, 50, 1)\n",
    "m = np.zeros((len(eps_range), len(min_samples_range)))\n",
    "\n",
    "for eps_idx, eps in enumerate(tqdm(eps_range)):\n",
    "    for min_samples_idx, min_samples in enumerate(min_samples_range):\n",
    "        dbscan = DBSCAN(eps=eps, min_samples=min_samples).fit(text_data)\n",
    "        no_clusters = len(set(dbscan.labels_))\n",
    "        m[eps_idx][min_samples_idx] = no_clusters\n",
    "\n",
    "plt.matshow(m, cmap=plt.get_cmap('gray'))\n",
    "plt.xlabel('min_samples')\n",
    "plt.ylabel('eps')\n",
    "plt.show()"
   ],
   "metadata": {
    "collapsed": false,
    "pycharm": {
     "name": "#%%\n"
    }
   }
  },
  {
   "cell_type": "markdown",
   "source": [
    "Note that the indices along the axis are still wrong. The y-axis should range from 0.8 to 1.5, and the x-axis should range from 2 to 12. We get the most clusters with eps 1.2 and of course the lower the minimum samples, the higher the number of clusters."
   ],
   "metadata": {
    "collapsed": false,
    "pycharm": {
     "name": "#%% md\n"
    }
   }
  },
  {
   "cell_type": "code",
   "execution_count": 51,
   "outputs": [
    {
     "name": "stderr",
     "output_type": "stream",
     "text": [
      "100%|██████████| 48/48 [00:05<00:00,  8.07it/s]\n"
     ]
    },
    {
     "data": {
      "text/plain": "Text(0, 0.5, 'Number of clusters')"
     },
     "execution_count": 50,
     "metadata": {},
     "output_type": "execute_result"
    },
    {
     "data": {
      "text/plain": "<Figure size 432x288 with 1 Axes>",
      "image/png": "[encoded data removed]"
     },
     "metadata": {
      "needs_background": "light"
     },
     "output_type": "display_data"
    },
    {
     "name": "stderr",
     "output_type": "stream",
     "text": [
      "100%|██████████| 48/48 [00:05<00:00,  8.16it/s]\n"
     ]
    },
    {
     "data": {
      "text/plain": "Text(0, 0.5, 'Number of clusters')"
     },
     "execution_count": 51,
     "metadata": {},
     "output_type": "execute_result"
    },
    {
     "data": {
      "text/plain": "<Figure size 432x288 with 1 Axes>",
      "image/png": "[encoded data removed]"
     },
     "metadata": {
      "needs_background": "light"
     },
     "output_type": "display_data"
    }
   ],
   "source": [
    "# Keep eps fixed now and create a plot of the number of clusters for different min_samples\n",
    "min_samples_range = np.arange(2, 50, 1)\n",
    "min_samples_list = []\n",
    "no_clusters_list = []\n",
    "for min_sample in tqdm(min_samples_range):\n",
    "    dbscan = DBSCAN(eps=1.2, min_samples=min_sample).fit(text_data)\n",
    "    no_clusters = len(set(dbscan.labels_))\n",
    "\n",
    "    min_samples_list.append(min_sample)\n",
    "    no_clusters_list.append(no_clusters)\n",
    "\n",
    "plt.plot(min_samples_list, no_clusters_list, '-o')\n",
    "plt.xlabel('Minimum samples')\n",
    "plt.ylabel('Number of clusters')"
   ],
   "metadata": {
    "collapsed": false,
    "pycharm": {
     "name": "#%%\n"
    }
   }
  },
  {
   "cell_type": "markdown",
   "source": [
    "The number of clusters is heading quite fast to one large cluster, so also not really useful to determine the number of clusters."
   ],
   "metadata": {
    "collapsed": false,
    "pycharm": {
     "name": "#%% md\n"
    }
   }
  },
  {
   "cell_type": "code",
   "execution_count": 60,
   "outputs": [
    {
     "name": "stdout",
     "output_type": "stream",
     "text": [
      "An estimated number of clusters is 10\n"
     ]
    }
   ],
   "source": [
    "dbscan = DBSCAN(eps=1.2, min_samples=10).fit(text_data)\n",
    "no_clusters = len(set(dbscan.labels_))\n",
    "print(f\"An estimated number of clusters is {no_clusters}\")"
   ],
   "metadata": {
    "collapsed": false,
    "pycharm": {
     "name": "#%%\n"
    }
   }
  },
  {
   "cell_type": "code",
   "execution_count": 69,
   "outputs": [
    {
     "name": "stdout",
     "output_type": "stream",
     "text": [
      "For eps = 1.1, the number of clusters is 1\n",
      "For eps = 1.105, the number of clusters is 1\n",
      "For eps = 1.1099999999999999, the number of clusters is 1\n",
      "For eps = 1.1149999999999998, the number of clusters is 1\n",
      "For eps = 1.1199999999999997, the number of clusters is 1\n",
      "For eps = 1.1249999999999996, the number of clusters is 1\n",
      "For eps = 1.1299999999999994, the number of clusters is 1\n",
      "For eps = 1.1349999999999993, the number of clusters is 1\n",
      "For eps = 1.1399999999999992, the number of clusters is 1\n",
      "For eps = 1.1449999999999991, the number of clusters is 1\n",
      "For eps = 1.149999999999999, the number of clusters is 1\n",
      "For eps = 1.154999999999999, the number of clusters is 1\n",
      "For eps = 1.1599999999999988, the number of clusters is 1\n",
      "For eps = 1.1649999999999987, the number of clusters is 1\n",
      "For eps = 1.1699999999999986, the number of clusters is 1\n",
      "For eps = 1.1749999999999985, the number of clusters is 1\n",
      "For eps = 1.1799999999999984, the number of clusters is 1\n",
      "For eps = 1.1849999999999983, the number of clusters is 1\n",
      "For eps = 1.1899999999999982, the number of clusters is 1\n",
      "For eps = 1.194999999999998, the number of clusters is 1\n",
      "For eps = 1.199999999999998, the number of clusters is 1\n",
      "For eps = 1.2049999999999979, the number of clusters is 1\n",
      "For eps = 1.2099999999999977, the number of clusters is 1\n",
      "For eps = 1.2149999999999976, the number of clusters is 1\n",
      "For eps = 1.2199999999999975, the number of clusters is 1\n",
      "For eps = 1.2249999999999974, the number of clusters is 1\n",
      "For eps = 1.2299999999999973, the number of clusters is 1\n",
      "For eps = 1.2349999999999972, the number of clusters is 1\n",
      "For eps = 1.239999999999997, the number of clusters is 1\n",
      "For eps = 1.244999999999997, the number of clusters is 1\n",
      "For eps = 1.249999999999997, the number of clusters is 2\n",
      "For eps = 1.2549999999999968, the number of clusters is 3\n",
      "For eps = 1.2599999999999967, the number of clusters is 3\n",
      "For eps = 1.2649999999999966, the number of clusters is 4\n",
      "For eps = 1.2699999999999965, the number of clusters is 4\n",
      "For eps = 1.2749999999999964, the number of clusters is 5\n",
      "For eps = 1.2799999999999963, the number of clusters is 5\n",
      "For eps = 1.2849999999999961, the number of clusters is 5\n",
      "For eps = 1.289999999999996, the number of clusters is 5\n",
      "For eps = 1.294999999999996, the number of clusters is 6\n",
      "For eps = 1.2999999999999958, the number of clusters is 7\n",
      "For eps = 1.3049999999999957, the number of clusters is 7\n",
      "For eps = 1.3099999999999956, the number of clusters is 7\n",
      "For eps = 1.3149999999999955, the number of clusters is 4\n",
      "For eps = 1.3199999999999954, the number of clusters is 4\n",
      "For eps = 1.3249999999999953, the number of clusters is 4\n",
      "For eps = 1.3299999999999952, the number of clusters is 3\n",
      "For eps = 1.334999999999995, the number of clusters is 4\n",
      "For eps = 1.339999999999995, the number of clusters is 2\n",
      "For eps = 1.3449999999999949, the number of clusters is 2\n",
      "For eps = 1.3499999999999948, the number of clusters is 2\n",
      "For eps = 1.3549999999999947, the number of clusters is 2\n",
      "For eps = 1.3599999999999945, the number of clusters is 2\n",
      "For eps = 1.3649999999999944, the number of clusters is 2\n",
      "For eps = 1.3699999999999943, the number of clusters is 2\n",
      "For eps = 1.3749999999999942, the number of clusters is 2\n",
      "For eps = 1.3799999999999941, the number of clusters is 2\n",
      "For eps = 1.384999999999994, the number of clusters is 1\n",
      "For eps = 1.389999999999994, the number of clusters is 1\n",
      "For eps = 1.3949999999999938, the number of clusters is 1\n",
      "For eps = 1.3999999999999937, the number of clusters is 1\n",
      "For eps = 1.4049999999999936, the number of clusters is 1\n",
      "For eps = 1.4099999999999935, the number of clusters is 1\n",
      "For eps = 1.4149999999999934, the number of clusters is 1\n",
      "For eps = 1.4199999999999933, the number of clusters is 1\n",
      "For eps = 1.4249999999999932, the number of clusters is 1\n",
      "For eps = 1.429999999999993, the number of clusters is 1\n",
      "For eps = 1.434999999999993, the number of clusters is 1\n",
      "For eps = 1.4399999999999928, the number of clusters is 1\n",
      "For eps = 1.4449999999999927, the number of clusters is 1\n",
      "For eps = 1.4499999999999926, the number of clusters is 1\n",
      "For eps = 1.4549999999999925, the number of clusters is 1\n",
      "For eps = 1.4599999999999924, the number of clusters is 1\n",
      "For eps = 1.4649999999999923, the number of clusters is 1\n",
      "For eps = 1.4699999999999922, the number of clusters is 1\n",
      "For eps = 1.474999999999992, the number of clusters is 1\n",
      "For eps = 1.479999999999992, the number of clusters is 1\n",
      "For eps = 1.4849999999999919, the number of clusters is 1\n",
      "For eps = 1.4899999999999918, the number of clusters is 1\n",
      "For eps = 1.4949999999999917, the number of clusters is 1\n"
     ]
    }
   ],
   "source": [
    "eps_range = np.arange(1.1, 1.5, 0.005)\n",
    "for eps in eps_range:\n",
    "    dbscan = DBSCAN(eps=eps, min_samples=40).fit(text_data)\n",
    "    no_clusters = len(set(dbscan.labels_))\n",
    "    print(f\"For eps = {eps}, the number of clusters is {no_clusters}\")"
   ],
   "metadata": {
    "collapsed": false,
    "pycharm": {
     "name": "#%%\n"
    }
   }
  },
  {
   "cell_type": "markdown",
   "source": [
    "The most number of clusters is for eps = 1.305, so I'll use that. Let's now take a look at how the elements are distributed along the cluster."
   ],
   "metadata": {
    "collapsed": false,
    "pycharm": {
     "name": "#%% md\n"
    }
   }
  },
  {
   "cell_type": "code",
   "execution_count": 74,
   "outputs": [
    {
     "name": "stdout",
     "output_type": "stream",
     "text": [
      "For cluster -1, there are 1631 elements\n",
      "For cluster 0, there are 124 elements\n",
      "For cluster 1, there are 100 elements\n",
      "For cluster 2, there are 102 elements\n",
      "For cluster 3, there are 59 elements\n",
      "For cluster 4, there are 44 elements\n",
      "For cluster 5, there are 40 elements\n"
     ]
    }
   ],
   "source": [
    "dbscan = DBSCAN(eps=1.305, min_samples=40).fit(text_data)\n",
    "unique_elements, counts_elements = np.unique(dbscan.labels_, return_counts=True)\n",
    "for unique_element, count_element in zip(unique_elements, counts_elements):\n",
    "    print(f\"For cluster {unique_element}, there are {count_element} elements\")"
   ],
   "metadata": {
    "collapsed": false,
    "pycharm": {
     "name": "#%%\n"
    }
   }
  },
  {
   "cell_type": "markdown",
   "source": [
    "Almost everything is in one cluster, so this is also not a great solution.\n",
    "## Conclusion\n",
    "There isn't a clear number of clusters, but 9 gave some slight changes in both of our test methods, so let's try to make some clusters based on this.\n",
    "\n",
    "# K-means\n",
    "K-means has problems when clusters are of different size, density or have non-globular shapes.\n",
    "K-means also has problems when the data contains outliers (use median instead of mean).\n",
    "## K-means"
   ],
   "metadata": {
    "collapsed": false,
    "pycharm": {
     "name": "#%% md\n"
    }
   }
  },
  {
   "cell_type": "code",
   "execution_count": null,
   "metadata": {
    "collapsed": true,
    "pycharm": {
     "name": "#%%\n"
    }
   },
   "outputs": [],
   "source": [
    "from sklearn.cluster import KMeans\n",
    "kmeans = KMeans(n_clusters=5, random_state=0)\n",
    "kmeans.fit(text_data)"
   ]
  },
  {
   "cell_type": "markdown",
   "source": [
    "## Bisecting K-meanst\n",
    "This code is copied from [here]()."
   ],
   "metadata": {
    "collapsed": false,
    "pycharm": {
     "name": "#%% md\n"
    }
   }
  },
  {
   "cell_type": "code",
   "execution_count": null,
   "outputs": [],
   "source": [
    "from sklearn.cluster import KMeans\n",
    "import numpy as np\n",
    "\n",
    "K = 5\n",
    "current_clusters = 1\n",
    "X = text_data\n",
    "while current_clusters != K:\n",
    "    kmeans = KMeans(n_clusters=2).fit(text_data)\n",
    "    current_clusters += 1\n",
    "    cluster_centers = kmeans.cluster_centers_\n",
    "    sse = [0]*2\n",
    "    for point, label in zip(X, kmeans.labels_):\n",
    "        sse[label] += np.square(point-cluster_centers[label]).sum()\n",
    "    chosen_cluster = np.argmax(sse, axis=0)\n",
    "    chosen_cluster_data = X[kmeans.labels_ == chosen_cluster]\n",
    "    X = chosen_cluster_data"
   ],
   "metadata": {
    "collapsed": false,
    "pycharm": {
     "name": "#%%\n"
    }
   }
  },
  {
   "cell_type": "markdown",
   "source": [
    "# Write to file"
   ],
   "metadata": {
    "collapsed": false,
    "pycharm": {
     "name": "#%% md\n"
    }
   }
  },
  {
   "cell_type": "code",
   "execution_count": null,
   "outputs": [],
   "source": [
    "model = dbscan\n",
    "\n",
    "titles = articles.title.values\n",
    "labels = model.fit_predict(text_data)\n",
    "\n",
    "assert len(titles) == len(labels)\n",
    "\n",
    "file = open(\"clusters.tsv\", \"w+\")\n",
    "for title, label in zip(titles, labels):\n",
    "    file.write(f\"{title}\\t{label}\\n\")\n",
    "file.close()"
   ],
   "metadata": {
    "collapsed": false,
    "pycharm": {
     "name": "#%%\n"
    }
   }
  }
 ],
 "metadata": {
  "kernelspec": {
   "display_name": "Python 3",
   "language": "python",
   "name": "python3"
  },
  "language_info": {
   "codemirror_mode": {
    "name": "ipython",
    "version": 2
   },
   "file_extension": ".py",
   "mimetype": "text/x-python",
   "name": "python",
   "nbconvert_exporter": "python",
   "pygments_lexer": "ipython2",
   "version": "2.7.6"
  }
 },
 "nbformat": 4,
 "nbformat_minor": 0
}