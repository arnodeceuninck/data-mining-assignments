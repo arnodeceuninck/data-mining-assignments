{
 "cells": [
  {
   "cell_type": "markdown",
   "source": [
    "# Assignment 4: Recommenders"
   ],
   "metadata": {
    "collapsed": false,
    "pycharm": {
     "name": "#%% md\n"
    }
   }
  },
  {
   "cell_type": "code",
   "execution_count": 52,
   "outputs": [
    {
     "data": {
      "text/plain": "                  event_time        event_type  product_id  \\\n0  2019-12-01 02:33:18+00:00              view     5649270   \n1  2019-12-01 02:34:27+00:00              view     5844146   \n2  2019-12-01 02:34:55+00:00              cart     5844146   \n3  2019-12-01 02:35:10+00:00              cart     5844146   \n4  2019-12-01 02:35:15+00:00  remove_from_cart     5844146   \n\n           category_id category_code    brand  price    user_id  \\\n0  1487580013749338323           NaN  concept   6.19  580009457   \n1  1783999067156644376           NaN      NaN   8.06  580009457   \n2  1783999067156644376           NaN      NaN   8.06  580009457   \n3  1783999067156644376           NaN      NaN   8.06  580009457   \n4  1783999067156644376           NaN      NaN   8.06  580009457   \n\n                           user_session  \n0  aab91835-f131-4f1d-8ffd-6738e703ead3  \n1  aab91835-f131-4f1d-8ffd-6738e703ead3  \n2  aab91835-f131-4f1d-8ffd-6738e703ead3  \n3  aab91835-f131-4f1d-8ffd-6738e703ead3  \n4  aab91835-f131-4f1d-8ffd-6738e703ead3  ",
      "text/html": "<div>\n<style scoped>\n    .dataframe tbody tr th:only-of-type {\n        vertical-align: middle;\n    }\n\n    .dataframe tbody tr th {\n        vertical-align: top;\n    }\n\n    .dataframe thead th {\n        text-align: right;\n    }\n</style>\n<table border=\"1\" class=\"dataframe\">\n  <thead>\n    <tr style=\"text-align: right;\">\n      <th></th>\n      <th>event_time</th>\n      <th>event_type</th>\n      <th>product_id</th>\n      <th>category_id</th>\n      <th>category_code</th>\n      <th>brand</th>\n      <th>price</th>\n      <th>user_id</th>\n      <th>user_session</th>\n    </tr>\n  </thead>\n  <tbody>\n    <tr>\n      <th>0</th>\n      <td>2019-12-01 02:33:18+00:00</td>\n      <td>view</td>\n      <td>5649270</td>\n      <td>1487580013749338323</td>\n      <td>NaN</td>\n      <td>concept</td>\n      <td>6.19</td>\n      <td>580009457</td>\n      <td>aab91835-f131-4f1d-8ffd-6738e703ead3</td>\n    </tr>\n    <tr>\n      <th>1</th>\n      <td>2019-12-01 02:34:27+00:00</td>\n      <td>view</td>\n      <td>5844146</td>\n      <td>1783999067156644376</td>\n      <td>NaN</td>\n      <td>NaN</td>\n      <td>8.06</td>\n      <td>580009457</td>\n      <td>aab91835-f131-4f1d-8ffd-6738e703ead3</td>\n    </tr>\n    <tr>\n      <th>2</th>\n      <td>2019-12-01 02:34:55+00:00</td>\n      <td>cart</td>\n      <td>5844146</td>\n      <td>1783999067156644376</td>\n      <td>NaN</td>\n      <td>NaN</td>\n      <td>8.06</td>\n      <td>580009457</td>\n      <td>aab91835-f131-4f1d-8ffd-6738e703ead3</td>\n    </tr>\n    <tr>\n      <th>3</th>\n      <td>2019-12-01 02:35:10+00:00</td>\n      <td>cart</td>\n      <td>5844146</td>\n      <td>1783999067156644376</td>\n      <td>NaN</td>\n      <td>NaN</td>\n      <td>8.06</td>\n      <td>580009457</td>\n      <td>aab91835-f131-4f1d-8ffd-6738e703ead3</td>\n    </tr>\n    <tr>\n      <th>4</th>\n      <td>2019-12-01 02:35:15+00:00</td>\n      <td>remove_from_cart</td>\n      <td>5844146</td>\n      <td>1783999067156644376</td>\n      <td>NaN</td>\n      <td>NaN</td>\n      <td>8.06</td>\n      <td>580009457</td>\n      <td>aab91835-f131-4f1d-8ffd-6738e703ead3</td>\n    </tr>\n  </tbody>\n</table>\n</div>"
     },
     "execution_count": 52,
     "metadata": {},
     "output_type": "execute_result"
    }
   ],
   "source": [
    "import pandas as pd\n",
    "\n",
    "# Load the datasets as pandas DataFrames\n",
    "dataset = pd.read_csv(\"dataset.csv\")\n",
    "test = pd.read_csv(\"recommend.csv\")\n",
    "\n",
    "N_RECOMMENDATIONS = 10\n",
    "\n",
    "dataset.head()"
   ],
   "metadata": {
    "collapsed": false,
    "pycharm": {
     "name": "#%%\n"
    }
   }
  },
  {
   "cell_type": "code",
   "execution_count": 53,
   "outputs": [],
   "source": [
    "# Leave one purchased item out per user for predicting the hitrate\n",
    "purchased_products = dataset[dataset.event_type == \"purchase\"]\n",
    "leftouts = purchased_products.sample(frac=1.0).groupby('user_id').head(1)\n",
    "leftouts.head()\n",
    "# Get index of the leftout items\n",
    "leftout_index = leftouts.index.values\n",
    "# Drop the leftout items from the dataset\n",
    "train_data = dataset.drop(leftout_index)\n",
    "test_data = leftouts"
   ],
   "metadata": {
    "collapsed": false,
    "pycharm": {
     "name": "#%%\n"
    }
   }
  },
  {
   "cell_type": "markdown",
   "source": [
    "# Same recommendations for each user\n",
    "For this, we'll just use popularity on the purchased products"
   ],
   "metadata": {
    "collapsed": false,
    "pycharm": {
     "name": "#%% md\n"
    }
   }
  },
  {
   "cell_type": "code",
   "execution_count": 54,
   "outputs": [],
   "source": [
    "def get_top_n_purchases(data, n, include_popular_product_df=False):\n",
    "    # Filter only purchased products (event_type is purchased)\n",
    "    purchased_products = data[data.event_type == \"purchase\"]\n",
    "\n",
    "    # Get the 10 most popular purchased product_ids from those purchased products\n",
    "    popular_products = purchased_products.groupby('product_id')['product_id'].count().reset_index(\n",
    "        name=\"count\").sort_values(ascending=False, by=\"count\")\n",
    "\n",
    "    total_bought = len(purchased_products)\n",
    "    popular_products[\"percentage\"] = popular_products[\"count\"] / total_bought\n",
    "\n",
    "    if include_popular_product_df:\n",
    "        return popular_products[:n], popular_products\n",
    "\n",
    "    return popular_products[:n]\n"
   ],
   "metadata": {
    "collapsed": false,
    "pycharm": {
     "name": "#%%\n"
    }
   }
  },
  {
   "cell_type": "code",
   "execution_count": 21,
   "outputs": [
    {
     "data": {
      "text/plain": "      product_id  count\n3951     5809910    239\n3341     5790689    172\n927      5649236    146\n1209     5677043    146\n3337     5790563    108\n1593     5692527    101\n2578     5759492     97\n254        19162     96\n2649     5764716     90\n2405     5751383     87",
      "text/html": "<div>\n<style scoped>\n    .dataframe tbody tr th:only-of-type {\n        vertical-align: middle;\n    }\n\n    .dataframe tbody tr th {\n        vertical-align: top;\n    }\n\n    .dataframe thead th {\n        text-align: right;\n    }\n</style>\n<table border=\"1\" class=\"dataframe\">\n  <thead>\n    <tr style=\"text-align: right;\">\n      <th></th>\n      <th>product_id</th>\n      <th>count</th>\n    </tr>\n  </thead>\n  <tbody>\n    <tr>\n      <th>3951</th>\n      <td>5809910</td>\n      <td>239</td>\n    </tr>\n    <tr>\n      <th>3341</th>\n      <td>5790689</td>\n      <td>172</td>\n    </tr>\n    <tr>\n      <th>927</th>\n      <td>5649236</td>\n      <td>146</td>\n    </tr>\n    <tr>\n      <th>1209</th>\n      <td>5677043</td>\n      <td>146</td>\n    </tr>\n    <tr>\n      <th>3337</th>\n      <td>5790563</td>\n      <td>108</td>\n    </tr>\n    <tr>\n      <th>1593</th>\n      <td>5692527</td>\n      <td>101</td>\n    </tr>\n    <tr>\n      <th>2578</th>\n      <td>5759492</td>\n      <td>97</td>\n    </tr>\n    <tr>\n      <th>254</th>\n      <td>19162</td>\n      <td>96</td>\n    </tr>\n    <tr>\n      <th>2649</th>\n      <td>5764716</td>\n      <td>90</td>\n    </tr>\n    <tr>\n      <th>2405</th>\n      <td>5751383</td>\n      <td>87</td>\n    </tr>\n  </tbody>\n</table>\n</div>"
     },
     "execution_count": 21,
     "metadata": {},
     "output_type": "execute_result"
    }
   ],
   "source": [
    "top10 = get_top_n_purchases(dataset, N_RECOMMENDATIONS)\n",
    "top10[\"product_id\"].to_csv(\"baseline.csv\", index=False, header=True)\n",
    "top10"
   ],
   "metadata": {
    "collapsed": false,
    "pycharm": {
     "name": "#%%# Get the 10 most popular product_ids from dataset\n"
    }
   }
  },
  {
   "cell_type": "code",
   "execution_count": 25,
   "outputs": [
    {
     "name": "stdout",
     "output_type": "stream",
     "text": [
      "5.07% (=1282/25287) of the purchased items are in the top 10 most popular purchased items\n"
     ]
    }
   ],
   "source": [
    "# Get the sum of the count column in top10\n",
    "top10_times_bought = sum(top10[\"count\"])\n",
    "# Total numbers of items bought (number of rows in purchsed products)\n",
    "total_bought = len(dataset[dataset.event_type == \"purchase\"])\n",
    "# Percentage of purchased items that are in the top10 popular purchased items\n",
    "percentage_top10 = top10_times_bought / total_bought\n",
    "print(\n",
    "    f\"{percentage_top10 * 100:.2f}% (={top10_times_bought}/{total_bought}) of the purchased items are in the top {N_RECOMMENDATIONS} most popular purchased items\")"
   ],
   "metadata": {
    "collapsed": false,
    "pycharm": {
     "name": "#%%\n"
    }
   }
  },
  {
   "cell_type": "markdown",
   "source": [
    "It is possible that 0% of the new bought items are in this top 10, but it's also possible 100% of those items are, but that's probably an unreasnable upper and lower limit.\n"
   ],
   "metadata": {
    "collapsed": false,
    "pycharm": {
     "name": "#%% md\n"
    }
   }
  },
  {
   "cell_type": "code",
   "execution_count": 31,
   "outputs": [
    {
     "data": {
      "text/plain": "      product_id  count  percentage\n5551     5846758      1    0.000040\n5630     5848084      2    0.000079\n7709     5884578      9    0.000356\n3777     5806151      1    0.000040\n5207     5840289      1    0.000040\n7296     5875763      1    0.000040\n7716     5885136      3    0.000119\n3947     5809895      1    0.000040\n512      5549798      1    0.000040\n5465     5844907      3    0.000119",
      "text/html": "<div>\n<style scoped>\n    .dataframe tbody tr th:only-of-type {\n        vertical-align: middle;\n    }\n\n    .dataframe tbody tr th {\n        vertical-align: top;\n    }\n\n    .dataframe thead th {\n        text-align: right;\n    }\n</style>\n<table border=\"1\" class=\"dataframe\">\n  <thead>\n    <tr style=\"text-align: right;\">\n      <th></th>\n      <th>product_id</th>\n      <th>count</th>\n      <th>percentage</th>\n    </tr>\n  </thead>\n  <tbody>\n    <tr>\n      <th>5551</th>\n      <td>5846758</td>\n      <td>1</td>\n      <td>0.000040</td>\n    </tr>\n    <tr>\n      <th>5630</th>\n      <td>5848084</td>\n      <td>2</td>\n      <td>0.000079</td>\n    </tr>\n    <tr>\n      <th>7709</th>\n      <td>5884578</td>\n      <td>9</td>\n      <td>0.000356</td>\n    </tr>\n    <tr>\n      <th>3777</th>\n      <td>5806151</td>\n      <td>1</td>\n      <td>0.000040</td>\n    </tr>\n    <tr>\n      <th>5207</th>\n      <td>5840289</td>\n      <td>1</td>\n      <td>0.000040</td>\n    </tr>\n    <tr>\n      <th>7296</th>\n      <td>5875763</td>\n      <td>1</td>\n      <td>0.000040</td>\n    </tr>\n    <tr>\n      <th>7716</th>\n      <td>5885136</td>\n      <td>3</td>\n      <td>0.000119</td>\n    </tr>\n    <tr>\n      <th>3947</th>\n      <td>5809895</td>\n      <td>1</td>\n      <td>0.000040</td>\n    </tr>\n    <tr>\n      <th>512</th>\n      <td>5549798</td>\n      <td>1</td>\n      <td>0.000040</td>\n    </tr>\n    <tr>\n      <th>5465</th>\n      <td>5844907</td>\n      <td>3</td>\n      <td>0.000119</td>\n    </tr>\n  </tbody>\n</table>\n</div>"
     },
     "execution_count": 31,
     "metadata": {},
     "output_type": "execute_result"
    }
   ],
   "source": [
    "purchased_products = dataset[dataset.event_type == \"purchase\"]\n",
    "popular_products = purchased_products.groupby('product_id')['product_id'].count().reset_index(name=\"count\").sort_values(\n",
    "    ascending=False, by=\"count\")\n",
    "\n",
    "# Add column to popular_items with the percentage of times each product was bought\n",
    "popular_products[\"percentage\"] = popular_products[\"count\"] / total_bought\n",
    "popular_products.sample(10)"
   ],
   "metadata": {
    "collapsed": false,
    "pycharm": {
     "name": "#%%\n"
    }
   }
  },
  {
   "cell_type": "code",
   "execution_count": 52,
   "outputs": [
    {
     "data": {
      "text/plain": "<Figure size 720x360 with 1 Axes>",
      "image/png": "[encoded data removed]"
     },
     "metadata": {
      "needs_background": "light"
     },
     "output_type": "display_data"
    }
   ],
   "source": [
    "import matplotlib.pyplot as plt\n",
    "\n",
    "\n",
    "def plot_popular_products(popular_products):\n",
    "    # Plot popular_products with the discrete products on x axis and count on y axis\n",
    "    plt.figure(figsize=(10, 5))\n",
    "    plt.plot(range(len(popular_products)), popular_products[\"count\"])\n",
    "    plt.bar(x=range(len(popular_products)), height=popular_products[\"count\"])\n",
    "    plt.xlabel(\"Product\")\n",
    "    plt.ylabel(\"Count\")\n",
    "    plt.title(\"Number of purchases per product\")\n",
    "    plt.show()\n",
    "\n",
    "\n",
    "plot_popular_products(popular_products)"
   ],
   "metadata": {
    "collapsed": false,
    "pycharm": {
     "name": "#%%\n"
    }
   }
  },
  {
   "cell_type": "markdown",
   "source": [
    "> For  this  baseline  recommender,  how  often  do  you  expect  someone  to  buy  the  item  you’ve recommended, can you give a reasonable upper or lower limit?\n",
    "\n",
    "Given the chance (5.07%) that an item is bought, you would expect only one person to buy it for every 20 persons it get's recommended to. No idea how to give an upper or lower limit for this."
   ],
   "metadata": {
    "collapsed": false,
    "pycharm": {
     "name": "#%% md\n"
    }
   }
  },
  {
   "cell_type": "code",
   "execution_count": null,
   "outputs": [],
   "source": [],
   "metadata": {
    "collapsed": false,
    "pycharm": {
     "name": "#%%\n"
    }
   }
  },
  {
   "cell_type": "markdown",
   "source": [
    "# Recommendations based on association rules\n"
   ],
   "metadata": {
    "collapsed": false,
    "pycharm": {
     "name": "#%% md\n"
    }
   }
  },
  {
   "cell_type": "code",
   "execution_count": 55,
   "outputs": [
    {
     "name": "stderr",
     "output_type": "stream",
     "text": [
      "Making tid list: 100%|██████████| 13137/13137 [00:00<00:00, 101838.00it/s]\n",
      "Filtering min support: 100%|██████████| 25193/25193 [00:00<00:00, 2798164.89it/s]\n"
     ]
    },
    {
     "name": "stdout",
     "output_type": "stream",
     "text": [
      "Mining frequent itemsets of length 2\n"
     ]
    },
    {
     "name": "stderr",
     "output_type": "stream",
     "text": [
      "100%|██████████| 29111420/29111420 [00:29<00:00, 976040.52it/s] \n"
     ]
    },
    {
     "name": "stdout",
     "output_type": "stream",
     "text": [
      "Mining frequent itemsets of length 3\n"
     ]
    },
    {
     "name": "stderr",
     "output_type": "stream",
     "text": [
      "100%|██████████| 14810952/14810952 [00:10<00:00, 1368467.04it/s]\n"
     ]
    },
    {
     "name": "stdout",
     "output_type": "stream",
     "text": [
      "Mining frequent itemsets of length 4\n"
     ]
    },
    {
     "name": "stderr",
     "output_type": "stream",
     "text": [
      "100%|██████████| 1886502/1886502 [00:01<00:00, 1277254.81it/s]\n"
     ]
    },
    {
     "name": "stdout",
     "output_type": "stream",
     "text": [
      "Mining frequent itemsets of length 5\n"
     ]
    },
    {
     "name": "stderr",
     "output_type": "stream",
     "text": [
      "100%|██████████| 92720/92720 [00:00<00:00, 1065704.63it/s]\n"
     ]
    },
    {
     "name": "stdout",
     "output_type": "stream",
     "text": [
      "Mining frequent itemsets of length 6\n"
     ]
    },
    {
     "name": "stderr",
     "output_type": "stream",
     "text": [
      "100%|██████████| 2070/2070 [00:00<00:00, 1033965.62it/s]\n"
     ]
    },
    {
     "name": "stdout",
     "output_type": "stream",
     "text": [
      "Mining frequent itemsets of length 7\n"
     ]
    },
    {
     "name": "stderr",
     "output_type": "stream",
     "text": [
      "100%|██████████| 2/2 [00:00<?, ?it/s]\n"
     ]
    },
    {
     "name": "stdout",
     "output_type": "stream",
     "text": [
      "{'cart5766390'} -> {'purchase5766379'} (0.14, 3)\n",
      "{'cart5766377'} -> {'purchase5766379'} (0.38, 5)\n",
      "{'purchase5766377'} -> {'purchase5766379'} (0.57, 4)\n",
      "{'cart5809910'} -> {'purchase5751383'} (0.02, 4)\n",
      "{'purchase5751383'} -> {'purchase5809910'} (0.07, 3)\n"
     ]
    }
   ],
   "source": [
    "from association_rules import get_association_rules\n",
    "\n",
    "# Reuse the association rules from assignment 4 (the ones that take views, cart, ... also in account on the left side of the association)\n",
    "association_rules = get_association_rules(train_data,\n",
    "                                          min_confidence=0.01)  # Chosen this confidence value, since  the most popular item is 1% of the total bought items, so this would probably be a better recommendation if the confidence is below this value\n",
    "\n",
    "# Note: Those rules are NOT ordered\n",
    "for rule in association_rules[:5]:\n",
    "    print(rule)"
   ],
   "metadata": {
    "collapsed": false,
    "pycharm": {
     "name": "#%%\n"
    }
   }
  },
  {
   "cell_type": "code",
   "execution_count": 56,
   "outputs": [],
   "source": [
    "from collections import defaultdict\n",
    "from tqdm import tqdm\n",
    "from association_rules import get_item_nr\n",
    "import math\n",
    "\n",
    "def update_recommendations_df(rule, recommendations_df, user_events):\n",
    "    left_side: frozenset = rule.x\n",
    "    right_side: frozenset = rule.y\n",
    "\n",
    "    # Get the intersection of the left side and the user's events\n",
    "    left_side_intersection = left_side.intersection(user_events)\n",
    "    intersection_match = len(left_side_intersection) / len(left_side)\n",
    "\n",
    "    if intersection_match == 0:\n",
    "        # No match on the left side, so association rules is not relevant\n",
    "        return recommendations_df\n",
    "\n",
    "    # Using my own custom formula to calculate the recommendation score\n",
    "    recommendation_score = rule.confidence * rule.sup * intersection_match\n",
    "\n",
    "    for product_event in right_side:\n",
    "        if product_event not in user_events:\n",
    "            # Add the recommendation to the dataframe\n",
    "            recommendations_df = recommendations_df.append(\n",
    "                {'product_event': product_event, 'recommendation_score': recommendation_score},\n",
    "                ignore_index=True)\n",
    "\n",
    "    return recommendations_df\n",
    "\n",
    "def get_user_recommendations(dataset, user_id, top10_list, association_rules):\n",
    "    # Get all the purchased products for this user\n",
    "    user_purchased_products = dataset[dataset.user_id == user_id]\n",
    "    # Get the product_ids of the purchased products\n",
    "    user_events = user_purchased_products.action_and_product_id.unique()\n",
    "    # print(user_events)\n",
    "\n",
    "    recommendations_df = pd.DataFrame(columns=['product_event', 'recommendation_score'])\n",
    "\n",
    "    # Iterate over the association rules\n",
    "    for rule in association_rules:\n",
    "        recommendations_df = update_recommendations_df(rule, recommendations_df, user_events)\n",
    "\n",
    "    # Sort the recommendations by recommendation score\n",
    "    # Drop all rows with a score of 0, since the association rules aren't relevant for that and it's better to just use the top 10\n",
    "    recommendations_df = recommendations_df.sort_values(by=['recommendation_score'], ascending=False)\\\n",
    "        .drop(recommendations_df[recommendations_df.recommendation_score == 0].index)\n",
    "\n",
    "    # print(recommendations_df.head(N_RECOMMENDATIONS))\n",
    "\n",
    "    recommendation_df_top = recommendations_df.product_event.unique()[:N_RECOMMENDATIONS]\n",
    "\n",
    "    association_rule_based_recommendations = list(get_item_nr(item) for item in recommendation_df_top)\n",
    "\n",
    "    items_missing = N_RECOMMENDATIONS - len(association_rule_based_recommendations)\n",
    "\n",
    "    if association_rule_based_recommendations:  # Since it's often empty, keep the empty case efficient\n",
    "        i = 0\n",
    "        while len(association_rule_based_recommendations) < N_RECOMMENDATIONS:\n",
    "            if top10_list[i] not in association_rule_based_recommendations:\n",
    "                association_rule_based_recommendations.append(top10_list[i])\n",
    "            i += 1\n",
    "    else:\n",
    "        # Add the top 10 products to the recommendations\n",
    "        association_rule_based_recommendations = top10_list\n",
    "\n",
    "    # popularity_based_recommendations = top10_list[:items_missing]\n",
    "    # recommendations_dict[user_id] = association_rule_based_recommendations + popularity_based_recommendations\n",
    "    return association_rule_based_recommendations, items_missing\n",
    "\n",
    "\n",
    "def get_recommendation_dict(dataset, n, association_rules, include_popularity_added_dict=False):\n",
    "    # Now generate recommendations based on the association rules\n",
    "    # Since we're working with combined event and product ids in the association rules, we also need them in the dataset\n",
    "    dataset[\"action_and_product_id\"] = dataset[\"event_type\"] + dataset[\"product_id\"].astype(str)\n",
    "\n",
    "    top10_list = list(get_top_n_purchases(dataset, n)[\"product_id\"])\n",
    "\n",
    "    recommendations_dict = dict()  # Maps user_id to a list of recommended product_ids\n",
    "    popularity_added_dict = defaultdict(int)\n",
    "\n",
    "    # Get a list of all unique user_ids\n",
    "    unique_user_ids = dataset.user_id.unique()\n",
    "    for user_id in tqdm(unique_user_ids):\n",
    "        recommendations, popularity_added = get_user_recommendations(dataset, user_id, top10_list, association_rules)\n",
    "        popularity_added_dict[user_id] += popularity_added\n",
    "        recommendations_dict[user_id] = recommendations\n",
    "\n",
    "    if include_popularity_added_dict:\n",
    "        return recommendations_dict, popularity_added_dict\n",
    "    else:\n",
    "        return recommendations_dict\n"
   ],
   "metadata": {
    "collapsed": false,
    "pycharm": {
     "name": "#%%\n"
    }
   }
  },
  {
   "cell_type": "code",
   "execution_count": 58,
   "outputs": [
    {
     "name": "stderr",
     "output_type": "stream",
     "text": [
      "100%|██████████| 13137/13137 [00:54<00:00, 239.64it/s]\n"
     ]
    }
   ],
   "source": [
    "recommendations_dict, popularity_added_dict = get_recommendation_dict(train_data, N_RECOMMENDATIONS, association_rules, include_popularity_added_dict=True)"
   ],
   "metadata": {
    "collapsed": false,
    "pycharm": {
     "name": "#%%\n"
    }
   }
  },
  {
   "cell_type": "code",
   "execution_count": 46,
   "outputs": [],
   "source": [
    "def write_recommendations_to_file(recommendations_dict, filename):\n",
    "    # Write popularity dict to a file\n",
    "    # TODO: This must be generated using recommend.csv\n",
    "    with open(filename, \"w\") as f:\n",
    "        for user_id, recommendations in recommendations_dict.items():\n",
    "            assert len(recommendations) == N_RECOMMENDATIONS\n",
    "            f.write(f\"{user_id},{','.join(map(str, recommendations))}\\n\")\n",
    "\n",
    "write_recommendations_to_file(recommendations_dict, \"recommendations.csv\")"
   ],
   "metadata": {
    "collapsed": false,
    "pycharm": {
     "name": "#%%\n"
    }
   }
  },
  {
   "cell_type": "code",
   "execution_count": 63,
   "outputs": [
    {
     "name": "stdout",
     "output_type": "stream",
     "text": [
      "Hit rate: 0.06196239628530106\n"
     ]
    }
   ],
   "source": [
    "def calculate_hitrate(recommender_lambda):\n",
    "    # Calculate HitRate@10\n",
    "    hits = 0\n",
    "    misses = 0\n",
    "\n",
    "    # iterate over user_ids in test_data\n",
    "    for user_id in test_data.user_id.unique():\n",
    "        # get the recommendations for this user\n",
    "        item_purchased_by_user = test_data[test_data[\"user_id\"] == user_id][\"product_id\"].values[0]\n",
    "        recommendations = recommender_lambda(user_id)\n",
    "\n",
    "        if item_purchased_by_user in recommendations:\n",
    "            hits += 1\n",
    "        else:\n",
    "            misses += 1\n",
    "\n",
    "    total = hits + misses\n",
    "    hit_rate = hits / total\n",
    "    return hit_rate\n",
    "\n",
    "hit_rate = calculate_hitrate(lambda user_id: recommendations_dict[user_id])\n",
    "print(f\"Hit rate: {hit_rate}\")"
   ],
   "metadata": {
    "collapsed": false,
    "pycharm": {
     "name": "#%%\n"
    }
   }
  },
  {
   "cell_type": "code",
   "execution_count": 64,
   "outputs": [
    {
     "name": "stdout",
     "output_type": "stream",
     "text": [
      "Hit rate: 0.05815635228743244\n"
     ]
    }
   ],
   "source": [
    "# Compare this to the popularity recommender\n",
    "top10_list = list(get_top_n_purchases(dataset, N_RECOMMENDATIONS)[\"product_id\"])\n",
    "hit_rate = calculate_hitrate(lambda user_id: top10_list)\n",
    "print(f\"Hit rate: {hit_rate}\")"
   ],
   "metadata": {
    "collapsed": false,
    "pycharm": {
     "name": "#%%\n"
    }
   }
  },
  {
   "cell_type": "markdown",
   "source": [
    "# Sources\n",
    "Srivastava, S. (2020, August 9). Making recommendations using association rules (R Programming). Medium; Towards Data Science. https://towardsdatascience.com/making-recommendations-using-association-rules-r-programming-1fd891dc8d2e\n",
    "\n",
    "Should I Follow the Crowd? | The 41st International ACM SIGIR Conference on Research & Development in Information Retrieval. (2018). ACM Conferences. https://dl.acm.org/doi/pdf/10.1145/3209978.3210014\n",
    "\n",
    "Bhatia, R. (2019, March 18). Recommendation System Evaluation Metrics - Rishabh Bhatia - Medium. Medium; Medium. https://medium.com/@rishabhbhatia315/recommendation-system-evaluation-metrics-3f6739288870\n",
    "\n",
    "How to split train/test in recommender systems. (2020, December 25). Answerbun. https://answerbun.com/data-science/how-to-split-train-test-in-recommender-systems/"
   ],
   "metadata": {
    "collapsed": false,
    "pycharm": {
     "name": "#%% md\n"
    }
   }
  }
 ],
 "metadata": {
  "kernelspec": {
   "display_name": "Python 3",
   "language": "python",
   "name": "python3"
  },
  "language_info": {
   "codemirror_mode": {
    "name": "ipython",
    "version": 2
   },
   "file_extension": ".py",
   "mimetype": "text/x-python",
   "name": "python",
   "nbconvert_exporter": "python",
   "pygments_lexer": "ipython2",
   "version": "2.7.6"
  }
 },
 "nbformat": 4,
 "nbformat_minor": 0
}